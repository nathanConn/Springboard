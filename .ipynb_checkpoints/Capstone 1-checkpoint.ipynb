{
 "cells": [
  {
   "cell_type": "code",
   "execution_count": 2,
   "metadata": {},
   "outputs": [],
   "source": [
    "import pandas as pd\n",
    "import numpy as np\n",
    "import scipy as sp\n",
    "import json\n",
    "from pandas.io.json import json_normalize\n",
    "import matplotlib.pyplot as plt\n",
    "from collections import Counter\n",
    "from sklearn.preprocessing import OneHotEncoder\n",
    "import seaborn as sns\n",
    "from sklearn.model_selection import train_test_split\n",
    "from sklearn.ensemble import RandomForestClassifier\n",
    "from sklearn import metrics"
   ]
  },
  {
   "cell_type": "code",
   "execution_count": 3,
   "metadata": {},
   "outputs": [
    {
     "data": {
      "text/html": [
       "<div>\n",
       "<style scoped>\n",
       "    .dataframe tbody tr th:only-of-type {\n",
       "        vertical-align: middle;\n",
       "    }\n",
       "\n",
       "    .dataframe tbody tr th {\n",
       "        vertical-align: top;\n",
       "    }\n",
       "\n",
       "    .dataframe thead th {\n",
       "        text-align: right;\n",
       "    }\n",
       "</style>\n",
       "<table border=\"1\" class=\"dataframe\">\n",
       "  <thead>\n",
       "    <tr style=\"text-align: right;\">\n",
       "      <th></th>\n",
       "      <th>match_id</th>\n",
       "      <th>r1_hero</th>\n",
       "      <th>r1_level</th>\n",
       "      <th>r1_xp</th>\n",
       "      <th>r1_gold</th>\n",
       "      <th>r1_lh</th>\n",
       "      <th>r1_kills</th>\n",
       "      <th>r1_deaths</th>\n",
       "      <th>r1_items</th>\n",
       "      <th>r2_hero</th>\n",
       "      <th>...</th>\n",
       "      <th>dire_tpscroll_count</th>\n",
       "      <th>dire_boots_count</th>\n",
       "      <th>dire_ward_observer_count</th>\n",
       "      <th>dire_ward_sentry_count</th>\n",
       "      <th>dire_first_ward_time</th>\n",
       "      <th>dire_total_gold</th>\n",
       "      <th>dire_total_xp</th>\n",
       "      <th>dire_total_kills</th>\n",
       "      <th>dire_total_deaths</th>\n",
       "      <th>radiant_win</th>\n",
       "    </tr>\n",
       "  </thead>\n",
       "  <tbody>\n",
       "    <tr>\n",
       "      <th>0</th>\n",
       "      <td>1</td>\n",
       "      <td>44</td>\n",
       "      <td>1</td>\n",
       "      <td>1448</td>\n",
       "      <td>1163</td>\n",
       "      <td>14</td>\n",
       "      <td>0</td>\n",
       "      <td>0</td>\n",
       "      <td>7</td>\n",
       "      <td>97</td>\n",
       "      <td>...</td>\n",
       "      <td>0</td>\n",
       "      <td>2</td>\n",
       "      <td>0</td>\n",
       "      <td>0</td>\n",
       "      <td>NaN</td>\n",
       "      <td>4348</td>\n",
       "      <td>6419</td>\n",
       "      <td>0</td>\n",
       "      <td>0</td>\n",
       "      <td>1</td>\n",
       "    </tr>\n",
       "    <tr>\n",
       "      <th>1</th>\n",
       "      <td>2</td>\n",
       "      <td>77</td>\n",
       "      <td>1</td>\n",
       "      <td>1311</td>\n",
       "      <td>1809</td>\n",
       "      <td>31</td>\n",
       "      <td>0</td>\n",
       "      <td>0</td>\n",
       "      <td>6</td>\n",
       "      <td>47</td>\n",
       "      <td>...</td>\n",
       "      <td>2</td>\n",
       "      <td>1</td>\n",
       "      <td>3</td>\n",
       "      <td>2</td>\n",
       "      <td>-9.0</td>\n",
       "      <td>3989</td>\n",
       "      <td>5115</td>\n",
       "      <td>0</td>\n",
       "      <td>2</td>\n",
       "      <td>0</td>\n",
       "    </tr>\n",
       "    <tr>\n",
       "      <th>2</th>\n",
       "      <td>3</td>\n",
       "      <td>66</td>\n",
       "      <td>2</td>\n",
       "      <td>1477</td>\n",
       "      <td>1367</td>\n",
       "      <td>25</td>\n",
       "      <td>0</td>\n",
       "      <td>0</td>\n",
       "      <td>7</td>\n",
       "      <td>22</td>\n",
       "      <td>...</td>\n",
       "      <td>4</td>\n",
       "      <td>2</td>\n",
       "      <td>2</td>\n",
       "      <td>0</td>\n",
       "      <td>18.0</td>\n",
       "      <td>5096</td>\n",
       "      <td>6007</td>\n",
       "      <td>1</td>\n",
       "      <td>1</td>\n",
       "      <td>1</td>\n",
       "    </tr>\n",
       "    <tr>\n",
       "      <th>3</th>\n",
       "      <td>4</td>\n",
       "      <td>5</td>\n",
       "      <td>0</td>\n",
       "      <td>697</td>\n",
       "      <td>807</td>\n",
       "      <td>8</td>\n",
       "      <td>0</td>\n",
       "      <td>0</td>\n",
       "      <td>10</td>\n",
       "      <td>53</td>\n",
       "      <td>...</td>\n",
       "      <td>3</td>\n",
       "      <td>1</td>\n",
       "      <td>0</td>\n",
       "      <td>0</td>\n",
       "      <td>NaN</td>\n",
       "      <td>4907</td>\n",
       "      <td>5937</td>\n",
       "      <td>1</td>\n",
       "      <td>1</td>\n",
       "      <td>0</td>\n",
       "    </tr>\n",
       "    <tr>\n",
       "      <th>4</th>\n",
       "      <td>5</td>\n",
       "      <td>102</td>\n",
       "      <td>1</td>\n",
       "      <td>962</td>\n",
       "      <td>1087</td>\n",
       "      <td>11</td>\n",
       "      <td>0</td>\n",
       "      <td>0</td>\n",
       "      <td>6</td>\n",
       "      <td>98</td>\n",
       "      <td>...</td>\n",
       "      <td>2</td>\n",
       "      <td>4</td>\n",
       "      <td>1</td>\n",
       "      <td>0</td>\n",
       "      <td>NaN</td>\n",
       "      <td>5471</td>\n",
       "      <td>5931</td>\n",
       "      <td>2</td>\n",
       "      <td>1</td>\n",
       "      <td>0</td>\n",
       "    </tr>\n",
       "  </tbody>\n",
       "</table>\n",
       "<p>5 rows × 110 columns</p>\n",
       "</div>"
      ],
      "text/plain": [
       "   match_id  r1_hero  r1_level  r1_xp  r1_gold  r1_lh  r1_kills  r1_deaths  \\\n",
       "0         1       44         1   1448     1163     14         0          0   \n",
       "1         2       77         1   1311     1809     31         0          0   \n",
       "2         3       66         2   1477     1367     25         0          0   \n",
       "3         4        5         0    697      807      8         0          0   \n",
       "4         5      102         1    962     1087     11         0          0   \n",
       "\n",
       "   r1_items  r2_hero  ...  dire_tpscroll_count  dire_boots_count  \\\n",
       "0         7       97  ...                    0                 2   \n",
       "1         6       47  ...                    2                 1   \n",
       "2         7       22  ...                    4                 2   \n",
       "3        10       53  ...                    3                 1   \n",
       "4         6       98  ...                    2                 4   \n",
       "\n",
       "   dire_ward_observer_count  dire_ward_sentry_count  dire_first_ward_time  \\\n",
       "0                         0                       0                   NaN   \n",
       "1                         3                       2                  -9.0   \n",
       "2                         2                       0                  18.0   \n",
       "3                         0                       0                   NaN   \n",
       "4                         1                       0                   NaN   \n",
       "\n",
       "   dire_total_gold  dire_total_xp  dire_total_kills  dire_total_deaths  \\\n",
       "0             4348           6419                 0                  0   \n",
       "1             3989           5115                 0                  2   \n",
       "2             5096           6007                 1                  1   \n",
       "3             4907           5937                 1                  1   \n",
       "4             5471           5931                 2                  1   \n",
       "\n",
       "   radiant_win  \n",
       "0            1  \n",
       "1            0  \n",
       "2            1  \n",
       "3            0  \n",
       "4            0  \n",
       "\n",
       "[5 rows x 110 columns]"
      ]
     },
     "execution_count": 3,
     "metadata": {},
     "output_type": "execute_result"
    }
   ],
   "source": [
    "#import training set\n",
    "df = pd.read_csv('/Users/Nathan/Springboard/dota2.training.data.csv')\n",
    "\n",
    "df.head()"
   ]
  },
  {
   "cell_type": "code",
   "execution_count": 4,
   "metadata": {},
   "outputs": [
    {
     "name": "stdout",
     "output_type": "stream",
     "text": [
      "match_id\n",
      "r1_hero\n",
      "r1_level\n",
      "r1_xp\n",
      "r1_gold\n",
      "r1_lh\n",
      "r1_kills\n",
      "r1_deaths\n",
      "r1_items\n",
      "r2_hero\n",
      "r2_level\n",
      "r2_xp\n",
      "r2_gold\n",
      "r2_lh\n",
      "r2_kills\n",
      "r2_deaths\n",
      "r2_items\n",
      "r3_hero\n",
      "r3_level\n",
      "r3_xp\n",
      "r3_gold\n",
      "r3_lh\n",
      "r3_kills\n",
      "r3_deaths\n",
      "r3_items\n",
      "r4_hero\n",
      "r4_level\n",
      "r4_xp\n",
      "r4_gold\n",
      "r4_lh\n",
      "r4_kills\n",
      "r4_deaths\n",
      "r4_items\n",
      "r5_hero\n",
      "r5_level\n",
      "r5_xp\n",
      "r5_gold\n",
      "r5_lh\n",
      "r5_kills\n",
      "r5_deaths\n",
      "r5_items\n",
      "d1_hero\n",
      "d1_level\n",
      "d1_xp\n",
      "d1_gold\n",
      "d1_lh\n",
      "d1_kills\n",
      "d1_deaths\n",
      "d1_items\n",
      "d2_hero\n",
      "d2_level\n",
      "d2_xp\n",
      "d2_gold\n",
      "d2_lh\n",
      "d2_kills\n",
      "d2_deaths\n",
      "d2_items\n",
      "d3_hero\n",
      "d3_level\n",
      "d3_xp\n",
      "d3_gold\n",
      "d3_lh\n",
      "d3_kills\n",
      "d3_deaths\n",
      "d3_items\n",
      "d4_hero\n",
      "d4_level\n",
      "d4_xp\n",
      "d4_gold\n",
      "d4_lh\n",
      "d4_kills\n",
      "d4_deaths\n",
      "d4_items\n",
      "d5_hero\n",
      "d5_level\n",
      "d5_xp\n",
      "d5_gold\n",
      "d5_lh\n",
      "d5_kills\n",
      "d5_deaths\n",
      "d5_items\n",
      "first_blood_time\n",
      "first_blood_team\n",
      "first_blood_player1\n",
      "first_blood_player2\n",
      "radiant_bottle_time\n",
      "radiant_courier_time\n",
      "radiant_flying_courier_time\n",
      "radiant_tpscroll_count\n",
      "radiant_boots_count\n",
      "radiant_ward_observer_count\n",
      "radiant_ward_sentry_count\n",
      "radiant_first_ward_time\n",
      "radiant_total_gold\n",
      "radiant_total_xp\n",
      "radiant_total_kills\n",
      "radiant_total_deaths\n",
      "dire_bottle_time\n",
      "dire_courier_time\n",
      "dire_flying_courier_time\n",
      "dire_tpscroll_count\n",
      "dire_boots_count\n",
      "dire_ward_observer_count\n",
      "dire_ward_sentry_count\n",
      "dire_first_ward_time\n",
      "dire_total_gold\n",
      "dire_total_xp\n",
      "dire_total_kills\n",
      "dire_total_deaths\n",
      "radiant_win\n"
     ]
    }
   ],
   "source": [
    "#print column names\n",
    "for col in df.columns:\n",
    "    print(col)"
   ]
  },
  {
   "cell_type": "code",
   "execution_count": 5,
   "metadata": {
    "scrolled": true
   },
   "outputs": [
    {
     "data": {
      "text/html": [
       "<div>\n",
       "<style scoped>\n",
       "    .dataframe tbody tr th:only-of-type {\n",
       "        vertical-align: middle;\n",
       "    }\n",
       "\n",
       "    .dataframe tbody tr th {\n",
       "        vertical-align: top;\n",
       "    }\n",
       "\n",
       "    .dataframe thead th {\n",
       "        text-align: right;\n",
       "    }\n",
       "</style>\n",
       "<table border=\"1\" class=\"dataframe\">\n",
       "  <thead>\n",
       "    <tr style=\"text-align: right;\">\n",
       "      <th></th>\n",
       "      <th>npc_dota_hero_antimage</th>\n",
       "      <th>npc_dota_hero_axe</th>\n",
       "      <th>npc_dota_hero_bane</th>\n",
       "      <th>npc_dota_hero_bloodseeker</th>\n",
       "      <th>npc_dota_hero_crystal_maiden</th>\n",
       "      <th>npc_dota_hero_drow_ranger</th>\n",
       "      <th>npc_dota_hero_earthshaker</th>\n",
       "      <th>npc_dota_hero_juggernaut</th>\n",
       "      <th>npc_dota_hero_mirana</th>\n",
       "      <th>npc_dota_hero_morphling</th>\n",
       "      <th>...</th>\n",
       "      <th>npc_dota_hero_terrorblade</th>\n",
       "      <th>npc_dota_hero_phoenix</th>\n",
       "      <th>npc_dota_hero_oracle</th>\n",
       "      <th>npc_dota_hero_winter_wyvern</th>\n",
       "      <th>npc_dota_hero_arc_warden</th>\n",
       "      <th>npc_dota_hero_monkey_king</th>\n",
       "      <th>npc_dota_hero_dark_willow</th>\n",
       "      <th>npc_dota_hero_pangolier</th>\n",
       "      <th>npc_dota_hero_grimstroke</th>\n",
       "      <th>npc_dota_hero_mars</th>\n",
       "    </tr>\n",
       "  </thead>\n",
       "  <tbody>\n",
       "    <tr>\n",
       "      <th>agi_gain</th>\n",
       "      <td>3.2</td>\n",
       "      <td>2.2</td>\n",
       "      <td>2.6</td>\n",
       "      <td>3.5</td>\n",
       "      <td>1.6</td>\n",
       "      <td>2.8</td>\n",
       "      <td>1.4</td>\n",
       "      <td>2.8</td>\n",
       "      <td>3.7</td>\n",
       "      <td>4.3</td>\n",
       "      <td>...</td>\n",
       "      <td>4.8</td>\n",
       "      <td>1.3</td>\n",
       "      <td>1.7</td>\n",
       "      <td>1.9</td>\n",
       "      <td>2.4</td>\n",
       "      <td>3.7</td>\n",
       "      <td>1.6</td>\n",
       "      <td>3.2</td>\n",
       "      <td>1.9</td>\n",
       "      <td>1.9</td>\n",
       "    </tr>\n",
       "    <tr>\n",
       "      <th>attack_range</th>\n",
       "      <td>150</td>\n",
       "      <td>150</td>\n",
       "      <td>400</td>\n",
       "      <td>150</td>\n",
       "      <td>600</td>\n",
       "      <td>625</td>\n",
       "      <td>150</td>\n",
       "      <td>150</td>\n",
       "      <td>630</td>\n",
       "      <td>350</td>\n",
       "      <td>...</td>\n",
       "      <td>150</td>\n",
       "      <td>500</td>\n",
       "      <td>620</td>\n",
       "      <td>425</td>\n",
       "      <td>625</td>\n",
       "      <td>300</td>\n",
       "      <td>475</td>\n",
       "      <td>150</td>\n",
       "      <td>550</td>\n",
       "      <td>250</td>\n",
       "    </tr>\n",
       "    <tr>\n",
       "      <th>attack_rate</th>\n",
       "      <td>1.4</td>\n",
       "      <td>1.7</td>\n",
       "      <td>1.7</td>\n",
       "      <td>1.7</td>\n",
       "      <td>1.7</td>\n",
       "      <td>1.7</td>\n",
       "      <td>1.7</td>\n",
       "      <td>1.4</td>\n",
       "      <td>1.7</td>\n",
       "      <td>1.5</td>\n",
       "      <td>...</td>\n",
       "      <td>1.5</td>\n",
       "      <td>1.7</td>\n",
       "      <td>1.4</td>\n",
       "      <td>1.7</td>\n",
       "      <td>1.7</td>\n",
       "      <td>1.7</td>\n",
       "      <td>1.3</td>\n",
       "      <td>1.7</td>\n",
       "      <td>1.7</td>\n",
       "      <td>1.8</td>\n",
       "    </tr>\n",
       "    <tr>\n",
       "      <th>attack_type</th>\n",
       "      <td>Melee</td>\n",
       "      <td>Melee</td>\n",
       "      <td>Ranged</td>\n",
       "      <td>Melee</td>\n",
       "      <td>Ranged</td>\n",
       "      <td>Ranged</td>\n",
       "      <td>Melee</td>\n",
       "      <td>Melee</td>\n",
       "      <td>Ranged</td>\n",
       "      <td>Ranged</td>\n",
       "      <td>...</td>\n",
       "      <td>Melee</td>\n",
       "      <td>Ranged</td>\n",
       "      <td>Ranged</td>\n",
       "      <td>Ranged</td>\n",
       "      <td>Ranged</td>\n",
       "      <td>Melee</td>\n",
       "      <td>Ranged</td>\n",
       "      <td>Melee</td>\n",
       "      <td>Ranged</td>\n",
       "      <td>Melee</td>\n",
       "    </tr>\n",
       "    <tr>\n",
       "      <th>base_agi</th>\n",
       "      <td>24</td>\n",
       "      <td>20</td>\n",
       "      <td>23</td>\n",
       "      <td>24</td>\n",
       "      <td>16</td>\n",
       "      <td>29</td>\n",
       "      <td>12</td>\n",
       "      <td>36</td>\n",
       "      <td>18</td>\n",
       "      <td>24</td>\n",
       "      <td>...</td>\n",
       "      <td>22</td>\n",
       "      <td>12</td>\n",
       "      <td>15</td>\n",
       "      <td>16</td>\n",
       "      <td>15</td>\n",
       "      <td>22</td>\n",
       "      <td>18</td>\n",
       "      <td>18</td>\n",
       "      <td>18</td>\n",
       "      <td>20</td>\n",
       "    </tr>\n",
       "  </tbody>\n",
       "</table>\n",
       "<p>5 rows × 117 columns</p>\n",
       "</div>"
      ],
      "text/plain": [
       "             npc_dota_hero_antimage npc_dota_hero_axe npc_dota_hero_bane  \\\n",
       "agi_gain                        3.2               2.2                2.6   \n",
       "attack_range                    150               150                400   \n",
       "attack_rate                     1.4               1.7                1.7   \n",
       "attack_type                   Melee             Melee             Ranged   \n",
       "base_agi                         24                20                 23   \n",
       "\n",
       "             npc_dota_hero_bloodseeker npc_dota_hero_crystal_maiden  \\\n",
       "agi_gain                           3.5                          1.6   \n",
       "attack_range                       150                          600   \n",
       "attack_rate                        1.7                          1.7   \n",
       "attack_type                      Melee                       Ranged   \n",
       "base_agi                            24                           16   \n",
       "\n",
       "             npc_dota_hero_drow_ranger npc_dota_hero_earthshaker  \\\n",
       "agi_gain                           2.8                       1.4   \n",
       "attack_range                       625                       150   \n",
       "attack_rate                        1.7                       1.7   \n",
       "attack_type                     Ranged                     Melee   \n",
       "base_agi                            29                        12   \n",
       "\n",
       "             npc_dota_hero_juggernaut npc_dota_hero_mirana  \\\n",
       "agi_gain                          2.8                  3.7   \n",
       "attack_range                      150                  630   \n",
       "attack_rate                       1.4                  1.7   \n",
       "attack_type                     Melee               Ranged   \n",
       "base_agi                           36                   18   \n",
       "\n",
       "             npc_dota_hero_morphling  ... npc_dota_hero_terrorblade  \\\n",
       "agi_gain                         4.3  ...                       4.8   \n",
       "attack_range                     350  ...                       150   \n",
       "attack_rate                      1.5  ...                       1.5   \n",
       "attack_type                   Ranged  ...                     Melee   \n",
       "base_agi                          24  ...                        22   \n",
       "\n",
       "             npc_dota_hero_phoenix npc_dota_hero_oracle  \\\n",
       "agi_gain                       1.3                  1.7   \n",
       "attack_range                   500                  620   \n",
       "attack_rate                    1.7                  1.4   \n",
       "attack_type                 Ranged               Ranged   \n",
       "base_agi                        12                   15   \n",
       "\n",
       "             npc_dota_hero_winter_wyvern npc_dota_hero_arc_warden  \\\n",
       "agi_gain                             1.9                      2.4   \n",
       "attack_range                         425                      625   \n",
       "attack_rate                          1.7                      1.7   \n",
       "attack_type                       Ranged                   Ranged   \n",
       "base_agi                              16                       15   \n",
       "\n",
       "             npc_dota_hero_monkey_king npc_dota_hero_dark_willow  \\\n",
       "agi_gain                           3.7                       1.6   \n",
       "attack_range                       300                       475   \n",
       "attack_rate                        1.7                       1.3   \n",
       "attack_type                      Melee                    Ranged   \n",
       "base_agi                            22                        18   \n",
       "\n",
       "             npc_dota_hero_pangolier npc_dota_hero_grimstroke  \\\n",
       "agi_gain                         3.2                      1.9   \n",
       "attack_range                     150                      550   \n",
       "attack_rate                      1.7                      1.7   \n",
       "attack_type                    Melee                   Ranged   \n",
       "base_agi                          18                       18   \n",
       "\n",
       "             npc_dota_hero_mars  \n",
       "agi_gain                    1.9  \n",
       "attack_range                250  \n",
       "attack_rate                 1.8  \n",
       "attack_type               Melee  \n",
       "base_agi                     20  \n",
       "\n",
       "[5 rows x 117 columns]"
      ]
     },
     "execution_count": 5,
     "metadata": {},
     "output_type": "execute_result"
    }
   ],
   "source": [
    "#load in heroes JSON file and convert to df\n",
    "j = json.load((open('/Users/Nathan/Springboard/hero_names.json')))\n",
    "\n",
    "heroes_df = pd.read_json('/Users/Nathan/Springboard/hero_names.json')\n",
    "\n",
    "heroes_df.head()"
   ]
  },
  {
   "cell_type": "code",
   "execution_count": 6,
   "metadata": {},
   "outputs": [
    {
     "data": {
      "text/html": [
       "<div>\n",
       "<style scoped>\n",
       "    .dataframe tbody tr th:only-of-type {\n",
       "        vertical-align: middle;\n",
       "    }\n",
       "\n",
       "    .dataframe tbody tr th {\n",
       "        vertical-align: top;\n",
       "    }\n",
       "\n",
       "    .dataframe thead th {\n",
       "        text-align: right;\n",
       "    }\n",
       "</style>\n",
       "<table border=\"1\" class=\"dataframe\">\n",
       "  <thead>\n",
       "    <tr style=\"text-align: right;\">\n",
       "      <th></th>\n",
       "      <th>agi_gain</th>\n",
       "      <th>attack_range</th>\n",
       "      <th>attack_rate</th>\n",
       "      <th>attack_type</th>\n",
       "      <th>base_agi</th>\n",
       "      <th>base_armor</th>\n",
       "      <th>base_attack_max</th>\n",
       "      <th>base_attack_min</th>\n",
       "      <th>base_health</th>\n",
       "      <th>base_health_regen</th>\n",
       "      <th>...</th>\n",
       "      <th>int_gain</th>\n",
       "      <th>legs</th>\n",
       "      <th>localized_name</th>\n",
       "      <th>move_speed</th>\n",
       "      <th>name</th>\n",
       "      <th>primary_attr</th>\n",
       "      <th>projectile_speed</th>\n",
       "      <th>roles</th>\n",
       "      <th>str_gain</th>\n",
       "      <th>turn_rate</th>\n",
       "    </tr>\n",
       "  </thead>\n",
       "  <tbody>\n",
       "    <tr>\n",
       "      <th>npc_dota_hero_antimage</th>\n",
       "      <td>3.2</td>\n",
       "      <td>150</td>\n",
       "      <td>1.4</td>\n",
       "      <td>Melee</td>\n",
       "      <td>24</td>\n",
       "      <td>-1</td>\n",
       "      <td>33</td>\n",
       "      <td>29</td>\n",
       "      <td>200</td>\n",
       "      <td>0.25</td>\n",
       "      <td>...</td>\n",
       "      <td>1.8</td>\n",
       "      <td>2</td>\n",
       "      <td>Anti-Mage</td>\n",
       "      <td>310</td>\n",
       "      <td>npc_dota_hero_antimage</td>\n",
       "      <td>agi</td>\n",
       "      <td>0</td>\n",
       "      <td>[Carry, Escape, Nuker]</td>\n",
       "      <td>1.3</td>\n",
       "      <td>0.5</td>\n",
       "    </tr>\n",
       "    <tr>\n",
       "      <th>npc_dota_hero_axe</th>\n",
       "      <td>2.2</td>\n",
       "      <td>150</td>\n",
       "      <td>1.7</td>\n",
       "      <td>Melee</td>\n",
       "      <td>20</td>\n",
       "      <td>-2</td>\n",
       "      <td>28</td>\n",
       "      <td>24</td>\n",
       "      <td>200</td>\n",
       "      <td>2.75</td>\n",
       "      <td>...</td>\n",
       "      <td>1.6</td>\n",
       "      <td>2</td>\n",
       "      <td>Axe</td>\n",
       "      <td>295</td>\n",
       "      <td>npc_dota_hero_axe</td>\n",
       "      <td>str</td>\n",
       "      <td>900</td>\n",
       "      <td>[Initiator, Durable, Disabler, Jungler]</td>\n",
       "      <td>3.4</td>\n",
       "      <td>0.6</td>\n",
       "    </tr>\n",
       "    <tr>\n",
       "      <th>npc_dota_hero_bane</th>\n",
       "      <td>2.6</td>\n",
       "      <td>400</td>\n",
       "      <td>1.7</td>\n",
       "      <td>Ranged</td>\n",
       "      <td>23</td>\n",
       "      <td>1</td>\n",
       "      <td>41</td>\n",
       "      <td>35</td>\n",
       "      <td>200</td>\n",
       "      <td>None</td>\n",
       "      <td>...</td>\n",
       "      <td>2.6</td>\n",
       "      <td>4</td>\n",
       "      <td>Bane</td>\n",
       "      <td>305</td>\n",
       "      <td>npc_dota_hero_bane</td>\n",
       "      <td>int</td>\n",
       "      <td>900</td>\n",
       "      <td>[Support, Disabler, Nuker, Durable]</td>\n",
       "      <td>2.6</td>\n",
       "      <td>0.6</td>\n",
       "    </tr>\n",
       "    <tr>\n",
       "      <th>npc_dota_hero_bloodseeker</th>\n",
       "      <td>3.5</td>\n",
       "      <td>150</td>\n",
       "      <td>1.7</td>\n",
       "      <td>Melee</td>\n",
       "      <td>24</td>\n",
       "      <td>0</td>\n",
       "      <td>39</td>\n",
       "      <td>33</td>\n",
       "      <td>200</td>\n",
       "      <td>None</td>\n",
       "      <td>...</td>\n",
       "      <td>1.7</td>\n",
       "      <td>2</td>\n",
       "      <td>Bloodseeker</td>\n",
       "      <td>295</td>\n",
       "      <td>npc_dota_hero_bloodseeker</td>\n",
       "      <td>agi</td>\n",
       "      <td>900</td>\n",
       "      <td>[Carry, Disabler, Jungler, Nuker, Initiator]</td>\n",
       "      <td>2.7</td>\n",
       "      <td>0.5</td>\n",
       "    </tr>\n",
       "    <tr>\n",
       "      <th>npc_dota_hero_crystal_maiden</th>\n",
       "      <td>1.6</td>\n",
       "      <td>600</td>\n",
       "      <td>1.7</td>\n",
       "      <td>Ranged</td>\n",
       "      <td>16</td>\n",
       "      <td>0</td>\n",
       "      <td>36</td>\n",
       "      <td>30</td>\n",
       "      <td>200</td>\n",
       "      <td>None</td>\n",
       "      <td>...</td>\n",
       "      <td>3.3</td>\n",
       "      <td>2</td>\n",
       "      <td>Crystal Maiden</td>\n",
       "      <td>275</td>\n",
       "      <td>npc_dota_hero_crystal_maiden</td>\n",
       "      <td>int</td>\n",
       "      <td>900</td>\n",
       "      <td>[Support, Disabler, Nuker, Jungler]</td>\n",
       "      <td>2.2</td>\n",
       "      <td>0.5</td>\n",
       "    </tr>\n",
       "  </tbody>\n",
       "</table>\n",
       "<p>5 rows × 29 columns</p>\n",
       "</div>"
      ],
      "text/plain": [
       "                             agi_gain attack_range attack_rate attack_type  \\\n",
       "npc_dota_hero_antimage            3.2          150         1.4       Melee   \n",
       "npc_dota_hero_axe                 2.2          150         1.7       Melee   \n",
       "npc_dota_hero_bane                2.6          400         1.7      Ranged   \n",
       "npc_dota_hero_bloodseeker         3.5          150         1.7       Melee   \n",
       "npc_dota_hero_crystal_maiden      1.6          600         1.7      Ranged   \n",
       "\n",
       "                             base_agi base_armor base_attack_max  \\\n",
       "npc_dota_hero_antimage             24         -1              33   \n",
       "npc_dota_hero_axe                  20         -2              28   \n",
       "npc_dota_hero_bane                 23          1              41   \n",
       "npc_dota_hero_bloodseeker          24          0              39   \n",
       "npc_dota_hero_crystal_maiden       16          0              36   \n",
       "\n",
       "                             base_attack_min base_health base_health_regen  \\\n",
       "npc_dota_hero_antimage                    29         200              0.25   \n",
       "npc_dota_hero_axe                         24         200              2.75   \n",
       "npc_dota_hero_bane                        35         200              None   \n",
       "npc_dota_hero_bloodseeker                 33         200              None   \n",
       "npc_dota_hero_crystal_maiden              30         200              None   \n",
       "\n",
       "                              ... int_gain legs  localized_name move_speed  \\\n",
       "npc_dota_hero_antimage        ...      1.8    2       Anti-Mage        310   \n",
       "npc_dota_hero_axe             ...      1.6    2             Axe        295   \n",
       "npc_dota_hero_bane            ...      2.6    4            Bane        305   \n",
       "npc_dota_hero_bloodseeker     ...      1.7    2     Bloodseeker        295   \n",
       "npc_dota_hero_crystal_maiden  ...      3.3    2  Crystal Maiden        275   \n",
       "\n",
       "                                                      name primary_attr  \\\n",
       "npc_dota_hero_antimage              npc_dota_hero_antimage          agi   \n",
       "npc_dota_hero_axe                        npc_dota_hero_axe          str   \n",
       "npc_dota_hero_bane                      npc_dota_hero_bane          int   \n",
       "npc_dota_hero_bloodseeker        npc_dota_hero_bloodseeker          agi   \n",
       "npc_dota_hero_crystal_maiden  npc_dota_hero_crystal_maiden          int   \n",
       "\n",
       "                             projectile_speed  \\\n",
       "npc_dota_hero_antimage                      0   \n",
       "npc_dota_hero_axe                         900   \n",
       "npc_dota_hero_bane                        900   \n",
       "npc_dota_hero_bloodseeker                 900   \n",
       "npc_dota_hero_crystal_maiden              900   \n",
       "\n",
       "                                                                     roles  \\\n",
       "npc_dota_hero_antimage                              [Carry, Escape, Nuker]   \n",
       "npc_dota_hero_axe                  [Initiator, Durable, Disabler, Jungler]   \n",
       "npc_dota_hero_bane                     [Support, Disabler, Nuker, Durable]   \n",
       "npc_dota_hero_bloodseeker     [Carry, Disabler, Jungler, Nuker, Initiator]   \n",
       "npc_dota_hero_crystal_maiden           [Support, Disabler, Nuker, Jungler]   \n",
       "\n",
       "                             str_gain turn_rate  \n",
       "npc_dota_hero_antimage            1.3       0.5  \n",
       "npc_dota_hero_axe                 3.4       0.6  \n",
       "npc_dota_hero_bane                2.6       0.6  \n",
       "npc_dota_hero_bloodseeker         2.7       0.5  \n",
       "npc_dota_hero_crystal_maiden      2.2       0.5  \n",
       "\n",
       "[5 rows x 29 columns]"
      ]
     },
     "execution_count": 6,
     "metadata": {},
     "output_type": "execute_result"
    }
   ],
   "source": [
    "#transpose heroes df shape so that each row represents a single hero\n",
    "hero_df = heroes_df.transpose()\n",
    "\n",
    "hero_df.head()"
   ]
  },
  {
   "cell_type": "code",
   "execution_count": 7,
   "metadata": {},
   "outputs": [],
   "source": [
    "#placeholder definition as variations of this will be used often\n",
    "all_heroes = df[['r1_hero', 'r2_hero','r3_hero','r4_hero','r5_hero','d1_hero','d2_hero','d3_hero','d4_hero','d5_hero']]"
   ]
  },
  {
   "cell_type": "code",
   "execution_count": 8,
   "metadata": {},
   "outputs": [
    {
     "data": {
      "text/plain": [
       "1    13526\n",
       "2    10680\n",
       "3     5932\n",
       "4     7153\n",
       "5    14123\n",
       "dtype: int64"
      ]
     },
     "execution_count": 8,
     "metadata": {},
     "output_type": "execute_result"
    }
   ],
   "source": [
    "#calculate radiant team hero frequency\n",
    "r_heroes = df[['r1_hero', 'r2_hero','r3_hero','r4_hero','r5_hero']]\n",
    "\n",
    "r_hero_freq = r_heroes.apply(pd.value_counts).sum(axis=1,skipna = True)\n",
    "\n",
    "r_hero_freq.head()"
   ]
  },
  {
   "cell_type": "code",
   "execution_count": 9,
   "metadata": {},
   "outputs": [
    {
     "data": {
      "text/plain": [
       "1    6736\n",
       "2    4981\n",
       "3    2881\n",
       "4    3329\n",
       "5    7922\n",
       "dtype: int64"
      ]
     },
     "execution_count": 9,
     "metadata": {},
     "output_type": "execute_result"
    }
   ],
   "source": [
    "#radiant team hero frequency with win\n",
    "r_heroes_with_win = df[['r1_hero', 'r2_hero','r3_hero','r4_hero','r5_hero','radiant_win']]\n",
    "\n",
    "r_heroes_win_only = r_heroes_with_win[r_heroes_with_win['radiant_win'] > 0]\n",
    "\n",
    "r_heroes_win_only = r_heroes_win_only.drop(columns='radiant_win').apply(pd.value_counts).sum(axis=1,skipna = True)\n",
    "\n",
    "r_heroes_win_only.head()"
   ]
  },
  {
   "cell_type": "code",
   "execution_count": 10,
   "metadata": {},
   "outputs": [],
   "source": [
    "#radiant team hero win rate\n",
    "r_heroes_win_per = r_heroes_win_only.divide(r_hero_freq)"
   ]
  },
  {
   "cell_type": "code",
   "execution_count": 11,
   "metadata": {},
   "outputs": [
    {
     "data": {
      "text/plain": [
       "1    13864\n",
       "2    10565\n",
       "3     6099\n",
       "4     7050\n",
       "5    14061\n",
       "dtype: int64"
      ]
     },
     "execution_count": 11,
     "metadata": {},
     "output_type": "execute_result"
    }
   ],
   "source": [
    "#calculate dire team hero frequency\n",
    "d_heroes = df[['d1_hero','d2_hero','d3_hero','d4_hero','d5_hero']]\n",
    "d_hero_freq = d_heroes.apply(pd.value_counts).sum(axis=1,skipna = True)\n",
    "d_hero_freq.head()"
   ]
  },
  {
   "cell_type": "code",
   "execution_count": 12,
   "metadata": {},
   "outputs": [
    {
     "data": {
      "text/plain": [
       "1    6459\n",
       "2    4674\n",
       "3    2836\n",
       "4    3075\n",
       "5    7441\n",
       "dtype: int64"
      ]
     },
     "execution_count": 12,
     "metadata": {},
     "output_type": "execute_result"
    }
   ],
   "source": [
    "#dire team hero frequency with win\n",
    "d_heroes_with_win = df[['d1_hero','d2_hero','d3_hero','d4_hero','d5_hero','radiant_win']]\n",
    "\n",
    "d_heroes_win_only = d_heroes_with_win[d_heroes_with_win['radiant_win'] == 0]\n",
    "\n",
    "d_heroes_win_only = d_heroes_win_only.drop(columns='radiant_win').apply(pd.value_counts).sum(axis=1,skipna = True)\n",
    "\n",
    "d_heroes_win_only.head()"
   ]
  },
  {
   "cell_type": "code",
   "execution_count": 13,
   "metadata": {},
   "outputs": [],
   "source": [
    "#dire team hero win rate\n",
    "d_heroes_win_per = d_heroes_win_only.divide(d_hero_freq)"
   ]
  },
  {
   "cell_type": "code",
   "execution_count": 14,
   "metadata": {},
   "outputs": [
    {
     "data": {
      "text/plain": [
       "1    0.465883\n",
       "2    0.442404\n",
       "3    0.464994\n",
       "4    0.436170\n",
       "5    0.529194\n",
       "dtype: float64"
      ]
     },
     "execution_count": 14,
     "metadata": {},
     "output_type": "execute_result"
    }
   ],
   "source": [
    "d_heroes_win_per.head()"
   ]
  },
  {
   "cell_type": "code",
   "execution_count": 15,
   "metadata": {},
   "outputs": [
    {
     "data": {
      "text/plain": [
       "1    0.498004\n",
       "2    0.466386\n",
       "3    0.485671\n",
       "4    0.465399\n",
       "5    0.560929\n",
       "dtype: float64"
      ]
     },
     "execution_count": 15,
     "metadata": {},
     "output_type": "execute_result"
    }
   ],
   "source": [
    "r_heroes_win_per.head()"
   ]
  },
  {
   "cell_type": "code",
   "execution_count": 16,
   "metadata": {},
   "outputs": [
    {
     "data": {
      "text/plain": [
       "57     59.731539\n",
       "67     58.812932\n",
       "102    58.549115\n",
       "42     57.560472\n",
       "36     57.212145\n",
       "dtype: float64"
      ]
     },
     "execution_count": 16,
     "metadata": {},
     "output_type": "execute_result"
    }
   ],
   "source": [
    "#average radiant and dire team hero win rates for all hero win rate\n",
    "all_heroes_win_per = ((d_heroes_win_per + r_heroes_win_per)/2)*100\n",
    "\n",
    "sorted_hero_win_rates = all_heroes_win_per.sort_values(ascending=False)\n",
    "sorted_hero_win_rates.head()"
   ]
  },
  {
   "cell_type": "code",
   "execution_count": 17,
   "metadata": {},
   "outputs": [
    {
     "data": {
      "text/plain": [
       "0.5117442990984621"
      ]
     },
     "execution_count": 17,
     "metadata": {},
     "output_type": "execute_result"
    }
   ],
   "source": [
    "#radiant team win rate\n",
    "df['radiant_win'].mean()"
   ]
  },
  {
   "cell_type": "code",
   "execution_count": 18,
   "metadata": {},
   "outputs": [],
   "source": [
    "#mean total gold by radiant teams with win\n",
    "r_gold_win = df[['radiant_total_gold','radiant_win' ]]\n",
    "\n",
    "\n",
    "radiant_mean_gold_if_win = r_gold_win[r_gold_win['radiant_win'] ==1].mean()\n",
    "\n",
    "radiant_mean_gold_if_lose = r_gold_win[r_gold_win['radiant_win'] == 0].mean()"
   ]
  },
  {
   "cell_type": "code",
   "execution_count": 19,
   "metadata": {},
   "outputs": [],
   "source": [
    "#mean total gold by dire teams with win\n",
    "d_gold_win = df[['dire_total_gold','radiant_win' ]]\n",
    "\n",
    "dire_mean_gold_if_win = d_gold_win[d_gold_win['radiant_win'] ==0].mean()\n",
    "\n",
    "dire_mean_gold_if_lose = d_gold_win[d_gold_win['radiant_win'] ==1].mean()"
   ]
  },
  {
   "cell_type": "code",
   "execution_count": 20,
   "metadata": {},
   "outputs": [
    {
     "data": {
      "text/plain": [
       "5657.015217922237"
      ]
     },
     "execution_count": 20,
     "metadata": {},
     "output_type": "execute_result"
    }
   ],
   "source": [
    "mean_gold_if_win = (radiant_mean_gold_if_win[0] + dire_mean_gold_if_win[0])/2\n",
    "mean_gold_if_win"
   ]
  },
  {
   "cell_type": "code",
   "execution_count": 21,
   "metadata": {},
   "outputs": [
    {
     "data": {
      "text/plain": [
       "5361.932958443441"
      ]
     },
     "execution_count": 21,
     "metadata": {},
     "output_type": "execute_result"
    }
   ],
   "source": [
    "mean_gold_if_lose = (radiant_mean_gold_if_lose[0] + dire_mean_gold_if_lose[0])/2\n",
    "mean_gold_if_lose"
   ]
  },
  {
   "cell_type": "code",
   "execution_count": 22,
   "metadata": {},
   "outputs": [],
   "source": [
    "#mean total xp by radiant teams with win\n",
    "r_xp_win = df[['radiant_total_xp','radiant_win' ]]\n",
    "radiant_mean_xp_if_win = r_xp_win[r_xp_win['radiant_win'] == 1].mean()\n",
    "radiant_mean_xp_if_lose = r_xp_win[r_xp_win['radiant_win'] == 0].mean()"
   ]
  },
  {
   "cell_type": "code",
   "execution_count": 23,
   "metadata": {},
   "outputs": [],
   "source": [
    "#mean total gold by dire teams with win\n",
    "d_xp_win = df[['dire_total_xp','radiant_win' ]]\n",
    "dire_mean_xp_if_win = d_xp_win[d_xp_win['radiant_win'] == 0].mean()\n",
    "dire_mean_xp_if_lose = d_xp_win[d_xp_win['radiant_win'] == 1].mean()"
   ]
  },
  {
   "cell_type": "code",
   "execution_count": 24,
   "metadata": {},
   "outputs": [
    {
     "data": {
      "text/plain": [
       "6358.5066970796925"
      ]
     },
     "execution_count": 24,
     "metadata": {},
     "output_type": "execute_result"
    }
   ],
   "source": [
    "mean_xp_if_win = (radiant_mean_xp_if_win[0] + dire_mean_xp_if_win[0])/2\n",
    "mean_xp_if_win"
   ]
  },
  {
   "cell_type": "code",
   "execution_count": 25,
   "metadata": {},
   "outputs": [
    {
     "data": {
      "text/plain": [
       "6146.367340016961"
      ]
     },
     "execution_count": 25,
     "metadata": {},
     "output_type": "execute_result"
    }
   ],
   "source": [
    "mean_xp_if_lose = (radiant_mean_xp_if_lose[0] + dire_mean_xp_if_lose[0])/2\n",
    "mean_xp_if_lose"
   ]
  },
  {
   "cell_type": "code",
   "execution_count": 26,
   "metadata": {},
   "outputs": [],
   "source": [
    "#mean total items by radiant teams with win\n",
    "r_items_win = df[['r1_items','r2_items','r3_items','r4_items','r5_items','radiant_win']]\n",
    "radiant_mean_items_if_win = r_items_win[r_items_win['radiant_win'] == 1].mean()\n",
    "radiant_mean_items_if_lose = r_items_win[r_items_win['radiant_win'] == 0].mean()"
   ]
  },
  {
   "cell_type": "code",
   "execution_count": 27,
   "metadata": {},
   "outputs": [],
   "source": [
    "#mean total items by dire teams with win\n",
    "d_items_win = df[['d1_items','d2_items','d3_items','d4_items','d5_items','radiant_win']]\n",
    "dire_mean_items_if_win = d_items_win[d_items_win['radiant_win'] == 0].mean()\n",
    "dire_mean_items_if_lose = d_items_win[d_items_win['radiant_win'] == 1].mean()"
   ]
  },
  {
   "cell_type": "code",
   "execution_count": 28,
   "metadata": {},
   "outputs": [
    {
     "data": {
      "text/plain": [
       "7.756156597911167"
      ]
     },
     "execution_count": 28,
     "metadata": {},
     "output_type": "execute_result"
    }
   ],
   "source": [
    "mean_items_if_win = (radiant_mean_items_if_win[0] + dire_mean_items_if_win[0])/2\n",
    "mean_items_if_win"
   ]
  },
  {
   "cell_type": "code",
   "execution_count": 29,
   "metadata": {},
   "outputs": [
    {
     "data": {
      "text/plain": [
       "7.549559562842598"
      ]
     },
     "execution_count": 29,
     "metadata": {},
     "output_type": "execute_result"
    }
   ],
   "source": [
    "mean_items_if_lose = (radiant_mean_items_if_lose[0] + dire_mean_items_if_lose[0])/2\n",
    "mean_items_if_lose"
   ]
  },
  {
   "cell_type": "code",
   "execution_count": 30,
   "metadata": {},
   "outputs": [],
   "source": [
    "#slice radiant time at first bottle item purchase with win, drop na to subset matches with radiant bottle purchase only\n",
    "r_bottle = df[['radiant_bottle_time', 'radiant_win']].dropna()"
   ]
  },
  {
   "cell_type": "code",
   "execution_count": 31,
   "metadata": {},
   "outputs": [
    {
     "data": {
      "text/html": [
       "<div>\n",
       "<style scoped>\n",
       "    .dataframe tbody tr th:only-of-type {\n",
       "        vertical-align: middle;\n",
       "    }\n",
       "\n",
       "    .dataframe tbody tr th {\n",
       "        vertical-align: top;\n",
       "    }\n",
       "\n",
       "    .dataframe thead th {\n",
       "        text-align: right;\n",
       "    }\n",
       "</style>\n",
       "<table border=\"1\" class=\"dataframe\">\n",
       "  <thead>\n",
       "    <tr style=\"text-align: right;\">\n",
       "      <th></th>\n",
       "      <th>radiant_bottle_time</th>\n",
       "    </tr>\n",
       "    <tr>\n",
       "      <th>radiant_win</th>\n",
       "      <th></th>\n",
       "    </tr>\n",
       "  </thead>\n",
       "  <tbody>\n",
       "    <tr>\n",
       "      <th>0</th>\n",
       "      <td>118.047764</td>\n",
       "    </tr>\n",
       "    <tr>\n",
       "      <th>1</th>\n",
       "      <td>114.345904</td>\n",
       "    </tr>\n",
       "  </tbody>\n",
       "</table>\n",
       "</div>"
      ],
      "text/plain": [
       "             radiant_bottle_time\n",
       "radiant_win                     \n",
       "0                     118.047764\n",
       "1                     114.345904"
      ]
     },
     "execution_count": 31,
     "metadata": {},
     "output_type": "execute_result"
    }
   ],
   "source": [
    "#mean time of radiant bottle purchase with win vs. loss\n",
    "r_bottle.groupby(['radiant_win']).mean()"
   ]
  },
  {
   "cell_type": "code",
   "execution_count": 32,
   "metadata": {},
   "outputs": [
    {
     "data": {
      "text/plain": [
       "radiant_win\n",
       "0    64275\n",
       "1    67802\n",
       "dtype: int64"
      ]
     },
     "execution_count": 32,
     "metadata": {},
     "output_type": "execute_result"
    }
   ],
   "source": [
    "#count of matches won by radiant team with bottle purchase\n",
    "r_bottle_win = r_bottle.groupby(['radiant_win']).size()\n",
    "r_bottle_win"
   ]
  },
  {
   "cell_type": "code",
   "execution_count": 33,
   "metadata": {},
   "outputs": [
    {
     "data": {
      "text/plain": [
       "0.5133520597833082"
      ]
     },
     "execution_count": 33,
     "metadata": {},
     "output_type": "execute_result"
    }
   ],
   "source": [
    "#radiant win rate with bottle item\n",
    "r_bottle_win_per = r_bottle_win[1] / (r_bottle_win[0] + r_bottle_win[1])\n",
    "r_bottle_win_per"
   ]
  },
  {
   "cell_type": "code",
   "execution_count": 34,
   "metadata": {},
   "outputs": [],
   "source": [
    "#slice dire time at first bottle item purchase with win, drop na to subset matches with dire bottle purchase only\n",
    "d_bottle = df[['dire_bottle_time', 'radiant_win']].dropna()"
   ]
  },
  {
   "cell_type": "code",
   "execution_count": 35,
   "metadata": {},
   "outputs": [
    {
     "data": {
      "text/html": [
       "<div>\n",
       "<style scoped>\n",
       "    .dataframe tbody tr th:only-of-type {\n",
       "        vertical-align: middle;\n",
       "    }\n",
       "\n",
       "    .dataframe tbody tr th {\n",
       "        vertical-align: top;\n",
       "    }\n",
       "\n",
       "    .dataframe thead th {\n",
       "        text-align: right;\n",
       "    }\n",
       "</style>\n",
       "<table border=\"1\" class=\"dataframe\">\n",
       "  <thead>\n",
       "    <tr style=\"text-align: right;\">\n",
       "      <th></th>\n",
       "      <th>dire_bottle_time</th>\n",
       "    </tr>\n",
       "    <tr>\n",
       "      <th>radiant_win</th>\n",
       "      <th></th>\n",
       "    </tr>\n",
       "  </thead>\n",
       "  <tbody>\n",
       "    <tr>\n",
       "      <th>0</th>\n",
       "      <td>115.298575</td>\n",
       "    </tr>\n",
       "    <tr>\n",
       "      <th>1</th>\n",
       "      <td>117.918082</td>\n",
       "    </tr>\n",
       "  </tbody>\n",
       "</table>\n",
       "</div>"
      ],
      "text/plain": [
       "             dire_bottle_time\n",
       "radiant_win                  \n",
       "0                  115.298575\n",
       "1                  117.918082"
      ]
     },
     "execution_count": 35,
     "metadata": {},
     "output_type": "execute_result"
    }
   ],
   "source": [
    "#mean time of dire bottle purchase with win vs. loss\n",
    "d_bottle.groupby(['radiant_win']).mean()"
   ]
  },
  {
   "cell_type": "code",
   "execution_count": 36,
   "metadata": {},
   "outputs": [
    {
     "data": {
      "text/plain": [
       "radiant_win\n",
       "0    64627\n",
       "1    66982\n",
       "dtype: int64"
      ]
     },
     "execution_count": 36,
     "metadata": {},
     "output_type": "execute_result"
    }
   ],
   "source": [
    "#count of matches won by dire team with bottle purchase\n",
    "d_bottle_win = d_bottle.groupby(['radiant_win']).size()\n",
    "d_bottle_win"
   ]
  },
  {
   "cell_type": "code",
   "execution_count": 37,
   "metadata": {},
   "outputs": [
    {
     "data": {
      "text/plain": [
       "0.49105304348486806"
      ]
     },
     "execution_count": 37,
     "metadata": {},
     "output_type": "execute_result"
    }
   ],
   "source": [
    "#dire win rate with bottle item\n",
    "d_bottle_win_per = d_bottle_win[0] / (d_bottle_win[0] + d_bottle_win[1])\n",
    "d_bottle_win_per"
   ]
  },
  {
   "cell_type": "code",
   "execution_count": 38,
   "metadata": {},
   "outputs": [
    {
     "data": {
      "text/plain": [
       "0.5022025516340881"
      ]
     },
     "execution_count": 38,
     "metadata": {},
     "output_type": "execute_result"
    }
   ],
   "source": [
    "#overall bottle item win rate\n",
    "bottle_win_per = (r_bottle_win_per + d_bottle_win_per)/2\n",
    "bottle_win_per"
   ]
  },
  {
   "cell_type": "code",
   "execution_count": 39,
   "metadata": {},
   "outputs": [
    {
     "data": {
      "text/html": [
       "<div>\n",
       "<style scoped>\n",
       "    .dataframe tbody tr th:only-of-type {\n",
       "        vertical-align: middle;\n",
       "    }\n",
       "\n",
       "    .dataframe tbody tr th {\n",
       "        vertical-align: top;\n",
       "    }\n",
       "\n",
       "    .dataframe thead th {\n",
       "        text-align: right;\n",
       "    }\n",
       "</style>\n",
       "<table border=\"1\" class=\"dataframe\">\n",
       "  <thead>\n",
       "    <tr style=\"text-align: right;\">\n",
       "      <th></th>\n",
       "      <th>radiant_courier_time</th>\n",
       "    </tr>\n",
       "    <tr>\n",
       "      <th>radiant_win</th>\n",
       "      <th></th>\n",
       "    </tr>\n",
       "  </thead>\n",
       "  <tbody>\n",
       "    <tr>\n",
       "      <th>0</th>\n",
       "      <td>-52.473356</td>\n",
       "    </tr>\n",
       "    <tr>\n",
       "      <th>1</th>\n",
       "      <td>-55.737009</td>\n",
       "    </tr>\n",
       "  </tbody>\n",
       "</table>\n",
       "</div>"
      ],
      "text/plain": [
       "             radiant_courier_time\n",
       "radiant_win                      \n",
       "0                      -52.473356\n",
       "1                      -55.737009"
      ]
     },
     "execution_count": 39,
     "metadata": {},
     "output_type": "execute_result"
    }
   ],
   "source": [
    "#slice radiant time at first courier item purchase with win, drop na to subset matches with radiant courier purchase only\n",
    "r_courier = df[['radiant_courier_time', 'radiant_win']].dropna()\n",
    "r_no_courier = df[['radiant_courier_time', 'radiant_win']]\n",
    "r_courier.groupby(['radiant_win']).mean()"
   ]
  },
  {
   "cell_type": "code",
   "execution_count": 40,
   "metadata": {},
   "outputs": [
    {
     "name": "stderr",
     "output_type": "stream",
     "text": [
      "//anaconda3/lib/python3.7/site-packages/ipykernel_launcher.py:1: SettingWithCopyWarning: \n",
      "A value is trying to be set on a copy of a slice from a DataFrame\n",
      "\n",
      "See the caveats in the documentation: http://pandas.pydata.org/pandas-docs/stable/indexing.html#indexing-view-versus-copy\n",
      "  \"\"\"Entry point for launching an IPython kernel.\n",
      "//anaconda3/lib/python3.7/site-packages/pandas/core/generic.py:8682: SettingWithCopyWarning: \n",
      "A value is trying to be set on a copy of a slice from a DataFrame\n",
      "\n",
      "See the caveats in the documentation: http://pandas.pydata.org/pandas-docs/stable/indexing.html#indexing-view-versus-copy\n",
      "  self._update_inplace(new_data)\n",
      "//anaconda3/lib/python3.7/site-packages/IPython/core/interactiveshell.py:3325: SettingWithCopyWarning: \n",
      "A value is trying to be set on a copy of a slice from a DataFrame\n",
      "\n",
      "See the caveats in the documentation: http://pandas.pydata.org/pandas-docs/stable/indexing.html#indexing-view-versus-copy\n",
      "  exec(code_obj, self.user_global_ns, self.user_ns)\n",
      "//anaconda3/lib/python3.7/site-packages/pandas/core/frame.py:4034: SettingWithCopyWarning: \n",
      "A value is trying to be set on a copy of a slice from a DataFrame\n",
      "\n",
      "See the caveats in the documentation: http://pandas.pydata.org/pandas-docs/stable/indexing.html#indexing-view-versus-copy\n",
      "  downcast=downcast, **kwargs)\n"
     ]
    }
   ],
   "source": [
    "r_no_courier[\"radiant_courier_time\"][~r_no_courier[\"radiant_courier_time\"].isna()]=-1\n",
    "r_no_courier.fillna(1,inplace=True)"
   ]
  },
  {
   "cell_type": "code",
   "execution_count": 41,
   "metadata": {},
   "outputs": [
    {
     "data": {
      "text/html": [
       "<div>\n",
       "<style scoped>\n",
       "    .dataframe tbody tr th:only-of-type {\n",
       "        vertical-align: middle;\n",
       "    }\n",
       "\n",
       "    .dataframe tbody tr th {\n",
       "        vertical-align: top;\n",
       "    }\n",
       "\n",
       "    .dataframe thead th {\n",
       "        text-align: right;\n",
       "    }\n",
       "</style>\n",
       "<table border=\"1\" class=\"dataframe\">\n",
       "  <thead>\n",
       "    <tr style=\"text-align: right;\">\n",
       "      <th></th>\n",
       "      <th>radiant_courier_time</th>\n",
       "    </tr>\n",
       "    <tr>\n",
       "      <th>radiant_win</th>\n",
       "      <th></th>\n",
       "    </tr>\n",
       "  </thead>\n",
       "  <tbody>\n",
       "    <tr>\n",
       "      <th>0</th>\n",
       "      <td>-0.925282</td>\n",
       "    </tr>\n",
       "    <tr>\n",
       "      <th>1</th>\n",
       "      <td>-0.934411</td>\n",
       "    </tr>\n",
       "  </tbody>\n",
       "</table>\n",
       "</div>"
      ],
      "text/plain": [
       "             radiant_courier_time\n",
       "radiant_win                      \n",
       "0                       -0.925282\n",
       "1                       -0.934411"
      ]
     },
     "execution_count": 41,
     "metadata": {},
     "output_type": "execute_result"
    }
   ],
   "source": [
    "r_no_courier.groupby(['radiant_win']).mean()"
   ]
  },
  {
   "cell_type": "code",
   "execution_count": 42,
   "metadata": {},
   "outputs": [
    {
     "data": {
      "text/plain": [
       "radiant_win\n",
       "0    85084\n",
       "1    89600\n",
       "dtype: int64"
      ]
     },
     "execution_count": 42,
     "metadata": {},
     "output_type": "execute_result"
    }
   ],
   "source": [
    "#count of matches won by radiant team with courier purchase\n",
    "r_courier_win = r_courier.groupby(['radiant_win']).size()\n",
    "r_courier_win"
   ]
  },
  {
   "cell_type": "code",
   "execution_count": 43,
   "metadata": {},
   "outputs": [
    {
     "data": {
      "text/plain": [
       "0.512926198163541"
      ]
     },
     "execution_count": 43,
     "metadata": {},
     "output_type": "execute_result"
    }
   ],
   "source": [
    "#radiant win rate with courier item\n",
    "r_courier_win_per = r_courier_win[1] / (r_courier_win[0] + r_courier_win[1])\n",
    "r_courier_win_per"
   ]
  },
  {
   "cell_type": "code",
   "execution_count": 44,
   "metadata": {},
   "outputs": [
    {
     "data": {
      "text/html": [
       "<div>\n",
       "<style scoped>\n",
       "    .dataframe tbody tr th:only-of-type {\n",
       "        vertical-align: middle;\n",
       "    }\n",
       "\n",
       "    .dataframe tbody tr th {\n",
       "        vertical-align: top;\n",
       "    }\n",
       "\n",
       "    .dataframe thead th {\n",
       "        text-align: right;\n",
       "    }\n",
       "</style>\n",
       "<table border=\"1\" class=\"dataframe\">\n",
       "  <thead>\n",
       "    <tr style=\"text-align: right;\">\n",
       "      <th></th>\n",
       "      <th>dire_courier_time</th>\n",
       "    </tr>\n",
       "    <tr>\n",
       "      <th>radiant_win</th>\n",
       "      <th></th>\n",
       "    </tr>\n",
       "  </thead>\n",
       "  <tbody>\n",
       "    <tr>\n",
       "      <th>0</th>\n",
       "      <td>-56.112380</td>\n",
       "    </tr>\n",
       "    <tr>\n",
       "      <th>1</th>\n",
       "      <td>-52.643638</td>\n",
       "    </tr>\n",
       "  </tbody>\n",
       "</table>\n",
       "</div>"
      ],
      "text/plain": [
       "             dire_courier_time\n",
       "radiant_win                   \n",
       "0                   -56.112380\n",
       "1                   -52.643638"
      ]
     },
     "execution_count": 44,
     "metadata": {},
     "output_type": "execute_result"
    }
   ],
   "source": [
    "#slice dire time at first courier item purchase with win, drop na to subset matches with dire courier purchase only\n",
    "d_courier = df[['dire_courier_time', 'radiant_win']].dropna()\n",
    "d_courier.groupby(['radiant_win']).mean()"
   ]
  },
  {
   "cell_type": "code",
   "execution_count": 45,
   "metadata": {},
   "outputs": [
    {
     "data": {
      "text/plain": [
       "radiant_win\n",
       "0    85567\n",
       "1    89308\n",
       "dtype: int64"
      ]
     },
     "execution_count": 45,
     "metadata": {},
     "output_type": "execute_result"
    }
   ],
   "source": [
    "#count of matches won by dire team with courier purchase\n",
    "d_courier_win = d_courier.groupby(['radiant_win']).size()\n",
    "d_courier_win"
   ]
  },
  {
   "cell_type": "code",
   "execution_count": 46,
   "metadata": {},
   "outputs": [
    {
     "data": {
      "text/plain": [
       "0.4893037884203002"
      ]
     },
     "execution_count": 46,
     "metadata": {},
     "output_type": "execute_result"
    }
   ],
   "source": [
    "#dire win rate with courier item\n",
    "d_courier_win_per = d_courier_win[0] / (d_courier_win[0] + d_courier_win[1])\n",
    "d_courier_win_per"
   ]
  },
  {
   "cell_type": "code",
   "execution_count": 47,
   "metadata": {},
   "outputs": [
    {
     "data": {
      "text/plain": [
       "0.5011149932919206"
      ]
     },
     "execution_count": 47,
     "metadata": {},
     "output_type": "execute_result"
    }
   ],
   "source": [
    "#overall courier item win rate\n",
    "courier_win_per = (r_courier_win_per + d_courier_win_per)/2\n",
    "courier_win_per"
   ]
  },
  {
   "cell_type": "code",
   "execution_count": 48,
   "metadata": {},
   "outputs": [
    {
     "data": {
      "text/html": [
       "<div>\n",
       "<style scoped>\n",
       "    .dataframe tbody tr th:only-of-type {\n",
       "        vertical-align: middle;\n",
       "    }\n",
       "\n",
       "    .dataframe tbody tr th {\n",
       "        vertical-align: top;\n",
       "    }\n",
       "\n",
       "    .dataframe thead th {\n",
       "        text-align: right;\n",
       "    }\n",
       "</style>\n",
       "<table border=\"1\" class=\"dataframe\">\n",
       "  <thead>\n",
       "    <tr style=\"text-align: right;\">\n",
       "      <th></th>\n",
       "      <th>radiant_flying_courier_time</th>\n",
       "    </tr>\n",
       "    <tr>\n",
       "      <th>radiant_win</th>\n",
       "      <th></th>\n",
       "    </tr>\n",
       "  </thead>\n",
       "  <tbody>\n",
       "    <tr>\n",
       "      <th>0</th>\n",
       "      <td>223.59853</td>\n",
       "    </tr>\n",
       "    <tr>\n",
       "      <th>1</th>\n",
       "      <td>222.45330</td>\n",
       "    </tr>\n",
       "  </tbody>\n",
       "</table>\n",
       "</div>"
      ],
      "text/plain": [
       "             radiant_flying_courier_time\n",
       "radiant_win                             \n",
       "0                              223.59853\n",
       "1                              222.45330"
      ]
     },
     "execution_count": 48,
     "metadata": {},
     "output_type": "execute_result"
    }
   ],
   "source": [
    "#slice radiant time at first flying courier item purchase with win, drop na to subset matches with radiant flying courier purchase only\n",
    "r_fcourier = df[['radiant_flying_courier_time', 'radiant_win']].dropna()\n",
    "r_fcourier.groupby(['radiant_win']).mean()"
   ]
  },
  {
   "cell_type": "code",
   "execution_count": 49,
   "metadata": {},
   "outputs": [
    {
     "data": {
      "text/plain": [
       "radiant_win\n",
       "0    39318\n",
       "1    46124\n",
       "dtype: int64"
      ]
     },
     "execution_count": 49,
     "metadata": {},
     "output_type": "execute_result"
    }
   ],
   "source": [
    "#count of matches won by radiant team with flying courier purchase\n",
    "r_fcourier_win = r_fcourier.groupby(['radiant_win']).size()\n",
    "r_fcourier_win"
   ]
  },
  {
   "cell_type": "code",
   "execution_count": 50,
   "metadata": {},
   "outputs": [
    {
     "data": {
      "text/plain": [
       "53.98281875424264"
      ]
     },
     "execution_count": 50,
     "metadata": {},
     "output_type": "execute_result"
    }
   ],
   "source": [
    "#radiant win rate with flying courier item\n",
    "r_fcourier_win_per = r_fcourier_win[1] / (r_fcourier_win[0] + r_fcourier_win[1])*100\n",
    "r_fcourier_win_per"
   ]
  },
  {
   "cell_type": "code",
   "execution_count": 51,
   "metadata": {},
   "outputs": [
    {
     "data": {
      "text/html": [
       "<div>\n",
       "<style scoped>\n",
       "    .dataframe tbody tr th:only-of-type {\n",
       "        vertical-align: middle;\n",
       "    }\n",
       "\n",
       "    .dataframe tbody tr th {\n",
       "        vertical-align: top;\n",
       "    }\n",
       "\n",
       "    .dataframe thead th {\n",
       "        text-align: right;\n",
       "    }\n",
       "</style>\n",
       "<table border=\"1\" class=\"dataframe\">\n",
       "  <thead>\n",
       "    <tr style=\"text-align: right;\">\n",
       "      <th></th>\n",
       "      <th>dire_flying_courier_time</th>\n",
       "    </tr>\n",
       "    <tr>\n",
       "      <th>radiant_win</th>\n",
       "      <th></th>\n",
       "    </tr>\n",
       "  </thead>\n",
       "  <tbody>\n",
       "    <tr>\n",
       "      <th>0</th>\n",
       "      <td>221.671488</td>\n",
       "    </tr>\n",
       "    <tr>\n",
       "      <th>1</th>\n",
       "      <td>222.465330</td>\n",
       "    </tr>\n",
       "  </tbody>\n",
       "</table>\n",
       "</div>"
      ],
      "text/plain": [
       "             dire_flying_courier_time\n",
       "radiant_win                          \n",
       "0                          221.671488\n",
       "1                          222.465330"
      ]
     },
     "execution_count": 51,
     "metadata": {},
     "output_type": "execute_result"
    }
   ],
   "source": [
    "#slice dire time at first flying courier item purchase with win, drop na to subset matches with dire flying courier purchase only\n",
    "d_fcourier = df[['dire_flying_courier_time', 'radiant_win']].dropna()\n",
    "d_fcourier.groupby(['radiant_win']).mean()"
   ]
  },
  {
   "cell_type": "code",
   "execution_count": 52,
   "metadata": {},
   "outputs": [
    {
     "data": {
      "text/plain": [
       "radiant_win\n",
       "0    46187\n",
       "1    43107\n",
       "dtype: int64"
      ]
     },
     "execution_count": 52,
     "metadata": {},
     "output_type": "execute_result"
    }
   ],
   "source": [
    "#count of matches won by dire team with flying courier purchase\n",
    "d_fcourier_win = d_fcourier.groupby(['radiant_win']).size()\n",
    "d_fcourier_win"
   ]
  },
  {
   "cell_type": "code",
   "execution_count": 53,
   "metadata": {},
   "outputs": [
    {
     "data": {
      "text/plain": [
       "51.72463995341232"
      ]
     },
     "execution_count": 53,
     "metadata": {},
     "output_type": "execute_result"
    }
   ],
   "source": [
    "#dire win rate with flying courier item\n",
    "d_fcourier_win_per = d_fcourier_win[0] / (d_fcourier_win[0] + d_fcourier_win[1])*100\n",
    "d_fcourier_win_per"
   ]
  },
  {
   "cell_type": "code",
   "execution_count": 54,
   "metadata": {},
   "outputs": [
    {
     "data": {
      "text/plain": [
       "52.85372935382748"
      ]
     },
     "execution_count": 54,
     "metadata": {},
     "output_type": "execute_result"
    }
   ],
   "source": [
    "#overall flying courier item win rate\n",
    "fcourier_win_per = (r_fcourier_win_per + d_fcourier_win_per)/2\n",
    "fcourier_win_per"
   ]
  },
  {
   "cell_type": "code",
   "execution_count": 55,
   "metadata": {},
   "outputs": [
    {
     "data": {
      "text/html": [
       "<div>\n",
       "<style scoped>\n",
       "    .dataframe tbody tr th:only-of-type {\n",
       "        vertical-align: middle;\n",
       "    }\n",
       "\n",
       "    .dataframe tbody tr th {\n",
       "        vertical-align: top;\n",
       "    }\n",
       "\n",
       "    .dataframe thead th {\n",
       "        text-align: right;\n",
       "    }\n",
       "</style>\n",
       "<table border=\"1\" class=\"dataframe\">\n",
       "  <thead>\n",
       "    <tr style=\"text-align: right;\">\n",
       "      <th></th>\n",
       "      <th>radiant_tpscroll_count</th>\n",
       "    </tr>\n",
       "    <tr>\n",
       "      <th>radiant_win</th>\n",
       "      <th></th>\n",
       "    </tr>\n",
       "  </thead>\n",
       "  <tbody>\n",
       "    <tr>\n",
       "      <th>0</th>\n",
       "      <td>2.895255</td>\n",
       "    </tr>\n",
       "    <tr>\n",
       "      <th>1</th>\n",
       "      <td>2.622887</td>\n",
       "    </tr>\n",
       "  </tbody>\n",
       "</table>\n",
       "</div>"
      ],
      "text/plain": [
       "             radiant_tpscroll_count\n",
       "radiant_win                        \n",
       "0                          2.895255\n",
       "1                          2.622887"
      ]
     },
     "execution_count": 55,
     "metadata": {},
     "output_type": "execute_result"
    }
   ],
   "source": [
    "#slice radiant time at first tpscroll item purchase with win, drop na to subset matches with radiant tpscroll purchase only\n",
    "r_scroll = df[['radiant_tpscroll_count', 'radiant_win']].dropna()\n",
    "r_scroll.groupby(['radiant_win']).mean()"
   ]
  },
  {
   "cell_type": "code",
   "execution_count": 56,
   "metadata": {},
   "outputs": [
    {
     "data": {
      "text/plain": [
       "radiant_win\n",
       "0    88386\n",
       "1    92638\n",
       "dtype: int64"
      ]
     },
     "execution_count": 56,
     "metadata": {},
     "output_type": "execute_result"
    }
   ],
   "source": [
    "#count of matches won by radiant team with tpscroll purchase\n",
    "r_scroll_win = r_scroll.groupby(['radiant_win']).size()\n",
    "r_scroll_win"
   ]
  },
  {
   "cell_type": "code",
   "execution_count": 57,
   "metadata": {},
   "outputs": [
    {
     "data": {
      "text/plain": [
       "51.17442990984621"
      ]
     },
     "execution_count": 57,
     "metadata": {},
     "output_type": "execute_result"
    }
   ],
   "source": [
    "#radiant win rate with tpscroll item\n",
    "r_scroll_win_per = r_scroll_win[1] / (r_scroll_win[0] + r_scroll_win[1])*100\n",
    "r_scroll_win_per"
   ]
  },
  {
   "cell_type": "code",
   "execution_count": 58,
   "metadata": {},
   "outputs": [
    {
     "data": {
      "text/html": [
       "<div>\n",
       "<style scoped>\n",
       "    .dataframe tbody tr th:only-of-type {\n",
       "        vertical-align: middle;\n",
       "    }\n",
       "\n",
       "    .dataframe tbody tr th {\n",
       "        vertical-align: top;\n",
       "    }\n",
       "\n",
       "    .dataframe thead th {\n",
       "        text-align: right;\n",
       "    }\n",
       "</style>\n",
       "<table border=\"1\" class=\"dataframe\">\n",
       "  <thead>\n",
       "    <tr style=\"text-align: right;\">\n",
       "      <th></th>\n",
       "      <th>dire_tpscroll_count</th>\n",
       "    </tr>\n",
       "    <tr>\n",
       "      <th>radiant_win</th>\n",
       "      <th></th>\n",
       "    </tr>\n",
       "  </thead>\n",
       "  <tbody>\n",
       "    <tr>\n",
       "      <th>0</th>\n",
       "      <td>2.611115</td>\n",
       "    </tr>\n",
       "    <tr>\n",
       "      <th>1</th>\n",
       "      <td>2.828979</td>\n",
       "    </tr>\n",
       "  </tbody>\n",
       "</table>\n",
       "</div>"
      ],
      "text/plain": [
       "             dire_tpscroll_count\n",
       "radiant_win                     \n",
       "0                       2.611115\n",
       "1                       2.828979"
      ]
     },
     "execution_count": 58,
     "metadata": {},
     "output_type": "execute_result"
    }
   ],
   "source": [
    "#slice dire time at first tpscroll item purchase with win, drop na to subset matches with dire tpscroll purchase only\n",
    "d_scroll = df[['dire_tpscroll_count', 'radiant_win']].dropna()\n",
    "d_scroll.groupby(['radiant_win']).mean()"
   ]
  },
  {
   "cell_type": "code",
   "execution_count": 59,
   "metadata": {},
   "outputs": [
    {
     "data": {
      "text/plain": [
       "radiant_win\n",
       "0    88386\n",
       "1    92638\n",
       "dtype: int64"
      ]
     },
     "execution_count": 59,
     "metadata": {},
     "output_type": "execute_result"
    }
   ],
   "source": [
    "#count of matches won by dire team with tpscroll purchase\n",
    "d_scroll_win = d_scroll.groupby(['radiant_win']).size()\n",
    "d_scroll_win"
   ]
  },
  {
   "cell_type": "code",
   "execution_count": 60,
   "metadata": {},
   "outputs": [
    {
     "data": {
      "text/plain": [
       "48.82557009015379"
      ]
     },
     "execution_count": 60,
     "metadata": {},
     "output_type": "execute_result"
    }
   ],
   "source": [
    "#dire win rate with tpscroll item\n",
    "d_scroll_win_per = d_scroll_win[0] / (d_scroll_win[0] + d_scroll_win[1])*100\n",
    "d_scroll_win_per"
   ]
  },
  {
   "cell_type": "code",
   "execution_count": 61,
   "metadata": {},
   "outputs": [
    {
     "data": {
      "text/plain": [
       "50.0"
      ]
     },
     "execution_count": 61,
     "metadata": {},
     "output_type": "execute_result"
    }
   ],
   "source": [
    "#overall tpscroll item win rate\n",
    "scroll_win_per = (r_scroll_win_per + d_scroll_win_per)/2\n",
    "scroll_win_per"
   ]
  },
  {
   "cell_type": "code",
   "execution_count": 62,
   "metadata": {},
   "outputs": [
    {
     "data": {
      "text/html": [
       "<div>\n",
       "<style scoped>\n",
       "    .dataframe tbody tr th:only-of-type {\n",
       "        vertical-align: middle;\n",
       "    }\n",
       "\n",
       "    .dataframe tbody tr th {\n",
       "        vertical-align: top;\n",
       "    }\n",
       "\n",
       "    .dataframe thead th {\n",
       "        text-align: right;\n",
       "    }\n",
       "</style>\n",
       "<table border=\"1\" class=\"dataframe\">\n",
       "  <thead>\n",
       "    <tr style=\"text-align: right;\">\n",
       "      <th></th>\n",
       "      <th>radiant_boots_count</th>\n",
       "    </tr>\n",
       "    <tr>\n",
       "      <th>radiant_win</th>\n",
       "      <th></th>\n",
       "    </tr>\n",
       "  </thead>\n",
       "  <tbody>\n",
       "    <tr>\n",
       "      <th>0</th>\n",
       "      <td>3.070011</td>\n",
       "    </tr>\n",
       "    <tr>\n",
       "      <th>1</th>\n",
       "      <td>3.235217</td>\n",
       "    </tr>\n",
       "  </tbody>\n",
       "</table>\n",
       "</div>"
      ],
      "text/plain": [
       "             radiant_boots_count\n",
       "radiant_win                     \n",
       "0                       3.070011\n",
       "1                       3.235217"
      ]
     },
     "execution_count": 62,
     "metadata": {},
     "output_type": "execute_result"
    }
   ],
   "source": [
    "#slice radiant time at first boots item purchase with win, drop na to subset matches with radiant boots purchase only\n",
    "r_boots = df[['radiant_boots_count', 'radiant_win']].dropna()\n",
    "r_boots.groupby(['radiant_win']).mean()"
   ]
  },
  {
   "cell_type": "code",
   "execution_count": 63,
   "metadata": {},
   "outputs": [
    {
     "data": {
      "text/plain": [
       "radiant_win\n",
       "0    88386\n",
       "1    92638\n",
       "dtype: int64"
      ]
     },
     "execution_count": 63,
     "metadata": {},
     "output_type": "execute_result"
    }
   ],
   "source": [
    "#count of matches won by radiant team with boots purchase\n",
    "r_boots_win = r_boots.groupby(['radiant_win']).size()\n",
    "r_boots_win"
   ]
  },
  {
   "cell_type": "code",
   "execution_count": 64,
   "metadata": {},
   "outputs": [
    {
     "data": {
      "text/plain": [
       "51.17442990984621"
      ]
     },
     "execution_count": 64,
     "metadata": {},
     "output_type": "execute_result"
    }
   ],
   "source": [
    "#radiant win rate with boots item\n",
    "r_boots_win_per = r_boots_win[1] / (r_boots_win[0] + r_boots_win[1])*100\n",
    "r_boots_win_per"
   ]
  },
  {
   "cell_type": "code",
   "execution_count": 65,
   "metadata": {},
   "outputs": [
    {
     "data": {
      "text/html": [
       "<div>\n",
       "<style scoped>\n",
       "    .dataframe tbody tr th:only-of-type {\n",
       "        vertical-align: middle;\n",
       "    }\n",
       "\n",
       "    .dataframe tbody tr th {\n",
       "        vertical-align: top;\n",
       "    }\n",
       "\n",
       "    .dataframe thead th {\n",
       "        text-align: right;\n",
       "    }\n",
       "</style>\n",
       "<table border=\"1\" class=\"dataframe\">\n",
       "  <thead>\n",
       "    <tr style=\"text-align: right;\">\n",
       "      <th></th>\n",
       "      <th>dire_boots_count</th>\n",
       "    </tr>\n",
       "    <tr>\n",
       "      <th>radiant_win</th>\n",
       "      <th></th>\n",
       "    </tr>\n",
       "  </thead>\n",
       "  <tbody>\n",
       "    <tr>\n",
       "      <th>0</th>\n",
       "      <td>3.260777</td>\n",
       "    </tr>\n",
       "    <tr>\n",
       "      <th>1</th>\n",
       "      <td>3.097487</td>\n",
       "    </tr>\n",
       "  </tbody>\n",
       "</table>\n",
       "</div>"
      ],
      "text/plain": [
       "             dire_boots_count\n",
       "radiant_win                  \n",
       "0                    3.260777\n",
       "1                    3.097487"
      ]
     },
     "execution_count": 65,
     "metadata": {},
     "output_type": "execute_result"
    }
   ],
   "source": [
    "#slice dire time at first boots item purchase with win, drop na to subset matches with dire boots purchase only\n",
    "d_boots = df[['dire_boots_count', 'radiant_win']].dropna()\n",
    "d_boots.groupby(['radiant_win']).mean()"
   ]
  },
  {
   "cell_type": "code",
   "execution_count": 66,
   "metadata": {},
   "outputs": [
    {
     "data": {
      "text/plain": [
       "radiant_win\n",
       "0    88386\n",
       "1    92638\n",
       "dtype: int64"
      ]
     },
     "execution_count": 66,
     "metadata": {},
     "output_type": "execute_result"
    }
   ],
   "source": [
    "#count of matches won by dire team with boots purchase\n",
    "d_boots_win = d_boots.groupby(['radiant_win']).size()\n",
    "d_boots_win"
   ]
  },
  {
   "cell_type": "code",
   "execution_count": 67,
   "metadata": {},
   "outputs": [
    {
     "data": {
      "text/plain": [
       "48.82557009015379"
      ]
     },
     "execution_count": 67,
     "metadata": {},
     "output_type": "execute_result"
    }
   ],
   "source": [
    "#dire win rate with boots item\n",
    "d_boots_win_per = d_boots_win[0] / (d_boots_win[0] + d_boots_win[1])*100\n",
    "d_boots_win_per"
   ]
  },
  {
   "cell_type": "code",
   "execution_count": 68,
   "metadata": {},
   "outputs": [
    {
     "data": {
      "text/plain": [
       "50.0"
      ]
     },
     "execution_count": 68,
     "metadata": {},
     "output_type": "execute_result"
    }
   ],
   "source": [
    "#overall boots item win rate\n",
    "boots_win_per = (r_boots_win_per + d_boots_win_per)/2\n",
    "boots_win_per"
   ]
  },
  {
   "cell_type": "code",
   "execution_count": 69,
   "metadata": {},
   "outputs": [
    {
     "data": {
      "text/html": [
       "<div>\n",
       "<style scoped>\n",
       "    .dataframe tbody tr th:only-of-type {\n",
       "        vertical-align: middle;\n",
       "    }\n",
       "\n",
       "    .dataframe tbody tr th {\n",
       "        vertical-align: top;\n",
       "    }\n",
       "\n",
       "    .dataframe thead th {\n",
       "        text-align: right;\n",
       "    }\n",
       "</style>\n",
       "<table border=\"1\" class=\"dataframe\">\n",
       "  <thead>\n",
       "    <tr style=\"text-align: right;\">\n",
       "      <th></th>\n",
       "      <th>radiant_ward_observer_count</th>\n",
       "    </tr>\n",
       "    <tr>\n",
       "      <th>radiant_win</th>\n",
       "      <th></th>\n",
       "    </tr>\n",
       "  </thead>\n",
       "  <tbody>\n",
       "    <tr>\n",
       "      <th>0</th>\n",
       "      <td>1.651913</td>\n",
       "    </tr>\n",
       "    <tr>\n",
       "      <th>1</th>\n",
       "      <td>1.735659</td>\n",
       "    </tr>\n",
       "  </tbody>\n",
       "</table>\n",
       "</div>"
      ],
      "text/plain": [
       "             radiant_ward_observer_count\n",
       "radiant_win                             \n",
       "0                               1.651913\n",
       "1                               1.735659"
      ]
     },
     "execution_count": 69,
     "metadata": {},
     "output_type": "execute_result"
    }
   ],
   "source": [
    "#slice radiant time at first ward observer item purchase with win, drop na to subset matches with radian ward observer purchase only\n",
    "r_ward_obs = df[['radiant_ward_observer_count', 'radiant_win']].dropna()\n",
    "r_ward_obs.groupby(['radiant_win']).mean()"
   ]
  },
  {
   "cell_type": "code",
   "execution_count": 70,
   "metadata": {},
   "outputs": [
    {
     "data": {
      "text/plain": [
       "radiant_win\n",
       "0    88386\n",
       "1    92638\n",
       "dtype: int64"
      ]
     },
     "execution_count": 70,
     "metadata": {},
     "output_type": "execute_result"
    }
   ],
   "source": [
    "#count of matches won by radiant team with ward observer purchase\n",
    "r_ward_obs_win = r_ward_obs.groupby(['radiant_win']).size()\n",
    "r_ward_obs_win\n",
    "#resulting overall win % will be 50%"
   ]
  },
  {
   "cell_type": "code",
   "execution_count": 71,
   "metadata": {},
   "outputs": [
    {
     "data": {
      "text/html": [
       "<div>\n",
       "<style scoped>\n",
       "    .dataframe tbody tr th:only-of-type {\n",
       "        vertical-align: middle;\n",
       "    }\n",
       "\n",
       "    .dataframe tbody tr th {\n",
       "        vertical-align: top;\n",
       "    }\n",
       "\n",
       "    .dataframe thead th {\n",
       "        text-align: right;\n",
       "    }\n",
       "</style>\n",
       "<table border=\"1\" class=\"dataframe\">\n",
       "  <thead>\n",
       "    <tr style=\"text-align: right;\">\n",
       "      <th></th>\n",
       "      <th>radiant_ward_sentry_count</th>\n",
       "    </tr>\n",
       "    <tr>\n",
       "      <th>radiant_win</th>\n",
       "      <th></th>\n",
       "    </tr>\n",
       "  </thead>\n",
       "  <tbody>\n",
       "    <tr>\n",
       "      <th>0</th>\n",
       "      <td>0.237560</td>\n",
       "    </tr>\n",
       "    <tr>\n",
       "      <th>1</th>\n",
       "      <td>0.245051</td>\n",
       "    </tr>\n",
       "  </tbody>\n",
       "</table>\n",
       "</div>"
      ],
      "text/plain": [
       "             radiant_ward_sentry_count\n",
       "radiant_win                           \n",
       "0                             0.237560\n",
       "1                             0.245051"
      ]
     },
     "execution_count": 71,
     "metadata": {},
     "output_type": "execute_result"
    }
   ],
   "source": [
    "#slice radiant time at first ward sentry item purchase with win, drop na to subset matches with radiant ward sentry purchase only\n",
    "r_ward_sen = df[['radiant_ward_sentry_count', 'radiant_win']].dropna()\n",
    "r_ward_sen.groupby(['radiant_win']).mean()"
   ]
  },
  {
   "cell_type": "code",
   "execution_count": 72,
   "metadata": {},
   "outputs": [
    {
     "data": {
      "text/plain": [
       "radiant_win\n",
       "0    88386\n",
       "1    92638\n",
       "dtype: int64"
      ]
     },
     "execution_count": 72,
     "metadata": {},
     "output_type": "execute_result"
    }
   ],
   "source": [
    "#count of matches won by radiant team with ward sentry purchase\n",
    "r_ward_sen_win = r_ward_sen.groupby(['radiant_win']).size()\n",
    "r_ward_sen_win\n",
    "#resulting overall win % will be 50%"
   ]
  },
  {
   "cell_type": "code",
   "execution_count": 73,
   "metadata": {},
   "outputs": [
    {
     "data": {
      "text/html": [
       "<div>\n",
       "<style scoped>\n",
       "    .dataframe tbody tr th:only-of-type {\n",
       "        vertical-align: middle;\n",
       "    }\n",
       "\n",
       "    .dataframe tbody tr th {\n",
       "        vertical-align: top;\n",
       "    }\n",
       "\n",
       "    .dataframe thead th {\n",
       "        text-align: right;\n",
       "    }\n",
       "</style>\n",
       "<table border=\"1\" class=\"dataframe\">\n",
       "  <thead>\n",
       "    <tr style=\"text-align: right;\">\n",
       "      <th></th>\n",
       "      <th>radiant_first_ward_time</th>\n",
       "    </tr>\n",
       "    <tr>\n",
       "      <th>radiant_win</th>\n",
       "      <th></th>\n",
       "    </tr>\n",
       "  </thead>\n",
       "  <tbody>\n",
       "    <tr>\n",
       "      <th>0</th>\n",
       "      <td>27.283784</td>\n",
       "    </tr>\n",
       "    <tr>\n",
       "      <th>1</th>\n",
       "      <td>24.359662</td>\n",
       "    </tr>\n",
       "  </tbody>\n",
       "</table>\n",
       "</div>"
      ],
      "text/plain": [
       "             radiant_first_ward_time\n",
       "radiant_win                         \n",
       "0                          27.283784\n",
       "1                          24.359662"
      ]
     },
     "execution_count": 73,
     "metadata": {},
     "output_type": "execute_result"
    }
   ],
   "source": [
    "#slice radiant time at first ward item purchase with win, drop na to subset matches with radiant ward purchase only\n",
    "r_ward = df[['radiant_first_ward_time', 'radiant_win']].dropna()\n",
    "r_ward.groupby(['radiant_win']).mean()"
   ]
  },
  {
   "cell_type": "code",
   "execution_count": 74,
   "metadata": {},
   "outputs": [
    {
     "data": {
      "text/plain": [
       "radiant_win\n",
       "0    72527\n",
       "1    78810\n",
       "dtype: int64"
      ]
     },
     "execution_count": 74,
     "metadata": {},
     "output_type": "execute_result"
    }
   ],
   "source": [
    "#count of matches won by radiant team with ward purchase\n",
    "r_ward_win = r_ward.groupby(['radiant_win']).size()\n",
    "r_ward_win"
   ]
  },
  {
   "cell_type": "code",
   "execution_count": 75,
   "metadata": {},
   "outputs": [
    {
     "data": {
      "text/plain": [
       "52.07583076180974"
      ]
     },
     "execution_count": 75,
     "metadata": {},
     "output_type": "execute_result"
    }
   ],
   "source": [
    "#radiant win rate with ward item\n",
    "r_ward_win_per = r_ward_win[1] / (r_ward_win[0] + r_ward_win[1])*100\n",
    "r_ward_win_per"
   ]
  },
  {
   "cell_type": "code",
   "execution_count": 76,
   "metadata": {},
   "outputs": [
    {
     "data": {
      "text/html": [
       "<div>\n",
       "<style scoped>\n",
       "    .dataframe tbody tr th:only-of-type {\n",
       "        vertical-align: middle;\n",
       "    }\n",
       "\n",
       "    .dataframe tbody tr th {\n",
       "        vertical-align: top;\n",
       "    }\n",
       "\n",
       "    .dataframe thead th {\n",
       "        text-align: right;\n",
       "    }\n",
       "</style>\n",
       "<table border=\"1\" class=\"dataframe\">\n",
       "  <thead>\n",
       "    <tr style=\"text-align: right;\">\n",
       "      <th></th>\n",
       "      <th>dire_first_ward_time</th>\n",
       "    </tr>\n",
       "    <tr>\n",
       "      <th>radiant_win</th>\n",
       "      <th></th>\n",
       "    </tr>\n",
       "  </thead>\n",
       "  <tbody>\n",
       "    <tr>\n",
       "      <th>0</th>\n",
       "      <td>23.886761</td>\n",
       "    </tr>\n",
       "    <tr>\n",
       "      <th>1</th>\n",
       "      <td>28.328938</td>\n",
       "    </tr>\n",
       "  </tbody>\n",
       "</table>\n",
       "</div>"
      ],
      "text/plain": [
       "             dire_first_ward_time\n",
       "radiant_win                      \n",
       "0                       23.886761\n",
       "1                       28.328938"
      ]
     },
     "execution_count": 76,
     "metadata": {},
     "output_type": "execute_result"
    }
   ],
   "source": [
    "#slice dire time at first ward sentry item purchase with win, drop na to subset matches with dire ward sentry purchase only\n",
    "d_ward = df[['dire_first_ward_time', 'radiant_win']].dropna()\n",
    "d_ward.groupby(['radiant_win']).mean()"
   ]
  },
  {
   "cell_type": "code",
   "execution_count": 77,
   "metadata": {},
   "outputs": [
    {
     "data": {
      "text/plain": [
       "radiant_win\n",
       "0    74895\n",
       "1    75467\n",
       "dtype: int64"
      ]
     },
     "execution_count": 77,
     "metadata": {},
     "output_type": "execute_result"
    }
   ],
   "source": [
    "#count of matches won by dire team with ward purchase\n",
    "d_ward_win = d_ward.groupby(['radiant_win']).size()\n",
    "d_ward_win"
   ]
  },
  {
   "cell_type": "code",
   "execution_count": 78,
   "metadata": {},
   "outputs": [
    {
     "data": {
      "text/plain": [
       "49.80979236775249"
      ]
     },
     "execution_count": 78,
     "metadata": {},
     "output_type": "execute_result"
    }
   ],
   "source": [
    "#dire win rate with ward item\n",
    "d_ward_win_per = d_ward_win[0] / (d_ward_win[0] + d_ward_win[1])*100\n",
    "d_ward_win_per"
   ]
  },
  {
   "cell_type": "code",
   "execution_count": 79,
   "metadata": {},
   "outputs": [
    {
     "data": {
      "text/plain": [
       "50.94281156478112"
      ]
     },
     "execution_count": 79,
     "metadata": {},
     "output_type": "execute_result"
    }
   ],
   "source": [
    "#overall ward item win rate\n",
    "ward_win_per = (r_ward_win_per + d_ward_win_per)/2\n",
    "ward_win_per"
   ]
  },
  {
   "cell_type": "code",
   "execution_count": 80,
   "metadata": {},
   "outputs": [
    {
     "data": {
      "text/html": [
       "<div>\n",
       "<style scoped>\n",
       "    .dataframe tbody tr th:only-of-type {\n",
       "        vertical-align: middle;\n",
       "    }\n",
       "\n",
       "    .dataframe tbody tr th {\n",
       "        vertical-align: top;\n",
       "    }\n",
       "\n",
       "    .dataframe thead th {\n",
       "        text-align: right;\n",
       "    }\n",
       "</style>\n",
       "<table border=\"1\" class=\"dataframe\">\n",
       "  <thead>\n",
       "    <tr style=\"text-align: right;\">\n",
       "      <th></th>\n",
       "      <th>match_id</th>\n",
       "      <th>r1_hero</th>\n",
       "      <th>r1_level</th>\n",
       "      <th>r1_xp</th>\n",
       "      <th>r1_gold</th>\n",
       "      <th>r1_lh</th>\n",
       "      <th>r1_kills</th>\n",
       "      <th>r1_deaths</th>\n",
       "      <th>r1_items</th>\n",
       "      <th>r2_hero</th>\n",
       "      <th>...</th>\n",
       "      <th>dire_tpscroll_count</th>\n",
       "      <th>dire_boots_count</th>\n",
       "      <th>dire_ward_observer_count</th>\n",
       "      <th>dire_ward_sentry_count</th>\n",
       "      <th>dire_first_ward_time</th>\n",
       "      <th>dire_total_gold</th>\n",
       "      <th>dire_total_xp</th>\n",
       "      <th>dire_total_kills</th>\n",
       "      <th>dire_total_deaths</th>\n",
       "      <th>radiant_win</th>\n",
       "    </tr>\n",
       "  </thead>\n",
       "  <tbody>\n",
       "    <tr>\n",
       "      <th>0</th>\n",
       "      <td>1</td>\n",
       "      <td>44</td>\n",
       "      <td>1</td>\n",
       "      <td>1448</td>\n",
       "      <td>1163</td>\n",
       "      <td>14</td>\n",
       "      <td>0</td>\n",
       "      <td>0</td>\n",
       "      <td>7</td>\n",
       "      <td>97</td>\n",
       "      <td>...</td>\n",
       "      <td>0</td>\n",
       "      <td>2</td>\n",
       "      <td>0</td>\n",
       "      <td>0</td>\n",
       "      <td>NaN</td>\n",
       "      <td>4348</td>\n",
       "      <td>6419</td>\n",
       "      <td>0</td>\n",
       "      <td>0</td>\n",
       "      <td>1</td>\n",
       "    </tr>\n",
       "    <tr>\n",
       "      <th>1</th>\n",
       "      <td>2</td>\n",
       "      <td>77</td>\n",
       "      <td>1</td>\n",
       "      <td>1311</td>\n",
       "      <td>1809</td>\n",
       "      <td>31</td>\n",
       "      <td>0</td>\n",
       "      <td>0</td>\n",
       "      <td>6</td>\n",
       "      <td>47</td>\n",
       "      <td>...</td>\n",
       "      <td>2</td>\n",
       "      <td>1</td>\n",
       "      <td>3</td>\n",
       "      <td>2</td>\n",
       "      <td>-9.0</td>\n",
       "      <td>3989</td>\n",
       "      <td>5115</td>\n",
       "      <td>0</td>\n",
       "      <td>2</td>\n",
       "      <td>0</td>\n",
       "    </tr>\n",
       "    <tr>\n",
       "      <th>2</th>\n",
       "      <td>3</td>\n",
       "      <td>66</td>\n",
       "      <td>2</td>\n",
       "      <td>1477</td>\n",
       "      <td>1367</td>\n",
       "      <td>25</td>\n",
       "      <td>0</td>\n",
       "      <td>0</td>\n",
       "      <td>7</td>\n",
       "      <td>22</td>\n",
       "      <td>...</td>\n",
       "      <td>4</td>\n",
       "      <td>2</td>\n",
       "      <td>2</td>\n",
       "      <td>0</td>\n",
       "      <td>18.0</td>\n",
       "      <td>5096</td>\n",
       "      <td>6007</td>\n",
       "      <td>1</td>\n",
       "      <td>1</td>\n",
       "      <td>1</td>\n",
       "    </tr>\n",
       "    <tr>\n",
       "      <th>3</th>\n",
       "      <td>4</td>\n",
       "      <td>5</td>\n",
       "      <td>0</td>\n",
       "      <td>697</td>\n",
       "      <td>807</td>\n",
       "      <td>8</td>\n",
       "      <td>0</td>\n",
       "      <td>0</td>\n",
       "      <td>10</td>\n",
       "      <td>53</td>\n",
       "      <td>...</td>\n",
       "      <td>3</td>\n",
       "      <td>1</td>\n",
       "      <td>0</td>\n",
       "      <td>0</td>\n",
       "      <td>NaN</td>\n",
       "      <td>4907</td>\n",
       "      <td>5937</td>\n",
       "      <td>1</td>\n",
       "      <td>1</td>\n",
       "      <td>0</td>\n",
       "    </tr>\n",
       "    <tr>\n",
       "      <th>4</th>\n",
       "      <td>5</td>\n",
       "      <td>102</td>\n",
       "      <td>1</td>\n",
       "      <td>962</td>\n",
       "      <td>1087</td>\n",
       "      <td>11</td>\n",
       "      <td>0</td>\n",
       "      <td>0</td>\n",
       "      <td>6</td>\n",
       "      <td>98</td>\n",
       "      <td>...</td>\n",
       "      <td>2</td>\n",
       "      <td>4</td>\n",
       "      <td>1</td>\n",
       "      <td>0</td>\n",
       "      <td>NaN</td>\n",
       "      <td>5471</td>\n",
       "      <td>5931</td>\n",
       "      <td>2</td>\n",
       "      <td>1</td>\n",
       "      <td>0</td>\n",
       "    </tr>\n",
       "  </tbody>\n",
       "</table>\n",
       "<p>5 rows × 110 columns</p>\n",
       "</div>"
      ],
      "text/plain": [
       "   match_id  r1_hero  r1_level  r1_xp  r1_gold  r1_lh  r1_kills  r1_deaths  \\\n",
       "0         1       44         1   1448     1163     14         0          0   \n",
       "1         2       77         1   1311     1809     31         0          0   \n",
       "2         3       66         2   1477     1367     25         0          0   \n",
       "3         4        5         0    697      807      8         0          0   \n",
       "4         5      102         1    962     1087     11         0          0   \n",
       "\n",
       "   r1_items  r2_hero  ...  dire_tpscroll_count  dire_boots_count  \\\n",
       "0         7       97  ...                    0                 2   \n",
       "1         6       47  ...                    2                 1   \n",
       "2         7       22  ...                    4                 2   \n",
       "3        10       53  ...                    3                 1   \n",
       "4         6       98  ...                    2                 4   \n",
       "\n",
       "   dire_ward_observer_count  dire_ward_sentry_count  dire_first_ward_time  \\\n",
       "0                         0                       0                   NaN   \n",
       "1                         3                       2                  -9.0   \n",
       "2                         2                       0                  18.0   \n",
       "3                         0                       0                   NaN   \n",
       "4                         1                       0                   NaN   \n",
       "\n",
       "   dire_total_gold  dire_total_xp  dire_total_kills  dire_total_deaths  \\\n",
       "0             4348           6419                 0                  0   \n",
       "1             3989           5115                 0                  2   \n",
       "2             5096           6007                 1                  1   \n",
       "3             4907           5937                 1                  1   \n",
       "4             5471           5931                 2                  1   \n",
       "\n",
       "   radiant_win  \n",
       "0            1  \n",
       "1            0  \n",
       "2            1  \n",
       "3            0  \n",
       "4            0  \n",
       "\n",
       "[5 rows x 110 columns]"
      ]
     },
     "execution_count": 80,
     "metadata": {},
     "output_type": "execute_result"
    }
   ],
   "source": [
    "df = pd.read_csv('/Users/Nathan/Springboard/dota2.training.data.csv')\n",
    "df.head()"
   ]
  },
  {
   "cell_type": "code",
   "execution_count": 81,
   "metadata": {},
   "outputs": [],
   "source": [
    "hero_df = pd.read_json('/Users/Nathan/Springboard/hero_names.json')"
   ]
  },
  {
   "cell_type": "code",
   "execution_count": 82,
   "metadata": {},
   "outputs": [
    {
     "data": {
      "text/html": [
       "<div>\n",
       "<style scoped>\n",
       "    .dataframe tbody tr th:only-of-type {\n",
       "        vertical-align: middle;\n",
       "    }\n",
       "\n",
       "    .dataframe tbody tr th {\n",
       "        vertical-align: top;\n",
       "    }\n",
       "\n",
       "    .dataframe thead th {\n",
       "        text-align: right;\n",
       "    }\n",
       "</style>\n",
       "<table border=\"1\" class=\"dataframe\">\n",
       "  <thead>\n",
       "    <tr style=\"text-align: right;\">\n",
       "      <th></th>\n",
       "      <th>agi_gain</th>\n",
       "      <th>attack_range</th>\n",
       "      <th>attack_rate</th>\n",
       "      <th>attack_type</th>\n",
       "      <th>base_agi</th>\n",
       "      <th>base_armor</th>\n",
       "      <th>base_attack_max</th>\n",
       "      <th>base_attack_min</th>\n",
       "      <th>base_health</th>\n",
       "      <th>base_health_regen</th>\n",
       "      <th>...</th>\n",
       "      <th>int_gain</th>\n",
       "      <th>legs</th>\n",
       "      <th>localized_name</th>\n",
       "      <th>move_speed</th>\n",
       "      <th>name</th>\n",
       "      <th>primary_attr</th>\n",
       "      <th>projectile_speed</th>\n",
       "      <th>roles</th>\n",
       "      <th>str_gain</th>\n",
       "      <th>turn_rate</th>\n",
       "    </tr>\n",
       "  </thead>\n",
       "  <tbody>\n",
       "    <tr>\n",
       "      <th>npc_dota_hero_antimage</th>\n",
       "      <td>3.2</td>\n",
       "      <td>150</td>\n",
       "      <td>1.4</td>\n",
       "      <td>Melee</td>\n",
       "      <td>24</td>\n",
       "      <td>-1</td>\n",
       "      <td>33</td>\n",
       "      <td>29</td>\n",
       "      <td>200</td>\n",
       "      <td>0.25</td>\n",
       "      <td>...</td>\n",
       "      <td>1.8</td>\n",
       "      <td>2</td>\n",
       "      <td>Anti-Mage</td>\n",
       "      <td>310</td>\n",
       "      <td>npc_dota_hero_antimage</td>\n",
       "      <td>agi</td>\n",
       "      <td>0</td>\n",
       "      <td>[Carry, Escape, Nuker]</td>\n",
       "      <td>1.3</td>\n",
       "      <td>0.5</td>\n",
       "    </tr>\n",
       "    <tr>\n",
       "      <th>npc_dota_hero_axe</th>\n",
       "      <td>2.2</td>\n",
       "      <td>150</td>\n",
       "      <td>1.7</td>\n",
       "      <td>Melee</td>\n",
       "      <td>20</td>\n",
       "      <td>-2</td>\n",
       "      <td>28</td>\n",
       "      <td>24</td>\n",
       "      <td>200</td>\n",
       "      <td>2.75</td>\n",
       "      <td>...</td>\n",
       "      <td>1.6</td>\n",
       "      <td>2</td>\n",
       "      <td>Axe</td>\n",
       "      <td>295</td>\n",
       "      <td>npc_dota_hero_axe</td>\n",
       "      <td>str</td>\n",
       "      <td>900</td>\n",
       "      <td>[Initiator, Durable, Disabler, Jungler]</td>\n",
       "      <td>3.4</td>\n",
       "      <td>0.6</td>\n",
       "    </tr>\n",
       "    <tr>\n",
       "      <th>npc_dota_hero_bane</th>\n",
       "      <td>2.6</td>\n",
       "      <td>400</td>\n",
       "      <td>1.7</td>\n",
       "      <td>Ranged</td>\n",
       "      <td>23</td>\n",
       "      <td>1</td>\n",
       "      <td>41</td>\n",
       "      <td>35</td>\n",
       "      <td>200</td>\n",
       "      <td>None</td>\n",
       "      <td>...</td>\n",
       "      <td>2.6</td>\n",
       "      <td>4</td>\n",
       "      <td>Bane</td>\n",
       "      <td>305</td>\n",
       "      <td>npc_dota_hero_bane</td>\n",
       "      <td>int</td>\n",
       "      <td>900</td>\n",
       "      <td>[Support, Disabler, Nuker, Durable]</td>\n",
       "      <td>2.6</td>\n",
       "      <td>0.6</td>\n",
       "    </tr>\n",
       "    <tr>\n",
       "      <th>npc_dota_hero_bloodseeker</th>\n",
       "      <td>3.5</td>\n",
       "      <td>150</td>\n",
       "      <td>1.7</td>\n",
       "      <td>Melee</td>\n",
       "      <td>24</td>\n",
       "      <td>0</td>\n",
       "      <td>39</td>\n",
       "      <td>33</td>\n",
       "      <td>200</td>\n",
       "      <td>None</td>\n",
       "      <td>...</td>\n",
       "      <td>1.7</td>\n",
       "      <td>2</td>\n",
       "      <td>Bloodseeker</td>\n",
       "      <td>295</td>\n",
       "      <td>npc_dota_hero_bloodseeker</td>\n",
       "      <td>agi</td>\n",
       "      <td>900</td>\n",
       "      <td>[Carry, Disabler, Jungler, Nuker, Initiator]</td>\n",
       "      <td>2.7</td>\n",
       "      <td>0.5</td>\n",
       "    </tr>\n",
       "    <tr>\n",
       "      <th>npc_dota_hero_crystal_maiden</th>\n",
       "      <td>1.6</td>\n",
       "      <td>600</td>\n",
       "      <td>1.7</td>\n",
       "      <td>Ranged</td>\n",
       "      <td>16</td>\n",
       "      <td>0</td>\n",
       "      <td>36</td>\n",
       "      <td>30</td>\n",
       "      <td>200</td>\n",
       "      <td>None</td>\n",
       "      <td>...</td>\n",
       "      <td>3.3</td>\n",
       "      <td>2</td>\n",
       "      <td>Crystal Maiden</td>\n",
       "      <td>275</td>\n",
       "      <td>npc_dota_hero_crystal_maiden</td>\n",
       "      <td>int</td>\n",
       "      <td>900</td>\n",
       "      <td>[Support, Disabler, Nuker, Jungler]</td>\n",
       "      <td>2.2</td>\n",
       "      <td>0.5</td>\n",
       "    </tr>\n",
       "  </tbody>\n",
       "</table>\n",
       "<p>5 rows × 29 columns</p>\n",
       "</div>"
      ],
      "text/plain": [
       "                             agi_gain attack_range attack_rate attack_type  \\\n",
       "npc_dota_hero_antimage            3.2          150         1.4       Melee   \n",
       "npc_dota_hero_axe                 2.2          150         1.7       Melee   \n",
       "npc_dota_hero_bane                2.6          400         1.7      Ranged   \n",
       "npc_dota_hero_bloodseeker         3.5          150         1.7       Melee   \n",
       "npc_dota_hero_crystal_maiden      1.6          600         1.7      Ranged   \n",
       "\n",
       "                             base_agi base_armor base_attack_max  \\\n",
       "npc_dota_hero_antimage             24         -1              33   \n",
       "npc_dota_hero_axe                  20         -2              28   \n",
       "npc_dota_hero_bane                 23          1              41   \n",
       "npc_dota_hero_bloodseeker          24          0              39   \n",
       "npc_dota_hero_crystal_maiden       16          0              36   \n",
       "\n",
       "                             base_attack_min base_health base_health_regen  \\\n",
       "npc_dota_hero_antimage                    29         200              0.25   \n",
       "npc_dota_hero_axe                         24         200              2.75   \n",
       "npc_dota_hero_bane                        35         200              None   \n",
       "npc_dota_hero_bloodseeker                 33         200              None   \n",
       "npc_dota_hero_crystal_maiden              30         200              None   \n",
       "\n",
       "                              ... int_gain legs  localized_name move_speed  \\\n",
       "npc_dota_hero_antimage        ...      1.8    2       Anti-Mage        310   \n",
       "npc_dota_hero_axe             ...      1.6    2             Axe        295   \n",
       "npc_dota_hero_bane            ...      2.6    4            Bane        305   \n",
       "npc_dota_hero_bloodseeker     ...      1.7    2     Bloodseeker        295   \n",
       "npc_dota_hero_crystal_maiden  ...      3.3    2  Crystal Maiden        275   \n",
       "\n",
       "                                                      name primary_attr  \\\n",
       "npc_dota_hero_antimage              npc_dota_hero_antimage          agi   \n",
       "npc_dota_hero_axe                        npc_dota_hero_axe          str   \n",
       "npc_dota_hero_bane                      npc_dota_hero_bane          int   \n",
       "npc_dota_hero_bloodseeker        npc_dota_hero_bloodseeker          agi   \n",
       "npc_dota_hero_crystal_maiden  npc_dota_hero_crystal_maiden          int   \n",
       "\n",
       "                             projectile_speed  \\\n",
       "npc_dota_hero_antimage                      0   \n",
       "npc_dota_hero_axe                         900   \n",
       "npc_dota_hero_bane                        900   \n",
       "npc_dota_hero_bloodseeker                 900   \n",
       "npc_dota_hero_crystal_maiden              900   \n",
       "\n",
       "                                                                     roles  \\\n",
       "npc_dota_hero_antimage                              [Carry, Escape, Nuker]   \n",
       "npc_dota_hero_axe                  [Initiator, Durable, Disabler, Jungler]   \n",
       "npc_dota_hero_bane                     [Support, Disabler, Nuker, Durable]   \n",
       "npc_dota_hero_bloodseeker     [Carry, Disabler, Jungler, Nuker, Initiator]   \n",
       "npc_dota_hero_crystal_maiden           [Support, Disabler, Nuker, Jungler]   \n",
       "\n",
       "                             str_gain turn_rate  \n",
       "npc_dota_hero_antimage            1.3       0.5  \n",
       "npc_dota_hero_axe                 3.4       0.6  \n",
       "npc_dota_hero_bane                2.6       0.6  \n",
       "npc_dota_hero_bloodseeker         2.7       0.5  \n",
       "npc_dota_hero_crystal_maiden      2.2       0.5  \n",
       "\n",
       "[5 rows x 29 columns]"
      ]
     },
     "execution_count": 82,
     "metadata": {},
     "output_type": "execute_result"
    }
   ],
   "source": [
    "hero_df = hero_df.transpose()\n",
    "hero_df.head()"
   ]
  },
  {
   "cell_type": "code",
   "execution_count": 83,
   "metadata": {},
   "outputs": [],
   "source": [
    "list_of_all_players = ['r1', 'r2','r3','r4','r5','d1','d2','d3','d4','d5']"
   ]
  },
  {
   "cell_type": "code",
   "execution_count": 84,
   "metadata": {},
   "outputs": [
    {
     "name": "stdout",
     "output_type": "stream",
     "text": [
      "Joining data for player: r1\n",
      "Joining data for player: r2\n",
      "Joining data for player: r3\n",
      "Joining data for player: r4\n",
      "Joining data for player: r5\n",
      "Joining data for player: d1\n",
      "Joining data for player: d2\n",
      "Joining data for player: d3\n",
      "Joining data for player: d4\n",
      "Joining data for player: d5\n"
     ]
    }
   ],
   "source": [
    "for player in list_of_all_players:\n",
    "    print('Joining data for player: '+ player)\n",
    "    \n",
    "    hero_local = hero_df.copy()\n",
    "    hero_local.columns = player + '_' + hero_df.columns\n",
    "    \n",
    "    df = df.merge(hero_local, left_on=[player + '_hero'], right_on=[player + '_id'], how='left')"
   ]
  },
  {
   "cell_type": "code",
   "execution_count": 85,
   "metadata": {},
   "outputs": [
    {
     "data": {
      "text/html": [
       "<div>\n",
       "<style scoped>\n",
       "    .dataframe tbody tr th:only-of-type {\n",
       "        vertical-align: middle;\n",
       "    }\n",
       "\n",
       "    .dataframe tbody tr th {\n",
       "        vertical-align: top;\n",
       "    }\n",
       "\n",
       "    .dataframe thead th {\n",
       "        text-align: right;\n",
       "    }\n",
       "</style>\n",
       "<table border=\"1\" class=\"dataframe\">\n",
       "  <thead>\n",
       "    <tr style=\"text-align: right;\">\n",
       "      <th></th>\n",
       "      <th>match_id</th>\n",
       "      <th>r1_hero</th>\n",
       "      <th>r1_level</th>\n",
       "      <th>r1_xp</th>\n",
       "      <th>r1_gold</th>\n",
       "      <th>r1_lh</th>\n",
       "      <th>r1_kills</th>\n",
       "      <th>r1_deaths</th>\n",
       "      <th>r1_items</th>\n",
       "      <th>r2_hero</th>\n",
       "      <th>...</th>\n",
       "      <th>d5_int_gain</th>\n",
       "      <th>d5_legs</th>\n",
       "      <th>d5_localized_name</th>\n",
       "      <th>d5_move_speed</th>\n",
       "      <th>d5_name</th>\n",
       "      <th>d5_primary_attr</th>\n",
       "      <th>d5_projectile_speed</th>\n",
       "      <th>d5_roles</th>\n",
       "      <th>d5_str_gain</th>\n",
       "      <th>d5_turn_rate</th>\n",
       "    </tr>\n",
       "  </thead>\n",
       "  <tbody>\n",
       "    <tr>\n",
       "      <th>0</th>\n",
       "      <td>1</td>\n",
       "      <td>44</td>\n",
       "      <td>1</td>\n",
       "      <td>1448</td>\n",
       "      <td>1163</td>\n",
       "      <td>14</td>\n",
       "      <td>0</td>\n",
       "      <td>0</td>\n",
       "      <td>7</td>\n",
       "      <td>97</td>\n",
       "      <td>...</td>\n",
       "      <td>2.6</td>\n",
       "      <td>0</td>\n",
       "      <td>Medusa</td>\n",
       "      <td>275</td>\n",
       "      <td>npc_dota_hero_medusa</td>\n",
       "      <td>agi</td>\n",
       "      <td>1200</td>\n",
       "      <td>[Carry, Disabler, Durable]</td>\n",
       "      <td>1.3</td>\n",
       "      <td>0.5</td>\n",
       "    </tr>\n",
       "    <tr>\n",
       "      <th>1</th>\n",
       "      <td>2</td>\n",
       "      <td>77</td>\n",
       "      <td>1</td>\n",
       "      <td>1311</td>\n",
       "      <td>1809</td>\n",
       "      <td>31</td>\n",
       "      <td>0</td>\n",
       "      <td>0</td>\n",
       "      <td>6</td>\n",
       "      <td>47</td>\n",
       "      <td>...</td>\n",
       "      <td>1.4</td>\n",
       "      <td>2</td>\n",
       "      <td>Drow Ranger</td>\n",
       "      <td>285</td>\n",
       "      <td>npc_dota_hero_drow_ranger</td>\n",
       "      <td>agi</td>\n",
       "      <td>1250</td>\n",
       "      <td>[Carry, Disabler, Pusher]</td>\n",
       "      <td>1.9</td>\n",
       "      <td>0.7</td>\n",
       "    </tr>\n",
       "    <tr>\n",
       "      <th>2</th>\n",
       "      <td>3</td>\n",
       "      <td>66</td>\n",
       "      <td>2</td>\n",
       "      <td>1477</td>\n",
       "      <td>1367</td>\n",
       "      <td>25</td>\n",
       "      <td>0</td>\n",
       "      <td>0</td>\n",
       "      <td>7</td>\n",
       "      <td>22</td>\n",
       "      <td>...</td>\n",
       "      <td>1.5</td>\n",
       "      <td>2</td>\n",
       "      <td>Pudge</td>\n",
       "      <td>280</td>\n",
       "      <td>npc_dota_hero_pudge</td>\n",
       "      <td>str</td>\n",
       "      <td>0</td>\n",
       "      <td>[Disabler, Initiator, Durable, Nuker]</td>\n",
       "      <td>4</td>\n",
       "      <td>0.7</td>\n",
       "    </tr>\n",
       "    <tr>\n",
       "      <th>3</th>\n",
       "      <td>4</td>\n",
       "      <td>5</td>\n",
       "      <td>0</td>\n",
       "      <td>697</td>\n",
       "      <td>807</td>\n",
       "      <td>8</td>\n",
       "      <td>0</td>\n",
       "      <td>0</td>\n",
       "      <td>10</td>\n",
       "      <td>53</td>\n",
       "      <td>...</td>\n",
       "      <td>1.5</td>\n",
       "      <td>0</td>\n",
       "      <td>Slardar</td>\n",
       "      <td>290</td>\n",
       "      <td>npc_dota_hero_slardar</td>\n",
       "      <td>str</td>\n",
       "      <td>0</td>\n",
       "      <td>[Carry, Durable, Initiator, Disabler, Escape]</td>\n",
       "      <td>3.6</td>\n",
       "      <td>0.5</td>\n",
       "    </tr>\n",
       "    <tr>\n",
       "      <th>4</th>\n",
       "      <td>5</td>\n",
       "      <td>102</td>\n",
       "      <td>1</td>\n",
       "      <td>962</td>\n",
       "      <td>1087</td>\n",
       "      <td>11</td>\n",
       "      <td>0</td>\n",
       "      <td>0</td>\n",
       "      <td>6</td>\n",
       "      <td>98</td>\n",
       "      <td>...</td>\n",
       "      <td>1.8</td>\n",
       "      <td>2</td>\n",
       "      <td>Ember Spirit</td>\n",
       "      <td>305</td>\n",
       "      <td>npc_dota_hero_ember_spirit</td>\n",
       "      <td>agi</td>\n",
       "      <td>900</td>\n",
       "      <td>[Carry, Escape, Nuker, Disabler, Initiator]</td>\n",
       "      <td>2.6</td>\n",
       "      <td>0.5</td>\n",
       "    </tr>\n",
       "  </tbody>\n",
       "</table>\n",
       "<p>5 rows × 400 columns</p>\n",
       "</div>"
      ],
      "text/plain": [
       "   match_id r1_hero  r1_level  r1_xp  r1_gold  r1_lh  r1_kills  r1_deaths  \\\n",
       "0         1      44         1   1448     1163     14         0          0   \n",
       "1         2      77         1   1311     1809     31         0          0   \n",
       "2         3      66         2   1477     1367     25         0          0   \n",
       "3         4       5         0    697      807      8         0          0   \n",
       "4         5     102         1    962     1087     11         0          0   \n",
       "\n",
       "   r1_items r2_hero  ...  d5_int_gain  d5_legs  d5_localized_name  \\\n",
       "0         7      97  ...          2.6        0             Medusa   \n",
       "1         6      47  ...          1.4        2        Drow Ranger   \n",
       "2         7      22  ...          1.5        2              Pudge   \n",
       "3        10      53  ...          1.5        0            Slardar   \n",
       "4         6      98  ...          1.8        2       Ember Spirit   \n",
       "\n",
       "   d5_move_speed                     d5_name  d5_primary_attr  \\\n",
       "0            275        npc_dota_hero_medusa              agi   \n",
       "1            285   npc_dota_hero_drow_ranger              agi   \n",
       "2            280         npc_dota_hero_pudge              str   \n",
       "3            290       npc_dota_hero_slardar              str   \n",
       "4            305  npc_dota_hero_ember_spirit              agi   \n",
       "\n",
       "   d5_projectile_speed                                       d5_roles  \\\n",
       "0                 1200                     [Carry, Disabler, Durable]   \n",
       "1                 1250                      [Carry, Disabler, Pusher]   \n",
       "2                    0          [Disabler, Initiator, Durable, Nuker]   \n",
       "3                    0  [Carry, Durable, Initiator, Disabler, Escape]   \n",
       "4                  900    [Carry, Escape, Nuker, Disabler, Initiator]   \n",
       "\n",
       "   d5_str_gain  d5_turn_rate  \n",
       "0          1.3           0.5  \n",
       "1          1.9           0.7  \n",
       "2            4           0.7  \n",
       "3          3.6           0.5  \n",
       "4          2.6           0.5  \n",
       "\n",
       "[5 rows x 400 columns]"
      ]
     },
     "execution_count": 85,
     "metadata": {},
     "output_type": "execute_result"
    }
   ],
   "source": [
    "df.head()"
   ]
  },
  {
   "cell_type": "code",
   "execution_count": 86,
   "metadata": {},
   "outputs": [
    {
     "name": "stdout",
     "output_type": "stream",
     "text": [
      "match_id\n",
      "r1_hero\n",
      "r1_level\n",
      "r1_xp\n",
      "r1_gold\n",
      "r1_lh\n",
      "r1_kills\n",
      "r1_deaths\n",
      "r1_items\n",
      "r2_hero\n",
      "r2_level\n",
      "r2_xp\n",
      "r2_gold\n",
      "r2_lh\n",
      "r2_kills\n",
      "r2_deaths\n",
      "r2_items\n",
      "r3_hero\n",
      "r3_level\n",
      "r3_xp\n",
      "r3_gold\n",
      "r3_lh\n",
      "r3_kills\n",
      "r3_deaths\n",
      "r3_items\n",
      "r4_hero\n",
      "r4_level\n",
      "r4_xp\n",
      "r4_gold\n",
      "r4_lh\n",
      "r4_kills\n",
      "r4_deaths\n",
      "r4_items\n",
      "r5_hero\n",
      "r5_level\n",
      "r5_xp\n",
      "r5_gold\n",
      "r5_lh\n",
      "r5_kills\n",
      "r5_deaths\n",
      "r5_items\n",
      "d1_hero\n",
      "d1_level\n",
      "d1_xp\n",
      "d1_gold\n",
      "d1_lh\n",
      "d1_kills\n",
      "d1_deaths\n",
      "d1_items\n",
      "d2_hero\n",
      "d2_level\n",
      "d2_xp\n",
      "d2_gold\n",
      "d2_lh\n",
      "d2_kills\n",
      "d2_deaths\n",
      "d2_items\n",
      "d3_hero\n",
      "d3_level\n",
      "d3_xp\n",
      "d3_gold\n",
      "d3_lh\n",
      "d3_kills\n",
      "d3_deaths\n",
      "d3_items\n",
      "d4_hero\n",
      "d4_level\n",
      "d4_xp\n",
      "d4_gold\n",
      "d4_lh\n",
      "d4_kills\n",
      "d4_deaths\n",
      "d4_items\n",
      "d5_hero\n",
      "d5_level\n",
      "d5_xp\n",
      "d5_gold\n",
      "d5_lh\n",
      "d5_kills\n",
      "d5_deaths\n",
      "d5_items\n",
      "first_blood_time\n",
      "first_blood_team\n",
      "first_blood_player1\n",
      "first_blood_player2\n",
      "radiant_bottle_time\n",
      "radiant_courier_time\n",
      "radiant_flying_courier_time\n",
      "radiant_tpscroll_count\n",
      "radiant_boots_count\n",
      "radiant_ward_observer_count\n",
      "radiant_ward_sentry_count\n",
      "radiant_first_ward_time\n",
      "radiant_total_gold\n",
      "radiant_total_xp\n",
      "radiant_total_kills\n",
      "radiant_total_deaths\n",
      "dire_bottle_time\n",
      "dire_courier_time\n",
      "dire_flying_courier_time\n",
      "dire_tpscroll_count\n",
      "dire_boots_count\n",
      "dire_ward_observer_count\n",
      "dire_ward_sentry_count\n",
      "dire_first_ward_time\n",
      "dire_total_gold\n",
      "dire_total_xp\n",
      "dire_total_kills\n",
      "dire_total_deaths\n",
      "radiant_win\n",
      "r1_agi_gain\n",
      "r1_attack_range\n",
      "r1_attack_rate\n",
      "r1_attack_type\n",
      "r1_base_agi\n",
      "r1_base_armor\n",
      "r1_base_attack_max\n",
      "r1_base_attack_min\n",
      "r1_base_health\n",
      "r1_base_health_regen\n",
      "r1_base_int\n",
      "r1_base_mana\n",
      "r1_base_mana_regen\n",
      "r1_base_mr\n",
      "r1_base_str\n",
      "r1_cm_enabled\n",
      "r1_icon\n",
      "r1_id\n",
      "r1_img\n",
      "r1_int_gain\n",
      "r1_legs\n",
      "r1_localized_name\n",
      "r1_move_speed\n",
      "r1_name\n",
      "r1_primary_attr\n",
      "r1_projectile_speed\n",
      "r1_roles\n",
      "r1_str_gain\n",
      "r1_turn_rate\n",
      "r2_agi_gain\n",
      "r2_attack_range\n",
      "r2_attack_rate\n",
      "r2_attack_type\n",
      "r2_base_agi\n",
      "r2_base_armor\n",
      "r2_base_attack_max\n",
      "r2_base_attack_min\n",
      "r2_base_health\n",
      "r2_base_health_regen\n",
      "r2_base_int\n",
      "r2_base_mana\n",
      "r2_base_mana_regen\n",
      "r2_base_mr\n",
      "r2_base_str\n",
      "r2_cm_enabled\n",
      "r2_icon\n",
      "r2_id\n",
      "r2_img\n",
      "r2_int_gain\n",
      "r2_legs\n",
      "r2_localized_name\n",
      "r2_move_speed\n",
      "r2_name\n",
      "r2_primary_attr\n",
      "r2_projectile_speed\n",
      "r2_roles\n",
      "r2_str_gain\n",
      "r2_turn_rate\n",
      "r3_agi_gain\n",
      "r3_attack_range\n",
      "r3_attack_rate\n",
      "r3_attack_type\n",
      "r3_base_agi\n",
      "r3_base_armor\n",
      "r3_base_attack_max\n",
      "r3_base_attack_min\n",
      "r3_base_health\n",
      "r3_base_health_regen\n",
      "r3_base_int\n",
      "r3_base_mana\n",
      "r3_base_mana_regen\n",
      "r3_base_mr\n",
      "r3_base_str\n",
      "r3_cm_enabled\n",
      "r3_icon\n",
      "r3_id\n",
      "r3_img\n",
      "r3_int_gain\n",
      "r3_legs\n",
      "r3_localized_name\n",
      "r3_move_speed\n",
      "r3_name\n",
      "r3_primary_attr\n",
      "r3_projectile_speed\n",
      "r3_roles\n",
      "r3_str_gain\n",
      "r3_turn_rate\n",
      "r4_agi_gain\n",
      "r4_attack_range\n",
      "r4_attack_rate\n",
      "r4_attack_type\n",
      "r4_base_agi\n",
      "r4_base_armor\n",
      "r4_base_attack_max\n",
      "r4_base_attack_min\n",
      "r4_base_health\n",
      "r4_base_health_regen\n",
      "r4_base_int\n",
      "r4_base_mana\n",
      "r4_base_mana_regen\n",
      "r4_base_mr\n",
      "r4_base_str\n",
      "r4_cm_enabled\n",
      "r4_icon\n",
      "r4_id\n",
      "r4_img\n",
      "r4_int_gain\n",
      "r4_legs\n",
      "r4_localized_name\n",
      "r4_move_speed\n",
      "r4_name\n",
      "r4_primary_attr\n",
      "r4_projectile_speed\n",
      "r4_roles\n",
      "r4_str_gain\n",
      "r4_turn_rate\n",
      "r5_agi_gain\n",
      "r5_attack_range\n",
      "r5_attack_rate\n",
      "r5_attack_type\n",
      "r5_base_agi\n",
      "r5_base_armor\n",
      "r5_base_attack_max\n",
      "r5_base_attack_min\n",
      "r5_base_health\n",
      "r5_base_health_regen\n",
      "r5_base_int\n",
      "r5_base_mana\n",
      "r5_base_mana_regen\n",
      "r5_base_mr\n",
      "r5_base_str\n",
      "r5_cm_enabled\n",
      "r5_icon\n",
      "r5_id\n",
      "r5_img\n",
      "r5_int_gain\n",
      "r5_legs\n",
      "r5_localized_name\n",
      "r5_move_speed\n",
      "r5_name\n",
      "r5_primary_attr\n",
      "r5_projectile_speed\n",
      "r5_roles\n",
      "r5_str_gain\n",
      "r5_turn_rate\n",
      "d1_agi_gain\n",
      "d1_attack_range\n",
      "d1_attack_rate\n",
      "d1_attack_type\n",
      "d1_base_agi\n",
      "d1_base_armor\n",
      "d1_base_attack_max\n",
      "d1_base_attack_min\n",
      "d1_base_health\n",
      "d1_base_health_regen\n",
      "d1_base_int\n",
      "d1_base_mana\n",
      "d1_base_mana_regen\n",
      "d1_base_mr\n",
      "d1_base_str\n",
      "d1_cm_enabled\n",
      "d1_icon\n",
      "d1_id\n",
      "d1_img\n",
      "d1_int_gain\n",
      "d1_legs\n",
      "d1_localized_name\n",
      "d1_move_speed\n",
      "d1_name\n",
      "d1_primary_attr\n",
      "d1_projectile_speed\n",
      "d1_roles\n",
      "d1_str_gain\n",
      "d1_turn_rate\n",
      "d2_agi_gain\n",
      "d2_attack_range\n",
      "d2_attack_rate\n",
      "d2_attack_type\n",
      "d2_base_agi\n",
      "d2_base_armor\n",
      "d2_base_attack_max\n",
      "d2_base_attack_min\n",
      "d2_base_health\n",
      "d2_base_health_regen\n",
      "d2_base_int\n",
      "d2_base_mana\n",
      "d2_base_mana_regen\n",
      "d2_base_mr\n",
      "d2_base_str\n",
      "d2_cm_enabled\n",
      "d2_icon\n",
      "d2_id\n",
      "d2_img\n",
      "d2_int_gain\n",
      "d2_legs\n",
      "d2_localized_name\n",
      "d2_move_speed\n",
      "d2_name\n",
      "d2_primary_attr\n",
      "d2_projectile_speed\n",
      "d2_roles\n",
      "d2_str_gain\n",
      "d2_turn_rate\n",
      "d3_agi_gain\n",
      "d3_attack_range\n",
      "d3_attack_rate\n",
      "d3_attack_type\n",
      "d3_base_agi\n",
      "d3_base_armor\n",
      "d3_base_attack_max\n",
      "d3_base_attack_min\n",
      "d3_base_health\n",
      "d3_base_health_regen\n",
      "d3_base_int\n",
      "d3_base_mana\n",
      "d3_base_mana_regen\n",
      "d3_base_mr\n",
      "d3_base_str\n",
      "d3_cm_enabled\n",
      "d3_icon\n",
      "d3_id\n",
      "d3_img\n",
      "d3_int_gain\n",
      "d3_legs\n",
      "d3_localized_name\n",
      "d3_move_speed\n",
      "d3_name\n",
      "d3_primary_attr\n",
      "d3_projectile_speed\n",
      "d3_roles\n",
      "d3_str_gain\n",
      "d3_turn_rate\n",
      "d4_agi_gain\n",
      "d4_attack_range\n",
      "d4_attack_rate\n",
      "d4_attack_type\n",
      "d4_base_agi\n",
      "d4_base_armor\n",
      "d4_base_attack_max\n",
      "d4_base_attack_min\n",
      "d4_base_health\n",
      "d4_base_health_regen\n",
      "d4_base_int\n",
      "d4_base_mana\n",
      "d4_base_mana_regen\n",
      "d4_base_mr\n",
      "d4_base_str\n",
      "d4_cm_enabled\n",
      "d4_icon\n",
      "d4_id\n",
      "d4_img\n",
      "d4_int_gain\n",
      "d4_legs\n",
      "d4_localized_name\n",
      "d4_move_speed\n",
      "d4_name\n",
      "d4_primary_attr\n",
      "d4_projectile_speed\n",
      "d4_roles\n",
      "d4_str_gain\n",
      "d4_turn_rate\n",
      "d5_agi_gain\n",
      "d5_attack_range\n",
      "d5_attack_rate\n",
      "d5_attack_type\n",
      "d5_base_agi\n",
      "d5_base_armor\n",
      "d5_base_attack_max\n",
      "d5_base_attack_min\n",
      "d5_base_health\n",
      "d5_base_health_regen\n",
      "d5_base_int\n",
      "d5_base_mana\n",
      "d5_base_mana_regen\n",
      "d5_base_mr\n",
      "d5_base_str\n",
      "d5_cm_enabled\n",
      "d5_icon\n",
      "d5_id\n",
      "d5_img\n",
      "d5_int_gain\n",
      "d5_legs\n",
      "d5_localized_name\n",
      "d5_move_speed\n",
      "d5_name\n",
      "d5_primary_attr\n",
      "d5_projectile_speed\n",
      "d5_roles\n",
      "d5_str_gain\n",
      "d5_turn_rate\n"
     ]
    }
   ],
   "source": [
    "for col in df.columns:\n",
    "    print(col)"
   ]
  },
  {
   "cell_type": "markdown",
   "metadata": {},
   "source": [
    "# agi_gain mean by team, by win"
   ]
  },
  {
   "cell_type": "code",
   "execution_count": 87,
   "metadata": {},
   "outputs": [],
   "source": [
    "agi_gain = df[['r1_agi_gain', 'r2_agi_gain','r3_agi_gain','r4_agi_gain','r5_agi_gain','d1_agi_gain','d2_agi_gain','d3_agi_gain','d4_agi_gain','d5_agi_gain','radiant_win']]"
   ]
  },
  {
   "cell_type": "code",
   "execution_count": 88,
   "metadata": {},
   "outputs": [],
   "source": [
    "r_agi_gain = df[['r1_agi_gain', 'r2_agi_gain','r3_agi_gain','r4_agi_gain','r5_agi_gain','radiant_win']]"
   ]
  },
  {
   "cell_type": "code",
   "execution_count": 89,
   "metadata": {},
   "outputs": [
    {
     "data": {
      "text/plain": [
       "11.505371445843007"
      ]
     },
     "execution_count": 89,
     "metadata": {},
     "output_type": "execute_result"
    }
   ],
   "source": [
    "r_agi_gain[r_agi_gain['radiant_win'] ==1].sum(axis=1).mean()"
   ]
  },
  {
   "cell_type": "code",
   "execution_count": 90,
   "metadata": {},
   "outputs": [
    {
     "data": {
      "text/plain": [
       "10.564699160500586"
      ]
     },
     "execution_count": 90,
     "metadata": {},
     "output_type": "execute_result"
    }
   ],
   "source": [
    "r_agi_gain[r_agi_gain['radiant_win'] ==0].sum(axis=1).mean()"
   ]
  },
  {
   "cell_type": "code",
   "execution_count": 91,
   "metadata": {},
   "outputs": [],
   "source": [
    "d_agi_gain = df[['d1_agi_gain','d2_agi_gain','d3_agi_gain','d4_agi_gain','d5_agi_gain','radiant_win']]"
   ]
  },
  {
   "cell_type": "code",
   "execution_count": 92,
   "metadata": {},
   "outputs": [
    {
     "data": {
      "text/plain": [
       "11.548650661715433"
      ]
     },
     "execution_count": 92,
     "metadata": {},
     "output_type": "execute_result"
    }
   ],
   "source": [
    "d_agi_gain[d_agi_gain['radiant_win'] ==1].sum(axis=1).mean()"
   ]
  },
  {
   "cell_type": "code",
   "execution_count": 93,
   "metadata": {},
   "outputs": [
    {
     "data": {
      "text/plain": [
       "10.50017649854046"
      ]
     },
     "execution_count": 93,
     "metadata": {},
     "output_type": "execute_result"
    }
   ],
   "source": [
    "d_agi_gain[d_agi_gain['radiant_win'] ==0].sum(axis=1).mean()"
   ]
  },
  {
   "cell_type": "markdown",
   "metadata": {},
   "source": [
    "# attack_range mean by team, by win"
   ]
  },
  {
   "cell_type": "code",
   "execution_count": 94,
   "metadata": {},
   "outputs": [],
   "source": [
    "r_attack_range = df[['r1_attack_range', 'r2_attack_range','r3_attack_range','r4_attack_range','r5_attack_range','radiant_win']]"
   ]
  },
  {
   "cell_type": "markdown",
   "metadata": {},
   "source": [
    "Radiant mean attack range with win"
   ]
  },
  {
   "cell_type": "code",
   "execution_count": 95,
   "metadata": {},
   "outputs": [
    {
     "data": {
      "text/plain": [
       "1701.866221205121"
      ]
     },
     "execution_count": 95,
     "metadata": {},
     "output_type": "execute_result"
    }
   ],
   "source": [
    "r_attack_range[r_attack_range['radiant_win'] ==1].sum(axis=1).mean()"
   ]
  },
  {
   "cell_type": "markdown",
   "metadata": {},
   "source": [
    "Radiant mean attack range with loss"
   ]
  },
  {
   "cell_type": "code",
   "execution_count": 96,
   "metadata": {},
   "outputs": [
    {
     "data": {
      "text/plain": [
       "1722.2543728644807"
      ]
     },
     "execution_count": 96,
     "metadata": {},
     "output_type": "execute_result"
    }
   ],
   "source": [
    "r_attack_range[r_attack_range['radiant_win'] ==0].sum(axis=1).mean()"
   ]
  },
  {
   "cell_type": "code",
   "execution_count": 97,
   "metadata": {},
   "outputs": [],
   "source": [
    "d_attack_range = df[['d1_attack_range', 'd2_attack_range','d3_attack_range','d4_attack_range','d5_attack_range','radiant_win']]"
   ]
  },
  {
   "cell_type": "markdown",
   "metadata": {},
   "source": [
    "Dire mean attack range with loss"
   ]
  },
  {
   "cell_type": "code",
   "execution_count": 98,
   "metadata": {},
   "outputs": [
    {
     "data": {
      "text/plain": [
       "1724.3742632612966"
      ]
     },
     "execution_count": 98,
     "metadata": {},
     "output_type": "execute_result"
    }
   ],
   "source": [
    "d_attack_range[d_attack_range['radiant_win'] ==1].sum(axis=1).mean()"
   ]
  },
  {
   "cell_type": "markdown",
   "metadata": {},
   "source": [
    "Dire mean attack range with win"
   ]
  },
  {
   "cell_type": "code",
   "execution_count": 99,
   "metadata": {},
   "outputs": [
    {
     "data": {
      "text/plain": [
       "1700.326974860272"
      ]
     },
     "execution_count": 99,
     "metadata": {},
     "output_type": "execute_result"
    }
   ],
   "source": [
    "d_attack_range[d_attack_range['radiant_win'] ==0].sum(axis=1).mean()"
   ]
  },
  {
   "cell_type": "code",
   "execution_count": 100,
   "metadata": {},
   "outputs": [
    {
     "data": {
      "text/plain": [
       "1    48.194335\n",
       "2    45.439497\n",
       "3    47.533260\n",
       "4    45.078467\n",
       "5    54.506160\n",
       "dtype: float64"
      ]
     },
     "execution_count": 100,
     "metadata": {},
     "output_type": "execute_result"
    }
   ],
   "source": [
    "all_heroes_win_per.head()"
   ]
  },
  {
   "cell_type": "code",
   "execution_count": 101,
   "metadata": {},
   "outputs": [],
   "source": [
    "hero_namez = hero_df[['id', 'name']]"
   ]
  },
  {
   "cell_type": "markdown",
   "metadata": {},
   "source": [
    "# Creating Random Forest"
   ]
  },
  {
   "cell_type": "markdown",
   "metadata": {},
   "source": [
    "removing features with 0 importance"
   ]
  },
  {
   "cell_type": "code",
   "execution_count": 102,
   "metadata": {},
   "outputs": [],
   "source": [
    "train3 = pd.read_csv('/Users/Nathan/train3.csv')"
   ]
  },
  {
   "cell_type": "code",
   "execution_count": 103,
   "metadata": {},
   "outputs": [],
   "source": [
    "train3['radiant_level'] = train3[['r1_level','r2_level','r3_level','r4_level','r5_level']].sum(axis=1)"
   ]
  },
  {
   "cell_type": "code",
   "execution_count": 104,
   "metadata": {},
   "outputs": [],
   "source": [
    "train3['dire_level'] = train3[['d1_level','d2_level','d3_level','d4_level','d5_level']].sum(axis=1)"
   ]
  },
  {
   "cell_type": "code",
   "execution_count": 105,
   "metadata": {},
   "outputs": [],
   "source": [
    "train3['radiant_lh'] = train3[['r1_lh','r2_lh','r3_lh','r4_lh','r5_lh']].sum(axis=1)"
   ]
  },
  {
   "cell_type": "code",
   "execution_count": 106,
   "metadata": {},
   "outputs": [],
   "source": [
    "train3['dire_lh'] = train3[['d1_lh','d2_lh','d3_lh','d4_lh','d5_lh']].sum(axis=1)"
   ]
  },
  {
   "cell_type": "code",
   "execution_count": 107,
   "metadata": {},
   "outputs": [],
   "source": [
    "train3['radiant_items'] = train3[['r1_items','r2_items','r3_items','r4_items','r5_items']].sum(axis=1)"
   ]
  },
  {
   "cell_type": "code",
   "execution_count": 108,
   "metadata": {},
   "outputs": [],
   "source": [
    "train3['dire_items'] = train3[['d1_items','d2_items','d3_items','d4_items','d5_items']].sum(axis=1)"
   ]
  },
  {
   "cell_type": "code",
   "execution_count": 109,
   "metadata": {},
   "outputs": [],
   "source": [
    "train3['radiant_agi_gain'] = train3[['r1_agi_gain','r2_agi_gain','r3_agi_gain','r4_agi_gain','r5_agi_gain']].sum(axis=1)"
   ]
  },
  {
   "cell_type": "code",
   "execution_count": 110,
   "metadata": {},
   "outputs": [],
   "source": [
    "train3['dire_agi_gain'] = train3[['d1_agi_gain','d2_agi_gain','d3_agi_gain','d4_agi_gain','d5_agi_gain']].sum(axis=1)\n"
   ]
  },
  {
   "cell_type": "code",
   "execution_count": 111,
   "metadata": {},
   "outputs": [],
   "source": [
    "train3['radiant_attack_range'] = train3[['r1_attack_range','r2_attack_range','r3_attack_range','r4_attack_range','r5_attack_range']].sum(axis=1)"
   ]
  },
  {
   "cell_type": "code",
   "execution_count": 112,
   "metadata": {},
   "outputs": [],
   "source": [
    "train3['dire_attack_range'] = train3[['d1_attack_range','d2_attack_range','d3_attack_range','d4_attack_range','d5_attack_range']].sum(axis=1)"
   ]
  },
  {
   "cell_type": "code",
   "execution_count": 113,
   "metadata": {},
   "outputs": [],
   "source": [
    "train3['radiant_attack_rate'] = train3[['r1_attack_rate','r2_attack_rate','r3_attack_rate','r4_attack_rate','r5_attack_rate']].sum(axis=1)"
   ]
  },
  {
   "cell_type": "code",
   "execution_count": 114,
   "metadata": {},
   "outputs": [],
   "source": [
    "train3['dire_attack_rate'] = train3[['d1_attack_rate','d2_attack_rate','d3_attack_rate','d4_attack_rate','d5_attack_rate']].sum(axis=1)"
   ]
  },
  {
   "cell_type": "code",
   "execution_count": 115,
   "metadata": {},
   "outputs": [],
   "source": [
    "train3['radiant_base_agi'] = train3[['r1_base_agi','r2_base_agi','r3_base_agi','r4_base_agi','r5_base_agi']].sum(axis=1)"
   ]
  },
  {
   "cell_type": "code",
   "execution_count": 116,
   "metadata": {},
   "outputs": [],
   "source": [
    "train3['dire_base_agi'] = train3[['d1_base_agi','d2_base_agi','d3_base_agi','d4_base_agi','d5_base_agi']].sum(axis=1)"
   ]
  },
  {
   "cell_type": "code",
   "execution_count": 117,
   "metadata": {},
   "outputs": [],
   "source": [
    "train3['radiant_base_armor'] = train3[['r1_base_armor','r2_base_armor','r3_base_armor','r4_base_armor','r5_base_armor']].sum(axis=1)"
   ]
  },
  {
   "cell_type": "code",
   "execution_count": 118,
   "metadata": {},
   "outputs": [],
   "source": [
    "train3['dire_base_armor'] = train3[['d1_base_armor','d2_base_armor','d3_base_armor','d4_base_armor','d5_base_armor']].sum(axis=1)"
   ]
  },
  {
   "cell_type": "code",
   "execution_count": 119,
   "metadata": {},
   "outputs": [],
   "source": [
    "train3['radiant_base_attack_max'] = train3[['r1_base_attack_max','r2_base_attack_max','r3_base_attack_max','r4_base_attack_max','r5_base_attack_max']].sum(axis=1)"
   ]
  },
  {
   "cell_type": "code",
   "execution_count": 120,
   "metadata": {},
   "outputs": [],
   "source": [
    "train3['dire_base_attack_max'] = train3[['d1_base_attack_max','d2_base_attack_max','d3_base_attack_max','d4_base_attack_max','d5_base_attack_max']].sum(axis=1)"
   ]
  },
  {
   "cell_type": "code",
   "execution_count": 121,
   "metadata": {},
   "outputs": [],
   "source": [
    "train3['radiant_base_attack_min'] = train3[['r1_base_attack_min','r2_base_attack_min','r3_base_attack_min','r4_base_attack_min','r5_base_attack_min']].sum(axis=1)\n",
    "\n"
   ]
  },
  {
   "cell_type": "code",
   "execution_count": 122,
   "metadata": {},
   "outputs": [],
   "source": [
    "train3['dire_base_attack_min'] = train3[['d1_base_attack_min','d2_base_attack_min','d3_base_attack_min','d4_base_attack_min','d5_base_attack_min']].sum(axis=1)\n"
   ]
  },
  {
   "cell_type": "code",
   "execution_count": 123,
   "metadata": {},
   "outputs": [],
   "source": [
    "train3['radiant_base_int'] = train3[['r1_base_int','r2_base_int','r3_base_int','r4_base_int','r5_base_int']].sum(axis=1)\n"
   ]
  },
  {
   "cell_type": "code",
   "execution_count": 124,
   "metadata": {},
   "outputs": [],
   "source": [
    "train3['dire_base_int'] = train3[['d1_base_int','d2_base_int','d3_base_int','d4_base_int','d5_base_int']].sum(axis=1)\n"
   ]
  },
  {
   "cell_type": "code",
   "execution_count": 125,
   "metadata": {},
   "outputs": [],
   "source": [
    "train3['radiant_base_str'] = train3[['r1_base_str','r2_base_str','r3_base_str','r4_base_str','r5_base_str']].sum(axis=1)\n"
   ]
  },
  {
   "cell_type": "code",
   "execution_count": 126,
   "metadata": {},
   "outputs": [],
   "source": [
    "train3['dire_base_str'] = train3[['d1_base_str','d2_base_str','d3_base_str','d4_base_str','d5_base_str']].sum(axis=1)\n"
   ]
  },
  {
   "cell_type": "code",
   "execution_count": 127,
   "metadata": {},
   "outputs": [],
   "source": [
    "train3['radiant_int_gain'] = train3[['r1_int_gain','r2_int_gain','r3_int_gain','r4_int_gain','r5_int_gain']].sum(axis=1)\n"
   ]
  },
  {
   "cell_type": "code",
   "execution_count": 128,
   "metadata": {},
   "outputs": [],
   "source": [
    "train3['dire_int_gain'] = train3[['d1_int_gain','d2_int_gain','d3_int_gain','d4_int_gain','d5_int_gain']].sum(axis=1)\n"
   ]
  },
  {
   "cell_type": "code",
   "execution_count": 129,
   "metadata": {},
   "outputs": [],
   "source": [
    "train3['radiant_legs'] = train3[['r1_legs','r2_legs','r3_legs','r4_legs','r5_legs']].sum(axis=1)\n"
   ]
  },
  {
   "cell_type": "code",
   "execution_count": 130,
   "metadata": {},
   "outputs": [],
   "source": [
    "train3['dire_legs'] = train3[['d1_legs','d2_legs','d3_legs','d4_legs','d5_legs']].sum(axis=1)\n"
   ]
  },
  {
   "cell_type": "code",
   "execution_count": 131,
   "metadata": {},
   "outputs": [],
   "source": [
    "train3['radiant_move_speed'] = train3[['r1_move_speed','r2_move_speed','r3_move_speed','r4_move_speed','r5_move_speed']].sum(axis=1)\n"
   ]
  },
  {
   "cell_type": "code",
   "execution_count": 132,
   "metadata": {},
   "outputs": [],
   "source": [
    "train3['dire_move_speed'] = train3[['d1_move_speed','d2_move_speed','d3_move_speed','d4_move_speed','d5_move_speed']].sum(axis=1)\n"
   ]
  },
  {
   "cell_type": "code",
   "execution_count": 133,
   "metadata": {},
   "outputs": [],
   "source": [
    "train3['radiant_primary_attr'] = train3[['r1_primary_attr','r2_primary_attr','r3_primary_attr','r4_primary_attr','r5_primary_attr']].sum(axis=1)\n"
   ]
  },
  {
   "cell_type": "code",
   "execution_count": 134,
   "metadata": {},
   "outputs": [],
   "source": [
    "train3['dire_primary_attr'] = train3[['d1_primary_attr','d2_primary_attr','d3_primary_attr','d4_primary_attr','d5_primary_attr']].sum(axis=1)\n"
   ]
  },
  {
   "cell_type": "code",
   "execution_count": 135,
   "metadata": {},
   "outputs": [],
   "source": [
    "train3['radiant_projectile_speed'] = train3[['r1_projectile_speed','r2_projectile_speed','r3_projectile_speed','r4_projectile_speed','r5_projectile_speed']].sum(axis=1)\n"
   ]
  },
  {
   "cell_type": "code",
   "execution_count": 136,
   "metadata": {},
   "outputs": [],
   "source": [
    "train3['dire_projectile_speed'] = train3[['d1_projectile_speed','d2_projectile_speed','d3_projectile_speed','d4_projectile_speed','d5_projectile_speed']].sum(axis=1)\n"
   ]
  },
  {
   "cell_type": "code",
   "execution_count": 137,
   "metadata": {},
   "outputs": [],
   "source": [
    "train3['radiant_str_gain'] = train3[['r1_str_gain','r2_str_gain','r3_str_gain','r4_str_gain','r5_str_gain']].sum(axis=1)\n"
   ]
  },
  {
   "cell_type": "code",
   "execution_count": 138,
   "metadata": {},
   "outputs": [],
   "source": [
    "train3['dire_str_gain'] = train3[['d1_str_gain','d2_str_gain','d3_str_gain','d4_str_gain','d5_str_gain']].sum(axis=1)\n"
   ]
  },
  {
   "cell_type": "code",
   "execution_count": 139,
   "metadata": {},
   "outputs": [],
   "source": [
    "train3['radiant_turn_rate'] = train3[['r1_turn_rate','r2_turn_rate','r3_turn_rate','r4_turn_rate','r5_turn_rate']].sum(axis=1)\n"
   ]
  },
  {
   "cell_type": "code",
   "execution_count": 140,
   "metadata": {},
   "outputs": [],
   "source": [
    "train3['dire_turn_rate'] = train3[['d1_turn_rate','d2_turn_rate','d3_turn_rate','d4_turn_rate','d5_turn_rate']].sum(axis=1)\n"
   ]
  },
  {
   "cell_type": "code",
   "execution_count": 141,
   "metadata": {},
   "outputs": [
    {
     "name": "stdout",
     "output_type": "stream",
     "text": [
      "'Unnamed: 0',\n",
      "'r1_hero',\n",
      "'r1_level',\n",
      "'r1_xp',\n",
      "'r1_gold',\n",
      "'r1_lh',\n",
      "'r1_kills',\n",
      "'r1_deaths',\n",
      "'r1_items',\n",
      "'r2_hero',\n",
      "'r2_level',\n",
      "'r2_xp',\n",
      "'r2_gold',\n",
      "'r2_lh',\n",
      "'r2_kills',\n",
      "'r2_deaths',\n",
      "'r2_items',\n",
      "'r3_hero',\n",
      "'r3_level',\n",
      "'r3_xp',\n",
      "'r3_gold',\n",
      "'r3_lh',\n",
      "'r3_kills',\n",
      "'r3_deaths',\n",
      "'r3_items',\n",
      "'r4_hero',\n",
      "'r4_level',\n",
      "'r4_xp',\n",
      "'r4_gold',\n",
      "'r4_lh',\n",
      "'r4_kills',\n",
      "'r4_deaths',\n",
      "'r4_items',\n",
      "'r5_hero',\n",
      "'r5_level',\n",
      "'r5_xp',\n",
      "'r5_gold',\n",
      "'r5_lh',\n",
      "'r5_kills',\n",
      "'r5_deaths',\n",
      "'r5_items',\n",
      "'d1_hero',\n",
      "'d1_level',\n",
      "'d1_xp',\n",
      "'d1_gold',\n",
      "'d1_lh',\n",
      "'d1_kills',\n",
      "'d1_deaths',\n",
      "'d1_items',\n",
      "'d2_hero',\n",
      "'d2_level',\n",
      "'d2_xp',\n",
      "'d2_gold',\n",
      "'d2_lh',\n",
      "'d2_kills',\n",
      "'d2_deaths',\n",
      "'d2_items',\n",
      "'d3_hero',\n",
      "'d3_level',\n",
      "'d3_xp',\n",
      "'d3_gold',\n",
      "'d3_lh',\n",
      "'d3_kills',\n",
      "'d3_deaths',\n",
      "'d3_items',\n",
      "'d4_hero',\n",
      "'d4_level',\n",
      "'d4_xp',\n",
      "'d4_gold',\n",
      "'d4_lh',\n",
      "'d4_kills',\n",
      "'d4_deaths',\n",
      "'d4_items',\n",
      "'d5_hero',\n",
      "'d5_level',\n",
      "'d5_xp',\n",
      "'d5_gold',\n",
      "'d5_lh',\n",
      "'d5_kills',\n",
      "'d5_deaths',\n",
      "'d5_items',\n",
      "'first_blood_time',\n",
      "'first_blood_team',\n",
      "'first_blood_player1',\n",
      "'first_blood_player2',\n",
      "'radiant_bottle_time',\n",
      "'radiant_courier_time',\n",
      "'radiant_flying_courier_time',\n",
      "'radiant_tpscroll_count',\n",
      "'radiant_boots_count',\n",
      "'radiant_ward_observer_count',\n",
      "'radiant_ward_sentry_count',\n",
      "'radiant_first_ward_time',\n",
      "'radiant_total_gold',\n",
      "'radiant_total_xp',\n",
      "'radiant_total_kills',\n",
      "'radiant_total_deaths',\n",
      "'dire_bottle_time',\n",
      "'dire_courier_time',\n",
      "'dire_flying_courier_time',\n",
      "'dire_tpscroll_count',\n",
      "'dire_boots_count',\n",
      "'dire_ward_observer_count',\n",
      "'dire_ward_sentry_count',\n",
      "'dire_first_ward_time',\n",
      "'dire_total_gold',\n",
      "'dire_total_xp',\n",
      "'dire_total_kills',\n",
      "'dire_total_deaths',\n",
      "'radiant_win',\n",
      "'r1_agi_gain',\n",
      "'r1_attack_range',\n",
      "'r1_attack_rate',\n",
      "'r1_attack_type',\n",
      "'r1_base_agi',\n",
      "'r1_base_armor',\n",
      "'r1_base_attack_max',\n",
      "'r1_base_attack_min',\n",
      "'r1_base_health',\n",
      "'r1_base_health_regen',\n",
      "'r1_base_int',\n",
      "'r1_base_mana',\n",
      "'r1_base_mana_regen',\n",
      "'r1_base_mr',\n",
      "'r1_base_str',\n",
      "'r1_cm_enabled',\n",
      "'r1_id',\n",
      "'r1_int_gain',\n",
      "'r1_legs',\n",
      "'r1_move_speed',\n",
      "'r1_primary_attr',\n",
      "'r1_projectile_speed',\n",
      "'r1_str_gain',\n",
      "'r1_turn_rate',\n",
      "'r2_agi_gain',\n",
      "'r2_attack_range',\n",
      "'r2_attack_rate',\n",
      "'r2_attack_type',\n",
      "'r2_base_agi',\n",
      "'r2_base_armor',\n",
      "'r2_base_attack_max',\n",
      "'r2_base_attack_min',\n",
      "'r2_base_health',\n",
      "'r2_base_health_regen',\n",
      "'r2_base_int',\n",
      "'r2_base_mana',\n",
      "'r2_base_mana_regen',\n",
      "'r2_base_mr',\n",
      "'r2_base_str',\n",
      "'r2_cm_enabled',\n",
      "'r2_id',\n",
      "'r2_int_gain',\n",
      "'r2_legs',\n",
      "'r2_move_speed',\n",
      "'r2_primary_attr',\n",
      "'r2_projectile_speed',\n",
      "'r2_str_gain',\n",
      "'r2_turn_rate',\n",
      "'r3_agi_gain',\n",
      "'r3_attack_range',\n",
      "'r3_attack_rate',\n",
      "'r3_attack_type',\n",
      "'r3_base_agi',\n",
      "'r3_base_armor',\n",
      "'r3_base_attack_max',\n",
      "'r3_base_attack_min',\n",
      "'r3_base_health',\n",
      "'r3_base_health_regen',\n",
      "'r3_base_int',\n",
      "'r3_base_mana',\n",
      "'r3_base_mana_regen',\n",
      "'r3_base_mr',\n",
      "'r3_base_str',\n",
      "'r3_cm_enabled',\n",
      "'r3_id',\n",
      "'r3_int_gain',\n",
      "'r3_legs',\n",
      "'r3_move_speed',\n",
      "'r3_primary_attr',\n",
      "'r3_projectile_speed',\n",
      "'r3_str_gain',\n",
      "'r3_turn_rate',\n",
      "'r4_agi_gain',\n",
      "'r4_attack_range',\n",
      "'r4_attack_rate',\n",
      "'r4_attack_type',\n",
      "'r4_base_agi',\n",
      "'r4_base_armor',\n",
      "'r4_base_attack_max',\n",
      "'r4_base_attack_min',\n",
      "'r4_base_health',\n",
      "'r4_base_health_regen',\n",
      "'r4_base_int',\n",
      "'r4_base_mana',\n",
      "'r4_base_mana_regen',\n",
      "'r4_base_mr',\n",
      "'r4_base_str',\n",
      "'r4_cm_enabled',\n",
      "'r4_id',\n",
      "'r4_int_gain',\n",
      "'r4_legs',\n",
      "'r4_move_speed',\n",
      "'r4_name',\n",
      "'r4_primary_attr',\n",
      "'r4_projectile_speed',\n",
      "'r4_roles',\n",
      "'r4_str_gain',\n",
      "'r4_turn_rate',\n",
      "'r5_agi_gain',\n",
      "'r5_attack_range',\n",
      "'r5_attack_rate',\n",
      "'r5_attack_type',\n",
      "'r5_base_agi',\n",
      "'r5_base_armor',\n",
      "'r5_base_attack_max',\n",
      "'r5_base_attack_min',\n",
      "'r5_base_health',\n",
      "'r5_base_health_regen',\n",
      "'r5_base_int',\n",
      "'r5_base_mana',\n",
      "'r5_base_mana_regen',\n",
      "'r5_base_mr',\n",
      "'r5_base_str',\n",
      "'r5_cm_enabled',\n",
      "'r5_id',\n",
      "'r5_int_gain',\n",
      "'r5_legs',\n",
      "'r5_move_speed',\n",
      "'r5_primary_attr',\n",
      "'r5_projectile_speed',\n",
      "'r5_str_gain',\n",
      "'r5_turn_rate',\n",
      "'d1_agi_gain',\n",
      "'d1_attack_range',\n",
      "'d1_attack_rate',\n",
      "'d1_attack_type',\n",
      "'d1_base_agi',\n",
      "'d1_base_armor',\n",
      "'d1_base_attack_max',\n",
      "'d1_base_attack_min',\n",
      "'d1_base_health',\n",
      "'d1_base_health_regen',\n",
      "'d1_base_int',\n",
      "'d1_base_mana',\n",
      "'d1_base_mana_regen',\n",
      "'d1_base_mr',\n",
      "'d1_base_str',\n",
      "'d1_cm_enabled',\n",
      "'d1_id',\n",
      "'d1_int_gain',\n",
      "'d1_legs',\n",
      "'d1_move_speed',\n",
      "'d1_primary_attr',\n",
      "'d1_projectile_speed',\n",
      "'d1_str_gain',\n",
      "'d1_turn_rate',\n",
      "'d2_agi_gain',\n",
      "'d2_attack_range',\n",
      "'d2_attack_rate',\n",
      "'d2_attack_type',\n",
      "'d2_base_agi',\n",
      "'d2_base_armor',\n",
      "'d2_base_attack_max',\n",
      "'d2_base_attack_min',\n",
      "'d2_base_health',\n",
      "'d2_base_health_regen',\n",
      "'d2_base_int',\n",
      "'d2_base_mana',\n",
      "'d2_base_mana_regen',\n",
      "'d2_base_mr',\n",
      "'d2_base_str',\n",
      "'d2_cm_enabled',\n",
      "'d2_id',\n",
      "'d2_int_gain',\n",
      "'d2_legs',\n",
      "'d2_move_speed',\n",
      "'d2_primary_attr',\n",
      "'d2_projectile_speed',\n",
      "'d2_str_gain',\n",
      "'d2_turn_rate',\n",
      "'d3_agi_gain',\n",
      "'d3_attack_range',\n",
      "'d3_attack_rate',\n",
      "'d3_attack_type',\n",
      "'d3_base_agi',\n",
      "'d3_base_armor',\n",
      "'d3_base_attack_max',\n",
      "'d3_base_attack_min',\n",
      "'d3_base_health',\n",
      "'d3_base_health_regen',\n",
      "'d3_base_int',\n",
      "'d3_base_mana',\n",
      "'d3_base_mana_regen',\n",
      "'d3_base_mr',\n",
      "'d3_base_str',\n",
      "'d3_cm_enabled',\n",
      "'d3_id',\n",
      "'d3_int_gain',\n",
      "'d3_legs',\n",
      "'d3_move_speed',\n",
      "'d3_primary_attr',\n",
      "'d3_projectile_speed',\n",
      "'d3_str_gain',\n",
      "'d3_turn_rate',\n",
      "'d4_agi_gain',\n",
      "'d4_attack_range',\n",
      "'d4_attack_rate',\n",
      "'d4_attack_type',\n",
      "'d4_base_agi',\n",
      "'d4_base_armor',\n",
      "'d4_base_attack_max',\n",
      "'d4_base_attack_min',\n",
      "'d4_base_health',\n",
      "'d4_base_health_regen',\n",
      "'d4_base_int',\n",
      "'d4_base_mana',\n",
      "'d4_base_mana_regen',\n",
      "'d4_base_mr',\n",
      "'d4_base_str',\n",
      "'d4_cm_enabled',\n",
      "'d4_id',\n",
      "'d4_int_gain',\n",
      "'d4_legs',\n",
      "'d4_move_speed',\n",
      "'d4_primary_attr',\n",
      "'d4_projectile_speed',\n",
      "'d4_str_gain',\n",
      "'d4_turn_rate',\n",
      "'d5_agi_gain',\n",
      "'d5_attack_range',\n",
      "'d5_attack_rate',\n",
      "'d5_attack_type',\n",
      "'d5_base_agi',\n",
      "'d5_base_armor',\n",
      "'d5_base_attack_max',\n",
      "'d5_base_attack_min',\n",
      "'d5_base_health',\n",
      "'d5_base_health_regen',\n",
      "'d5_base_int',\n",
      "'d5_base_mana',\n",
      "'d5_base_mana_regen',\n",
      "'d5_base_mr',\n",
      "'d5_base_str',\n",
      "'d5_cm_enabled',\n",
      "'d5_id',\n",
      "'d5_int_gain',\n",
      "'d5_legs',\n",
      "'d5_move_speed',\n",
      "'d5_primary_attr',\n",
      "'d5_projectile_speed',\n",
      "'d5_str_gain',\n",
      "'d5_turn_rate',\n",
      "'radiant_level',\n",
      "'dire_level',\n",
      "'radiant_lh',\n",
      "'dire_lh',\n",
      "'radiant_items',\n",
      "'dire_items',\n",
      "'radiant_agi_gain',\n",
      "'dire_agi_gain',\n",
      "'radiant_attack_range',\n",
      "'dire_attack_range',\n",
      "'radiant_attack_rate',\n",
      "'dire_attack_rate',\n",
      "'radiant_base_agi',\n",
      "'dire_base_agi',\n",
      "'radiant_base_armor',\n",
      "'dire_base_armor',\n",
      "'radiant_base_attack_max',\n",
      "'dire_base_attack_max',\n",
      "'radiant_base_attack_min',\n",
      "'dire_base_attack_min',\n",
      "'radiant_base_int',\n",
      "'dire_base_int',\n",
      "'radiant_base_str',\n",
      "'dire_base_str',\n",
      "'radiant_int_gain',\n",
      "'dire_int_gain',\n",
      "'radiant_legs',\n",
      "'dire_legs',\n",
      "'radiant_move_speed',\n",
      "'dire_move_speed',\n",
      "'radiant_primary_attr',\n",
      "'dire_primary_attr',\n",
      "'radiant_projectile_speed',\n",
      "'dire_projectile_speed',\n",
      "'radiant_str_gain',\n",
      "'dire_str_gain',\n",
      "'radiant_turn_rate',\n",
      "'dire_turn_rate',\n"
     ]
    }
   ],
   "source": [
    "for cols in train3.columns:\n",
    "    print(\"'\"+cols+\"',\")"
   ]
  },
  {
   "cell_type": "code",
   "execution_count": 142,
   "metadata": {},
   "outputs": [],
   "source": [
    "teamTrain = train3[['first_blood_time',\n",
    "'first_blood_team',\n",
    "'first_blood_player1',\n",
    "'first_blood_player2',\n",
    "'radiant_bottle_time',\n",
    "'radiant_courier_time',\n",
    "'radiant_flying_courier_time',\n",
    "'radiant_tpscroll_count',\n",
    "'radiant_boots_count',\n",
    "'radiant_ward_observer_count',\n",
    "'radiant_ward_sentry_count',\n",
    "'radiant_first_ward_time',\n",
    "'radiant_total_gold',\n",
    "'radiant_total_xp',\n",
    "'radiant_total_kills',\n",
    "'radiant_total_deaths',\n",
    "'dire_bottle_time',\n",
    "'dire_courier_time',\n",
    "'dire_flying_courier_time',\n",
    "'dire_tpscroll_count',\n",
    "'dire_boots_count',\n",
    "'dire_ward_observer_count',\n",
    "'dire_ward_sentry_count',\n",
    "'dire_first_ward_time',\n",
    "'dire_total_gold',\n",
    "'dire_total_xp',\n",
    "'dire_total_kills',\n",
    "'dire_total_deaths','radiant_level',\n",
    "'dire_level',\n",
    "'radiant_lh',\n",
    "'dire_lh',\n",
    "'radiant_items',\n",
    "'dire_items',\n",
    "'radiant_agi_gain',\n",
    "'dire_agi_gain',\n",
    "'radiant_attack_range',\n",
    "'dire_attack_range',\n",
    "'radiant_attack_rate',\n",
    "'dire_attack_rate',\n",
    "'radiant_base_agi',\n",
    "'dire_base_agi',\n",
    "'radiant_base_armor',\n",
    "'dire_base_armor',\n",
    "'radiant_base_attack_max',\n",
    "'dire_base_attack_max',\n",
    "'radiant_base_attack_min',\n",
    "'dire_base_attack_min',\n",
    "'radiant_base_int',\n",
    "'dire_base_int',\n",
    "'radiant_base_str',\n",
    "'dire_base_str',\n",
    "'radiant_int_gain',\n",
    "'dire_int_gain',\n",
    "'radiant_legs',\n",
    "'dire_legs',\n",
    "'radiant_move_speed',\n",
    "'dire_move_speed',\n",
    "'radiant_projectile_speed',\n",
    "'dire_projectile_speed',\n",
    "'radiant_str_gain',\n",
    "'dire_str_gain',\n",
    "'radiant_turn_rate',\n",
    "'dire_turn_rate',\n",
    "'radiant_win']]"
   ]
  },
  {
   "cell_type": "code",
   "execution_count": 143,
   "metadata": {},
   "outputs": [
    {
     "data": {
      "text/html": [
       "<div>\n",
       "<style scoped>\n",
       "    .dataframe tbody tr th:only-of-type {\n",
       "        vertical-align: middle;\n",
       "    }\n",
       "\n",
       "    .dataframe tbody tr th {\n",
       "        vertical-align: top;\n",
       "    }\n",
       "\n",
       "    .dataframe thead th {\n",
       "        text-align: right;\n",
       "    }\n",
       "</style>\n",
       "<table border=\"1\" class=\"dataframe\">\n",
       "  <thead>\n",
       "    <tr style=\"text-align: right;\">\n",
       "      <th></th>\n",
       "      <th>first_blood_time</th>\n",
       "      <th>first_blood_team</th>\n",
       "      <th>first_blood_player1</th>\n",
       "      <th>first_blood_player2</th>\n",
       "      <th>radiant_bottle_time</th>\n",
       "      <th>radiant_courier_time</th>\n",
       "      <th>radiant_flying_courier_time</th>\n",
       "      <th>radiant_tpscroll_count</th>\n",
       "      <th>radiant_boots_count</th>\n",
       "      <th>radiant_ward_observer_count</th>\n",
       "      <th>...</th>\n",
       "      <th>dire_legs</th>\n",
       "      <th>radiant_move_speed</th>\n",
       "      <th>dire_move_speed</th>\n",
       "      <th>radiant_projectile_speed</th>\n",
       "      <th>dire_projectile_speed</th>\n",
       "      <th>radiant_str_gain</th>\n",
       "      <th>dire_str_gain</th>\n",
       "      <th>radiant_turn_rate</th>\n",
       "      <th>dire_turn_rate</th>\n",
       "      <th>radiant_win</th>\n",
       "    </tr>\n",
       "  </thead>\n",
       "  <tbody>\n",
       "    <tr>\n",
       "      <th>0</th>\n",
       "      <td>NaN</td>\n",
       "      <td>NaN</td>\n",
       "      <td>NaN</td>\n",
       "      <td>NaN</td>\n",
       "      <td>165.0</td>\n",
       "      <td>-55.0</td>\n",
       "      <td>NaN</td>\n",
       "      <td>6</td>\n",
       "      <td>4</td>\n",
       "      <td>1</td>\n",
       "      <td>...</td>\n",
       "      <td>8</td>\n",
       "      <td>1485</td>\n",
       "      <td>1440</td>\n",
       "      <td>4500</td>\n",
       "      <td>5400</td>\n",
       "      <td>14.1</td>\n",
       "      <td>12.0</td>\n",
       "      <td>3.0</td>\n",
       "      <td>2.7</td>\n",
       "      <td>1</td>\n",
       "    </tr>\n",
       "    <tr>\n",
       "      <th>1</th>\n",
       "      <td>166.0</td>\n",
       "      <td>0.0</td>\n",
       "      <td>1.0</td>\n",
       "      <td>6.0</td>\n",
       "      <td>NaN</td>\n",
       "      <td>-54.0</td>\n",
       "      <td>205.0</td>\n",
       "      <td>0</td>\n",
       "      <td>3</td>\n",
       "      <td>2</td>\n",
       "      <td>...</td>\n",
       "      <td>10</td>\n",
       "      <td>1480</td>\n",
       "      <td>1480</td>\n",
       "      <td>5750</td>\n",
       "      <td>7050</td>\n",
       "      <td>14.3</td>\n",
       "      <td>12.8</td>\n",
       "      <td>2.8</td>\n",
       "      <td>2.9</td>\n",
       "      <td>0</td>\n",
       "    </tr>\n",
       "    <tr>\n",
       "      <th>2</th>\n",
       "      <td>159.0</td>\n",
       "      <td>0.0</td>\n",
       "      <td>2.0</td>\n",
       "      <td>7.0</td>\n",
       "      <td>119.0</td>\n",
       "      <td>-71.0</td>\n",
       "      <td>NaN</td>\n",
       "      <td>0</td>\n",
       "      <td>4</td>\n",
       "      <td>2</td>\n",
       "      <td>...</td>\n",
       "      <td>12</td>\n",
       "      <td>1505</td>\n",
       "      <td>1485</td>\n",
       "      <td>5200</td>\n",
       "      <td>3400</td>\n",
       "      <td>12.9</td>\n",
       "      <td>17.5</td>\n",
       "      <td>2.8</td>\n",
       "      <td>3.0</td>\n",
       "      <td>1</td>\n",
       "    </tr>\n",
       "    <tr>\n",
       "      <th>3</th>\n",
       "      <td>184.0</td>\n",
       "      <td>1.0</td>\n",
       "      <td>8.0</td>\n",
       "      <td>4.0</td>\n",
       "      <td>160.0</td>\n",
       "      <td>-55.0</td>\n",
       "      <td>216.0</td>\n",
       "      <td>0</td>\n",
       "      <td>2</td>\n",
       "      <td>2</td>\n",
       "      <td>...</td>\n",
       "      <td>4</td>\n",
       "      <td>1470</td>\n",
       "      <td>1480</td>\n",
       "      <td>4475</td>\n",
       "      <td>3600</td>\n",
       "      <td>11.4</td>\n",
       "      <td>12.8</td>\n",
       "      <td>3.4</td>\n",
       "      <td>2.6</td>\n",
       "      <td>0</td>\n",
       "    </tr>\n",
       "    <tr>\n",
       "      <th>4</th>\n",
       "      <td>132.0</td>\n",
       "      <td>1.0</td>\n",
       "      <td>9.0</td>\n",
       "      <td>4.0</td>\n",
       "      <td>167.0</td>\n",
       "      <td>NaN</td>\n",
       "      <td>NaN</td>\n",
       "      <td>3</td>\n",
       "      <td>3</td>\n",
       "      <td>0</td>\n",
       "      <td>...</td>\n",
       "      <td>10</td>\n",
       "      <td>1475</td>\n",
       "      <td>1505</td>\n",
       "      <td>4950</td>\n",
       "      <td>6600</td>\n",
       "      <td>13.9</td>\n",
       "      <td>13.9</td>\n",
       "      <td>3.0</td>\n",
       "      <td>2.9</td>\n",
       "      <td>0</td>\n",
       "    </tr>\n",
       "  </tbody>\n",
       "</table>\n",
       "<p>5 rows × 65 columns</p>\n",
       "</div>"
      ],
      "text/plain": [
       "   first_blood_time  first_blood_team  first_blood_player1  \\\n",
       "0               NaN               NaN                  NaN   \n",
       "1             166.0               0.0                  1.0   \n",
       "2             159.0               0.0                  2.0   \n",
       "3             184.0               1.0                  8.0   \n",
       "4             132.0               1.0                  9.0   \n",
       "\n",
       "   first_blood_player2  radiant_bottle_time  radiant_courier_time  \\\n",
       "0                  NaN                165.0                 -55.0   \n",
       "1                  6.0                  NaN                 -54.0   \n",
       "2                  7.0                119.0                 -71.0   \n",
       "3                  4.0                160.0                 -55.0   \n",
       "4                  4.0                167.0                   NaN   \n",
       "\n",
       "   radiant_flying_courier_time  radiant_tpscroll_count  radiant_boots_count  \\\n",
       "0                          NaN                       6                    4   \n",
       "1                        205.0                       0                    3   \n",
       "2                          NaN                       0                    4   \n",
       "3                        216.0                       0                    2   \n",
       "4                          NaN                       3                    3   \n",
       "\n",
       "   radiant_ward_observer_count  ...  dire_legs  radiant_move_speed  \\\n",
       "0                            1  ...          8                1485   \n",
       "1                            2  ...         10                1480   \n",
       "2                            2  ...         12                1505   \n",
       "3                            2  ...          4                1470   \n",
       "4                            0  ...         10                1475   \n",
       "\n",
       "   dire_move_speed  radiant_projectile_speed  dire_projectile_speed  \\\n",
       "0             1440                      4500                   5400   \n",
       "1             1480                      5750                   7050   \n",
       "2             1485                      5200                   3400   \n",
       "3             1480                      4475                   3600   \n",
       "4             1505                      4950                   6600   \n",
       "\n",
       "   radiant_str_gain  dire_str_gain  radiant_turn_rate  dire_turn_rate  \\\n",
       "0              14.1           12.0                3.0             2.7   \n",
       "1              14.3           12.8                2.8             2.9   \n",
       "2              12.9           17.5                2.8             3.0   \n",
       "3              11.4           12.8                3.4             2.6   \n",
       "4              13.9           13.9                3.0             2.9   \n",
       "\n",
       "   radiant_win  \n",
       "0            1  \n",
       "1            0  \n",
       "2            1  \n",
       "3            0  \n",
       "4            0  \n",
       "\n",
       "[5 rows x 65 columns]"
      ]
     },
     "execution_count": 143,
     "metadata": {},
     "output_type": "execute_result"
    }
   ],
   "source": [
    "teamTrain.head()"
   ]
  },
  {
   "cell_type": "code",
   "execution_count": 144,
   "metadata": {},
   "outputs": [
    {
     "name": "stderr",
     "output_type": "stream",
     "text": [
      "//anaconda3/lib/python3.7/site-packages/pandas/core/generic.py:6130: SettingWithCopyWarning: \n",
      "A value is trying to be set on a copy of a slice from a DataFrame\n",
      "\n",
      "See the caveats in the documentation: http://pandas.pydata.org/pandas-docs/stable/indexing.html#indexing-view-versus-copy\n",
      "  self._update_inplace(new_data)\n"
     ]
    }
   ],
   "source": [
    "teamTrain['first_blood_time'].fillna((teamTrain['first_blood_time'].mean()), inplace=True)\n",
    "teamTrain['radiant_bottle_time'].fillna((teamTrain['radiant_bottle_time'].mean()), inplace=True)\n",
    "teamTrain['radiant_courier_time'].fillna((teamTrain['radiant_courier_time'].mean()), inplace=True)\n",
    "teamTrain['radiant_flying_courier_time'].fillna((teamTrain['radiant_flying_courier_time'].mean()), inplace=True)\n",
    "teamTrain['radiant_first_ward_time'].fillna((teamTrain['radiant_first_ward_time'].mean()), inplace=True)\n",
    "teamTrain['dire_bottle_time'].fillna((teamTrain['dire_bottle_time'].mean()), inplace=True)\n",
    "teamTrain['dire_courier_time'].fillna((teamTrain['dire_courier_time'].mean()), inplace=True)\n",
    "teamTrain['dire_flying_courier_time'].fillna((teamTrain['dire_flying_courier_time'].mean()), inplace=True)\n",
    "teamTrain['dire_first_ward_time'].fillna((teamTrain['dire_first_ward_time'].mean()), inplace=True)"
   ]
  },
  {
   "cell_type": "code",
   "execution_count": 145,
   "metadata": {},
   "outputs": [],
   "source": [
    "teamTrain['first_blood_team'].fillna(999, inplace=True)\n",
    "teamTrain['first_blood_player1'].fillna(999, inplace=True)\n",
    "teamTrain['first_blood_player2'].fillna(999, inplace=True)"
   ]
  },
  {
   "cell_type": "code",
   "execution_count": 146,
   "metadata": {},
   "outputs": [],
   "source": [
    "X=teamTrain[['first_blood_time',\n",
    "'first_blood_team',\n",
    "'first_blood_player1',\n",
    "'first_blood_player2',\n",
    "'radiant_bottle_time',\n",
    "'radiant_courier_time',\n",
    "'radiant_flying_courier_time',\n",
    "'radiant_tpscroll_count',\n",
    "'radiant_boots_count',\n",
    "'radiant_ward_observer_count',\n",
    "'radiant_ward_sentry_count',\n",
    "'radiant_first_ward_time',\n",
    "'radiant_total_gold',\n",
    "'radiant_total_xp',\n",
    "'radiant_total_kills',\n",
    "'radiant_total_deaths',\n",
    "'dire_bottle_time',\n",
    "'dire_courier_time',\n",
    "'dire_flying_courier_time',\n",
    "'dire_tpscroll_count',\n",
    "'dire_boots_count',\n",
    "'dire_ward_observer_count',\n",
    "'dire_ward_sentry_count',\n",
    "'dire_first_ward_time',\n",
    "'dire_total_gold',\n",
    "'dire_total_xp',\n",
    "'dire_total_kills',\n",
    "'dire_total_deaths','radiant_level',\n",
    "'dire_level',\n",
    "'radiant_lh',\n",
    "'dire_lh',\n",
    "'radiant_items',\n",
    "'dire_items',\n",
    "'radiant_agi_gain',\n",
    "'dire_agi_gain',\n",
    "'radiant_attack_range',\n",
    "'dire_attack_range',\n",
    "'radiant_attack_rate',\n",
    "'dire_attack_rate',\n",
    "'radiant_base_agi',\n",
    "'dire_base_agi',\n",
    "'radiant_base_armor',\n",
    "'dire_base_armor',\n",
    "'radiant_base_attack_max',\n",
    "'dire_base_attack_max',\n",
    "'radiant_base_attack_min',\n",
    "'dire_base_attack_min',\n",
    "'radiant_base_int',\n",
    "'dire_base_int',\n",
    "'radiant_base_str',\n",
    "'dire_base_str',\n",
    "'radiant_int_gain',\n",
    "'dire_int_gain',\n",
    "'radiant_legs',\n",
    "'dire_legs',\n",
    "'radiant_move_speed',\n",
    "'dire_move_speed',\n",
    "'radiant_projectile_speed',\n",
    "'dire_projectile_speed',\n",
    "'radiant_str_gain',\n",
    "'dire_str_gain',\n",
    "'radiant_turn_rate',\n",
    "'dire_turn_rate']]\n",
    "\n",
    "y=teamTrain['radiant_win']"
   ]
  },
  {
   "cell_type": "code",
   "execution_count": 147,
   "metadata": {},
   "outputs": [],
   "source": [
    "X_train, X_test, y_train, y_test = train_test_split(X,y,test_size=0.3)"
   ]
  },
  {
   "cell_type": "code",
   "execution_count": 148,
   "metadata": {},
   "outputs": [],
   "source": [
    "clf=RandomForestClassifier(n_estimators=100)"
   ]
  },
  {
   "cell_type": "code",
   "execution_count": 149,
   "metadata": {},
   "outputs": [
    {
     "data": {
      "text/plain": [
       "RandomForestClassifier(bootstrap=True, class_weight=None, criterion='gini',\n",
       "                       max_depth=None, max_features='auto', max_leaf_nodes=None,\n",
       "                       min_impurity_decrease=0.0, min_impurity_split=None,\n",
       "                       min_samples_leaf=1, min_samples_split=2,\n",
       "                       min_weight_fraction_leaf=0.0, n_estimators=100,\n",
       "                       n_jobs=None, oob_score=False, random_state=None,\n",
       "                       verbose=0, warm_start=False)"
      ]
     },
     "execution_count": 149,
     "metadata": {},
     "output_type": "execute_result"
    }
   ],
   "source": [
    "clf.fit(X_train,y_train)"
   ]
  },
  {
   "cell_type": "code",
   "execution_count": 150,
   "metadata": {},
   "outputs": [],
   "source": [
    "y_pred=clf.predict(X_test)"
   ]
  },
  {
   "cell_type": "code",
   "execution_count": 151,
   "metadata": {},
   "outputs": [
    {
     "name": "stdout",
     "output_type": "stream",
     "text": [
      "Accuracy: 0.6146239964646093\n"
     ]
    }
   ],
   "source": [
    "print(\"Accuracy:\",metrics.accuracy_score(y_test, y_pred))"
   ]
  },
  {
   "cell_type": "code",
   "execution_count": 152,
   "metadata": {},
   "outputs": [
    {
     "data": {
      "text/plain": [
       "dire_total_gold                0.038048\n",
       "radiant_total_gold             0.037431\n",
       "radiant_total_xp               0.030713\n",
       "dire_total_xp                  0.030053\n",
       "radiant_lh                     0.021132\n",
       "dire_lh                        0.020930\n",
       "dire_attack_range              0.019671\n",
       "first_blood_time               0.019657\n",
       "radiant_attack_range           0.019327\n",
       "radiant_first_ward_time        0.019319\n",
       "dire_projectile_speed          0.019310\n",
       "dire_int_gain                  0.019238\n",
       "dire_first_ward_time           0.019231\n",
       "radiant_bottle_time            0.019151\n",
       "dire_base_int                  0.019149\n",
       "radiant_agi_gain               0.019120\n",
       "radiant_int_gain               0.019117\n",
       "dire_agi_gain                  0.018959\n",
       "radiant_base_int               0.018957\n",
       "dire_bottle_time               0.018905\n",
       "radiant_projectile_speed       0.018864\n",
       "radiant_courier_time           0.018788\n",
       "dire_courier_time              0.018601\n",
       "dire_str_gain                  0.018521\n",
       "dire_base_attack_max           0.018413\n",
       "radiant_str_gain               0.018372\n",
       "dire_items                     0.018267\n",
       "dire_base_attack_min           0.018222\n",
       "radiant_base_attack_max        0.018145\n",
       "radiant_base_attack_min        0.018083\n",
       "                                 ...   \n",
       "dire_base_str                  0.016120\n",
       "radiant_move_speed             0.016106\n",
       "radiant_base_str               0.015967\n",
       "dire_base_armor                0.014423\n",
       "radiant_base_armor             0.014365\n",
       "dire_flying_courier_time       0.014256\n",
       "radiant_flying_courier_time    0.013810\n",
       "radiant_turn_rate              0.013415\n",
       "dire_turn_rate                 0.013333\n",
       "dire_level                     0.011347\n",
       "radiant_level                  0.011280\n",
       "dire_attack_rate               0.010873\n",
       "radiant_attack_rate            0.010716\n",
       "first_blood_player2            0.010218\n",
       "first_blood_player1            0.010087\n",
       "dire_tpscroll_count            0.009152\n",
       "radiant_tpscroll_count         0.009073\n",
       "dire_legs                      0.008333\n",
       "radiant_legs                   0.008270\n",
       "dire_total_kills               0.007875\n",
       "radiant_total_kills            0.007744\n",
       "dire_boots_count               0.007668\n",
       "radiant_boots_count            0.007595\n",
       "radiant_total_deaths           0.007236\n",
       "dire_ward_observer_count       0.006987\n",
       "radiant_ward_observer_count    0.006884\n",
       "dire_total_deaths              0.006423\n",
       "first_blood_team               0.003258\n",
       "radiant_ward_sentry_count      0.003177\n",
       "dire_ward_sentry_count         0.003035\n",
       "Length: 64, dtype: float64"
      ]
     },
     "execution_count": 152,
     "metadata": {},
     "output_type": "execute_result"
    }
   ],
   "source": [
    "feature_imp = pd.Series(clf.feature_importances_,index=['first_blood_time',\n",
    "'first_blood_team',\n",
    "'first_blood_player1',\n",
    "'first_blood_player2',\n",
    "'radiant_bottle_time',\n",
    "'radiant_courier_time',\n",
    "'radiant_flying_courier_time',\n",
    "'radiant_tpscroll_count',\n",
    "'radiant_boots_count',\n",
    "'radiant_ward_observer_count',\n",
    "'radiant_ward_sentry_count',\n",
    "'radiant_first_ward_time',\n",
    "'radiant_total_gold',\n",
    "'radiant_total_xp',\n",
    "'radiant_total_kills',\n",
    "'radiant_total_deaths',\n",
    "'dire_bottle_time',\n",
    "'dire_courier_time',\n",
    "'dire_flying_courier_time',\n",
    "'dire_tpscroll_count',\n",
    "'dire_boots_count',\n",
    "'dire_ward_observer_count',\n",
    "'dire_ward_sentry_count',\n",
    "'dire_first_ward_time',\n",
    "'dire_total_gold',\n",
    "'dire_total_xp',\n",
    "'dire_total_kills',\n",
    "'dire_total_deaths','radiant_level',\n",
    "'dire_level',\n",
    "'radiant_lh',\n",
    "'dire_lh',\n",
    "'radiant_items',\n",
    "'dire_items',\n",
    "'radiant_agi_gain',\n",
    "'dire_agi_gain',\n",
    "'radiant_attack_range',\n",
    "'dire_attack_range',\n",
    "'radiant_attack_rate',\n",
    "'dire_attack_rate',\n",
    "'radiant_base_agi',\n",
    "'dire_base_agi',\n",
    "'radiant_base_armor',\n",
    "'dire_base_armor',\n",
    "'radiant_base_attack_max',\n",
    "'dire_base_attack_max',\n",
    "'radiant_base_attack_min',\n",
    "'dire_base_attack_min',\n",
    "'radiant_base_int',\n",
    "'dire_base_int',\n",
    "'radiant_base_str',\n",
    "'dire_base_str',\n",
    "'radiant_int_gain',\n",
    "'dire_int_gain',\n",
    "'radiant_legs',\n",
    "'dire_legs',\n",
    "'radiant_move_speed',\n",
    "'dire_move_speed',\n",
    "'radiant_projectile_speed',\n",
    "'dire_projectile_speed',\n",
    "'radiant_str_gain',\n",
    "'dire_str_gain',\n",
    "'radiant_turn_rate',\n",
    "'dire_turn_rate']).sort_values(ascending=False)\n",
    "feature_imp"
   ]
  },
  {
   "cell_type": "code",
   "execution_count": 153,
   "metadata": {},
   "outputs": [
    {
     "name": "stdout",
     "output_type": "stream",
     "text": [
      "0.03804820547934082\n",
      "0.037431344842027175\n",
      "0.03071302201954661\n",
      "0.030053163917782434\n",
      "0.02113189836262418\n",
      "0.020930408306653037\n",
      "0.019671054936033588\n",
      "0.019657016686725388\n",
      "0.019327047163524763\n",
      "0.019318972678234042\n",
      "0.019310267424749734\n",
      "0.019238198446793878\n",
      "0.019231076428464878\n",
      "0.01915108102372911\n",
      "0.019149382586293635\n",
      "0.019119937104102168\n",
      "0.019116944358286106\n",
      "0.018958616864461698\n",
      "0.01895723691805614\n",
      "0.0189046152649805\n",
      "0.01886399255874871\n",
      "0.018787766128120043\n",
      "0.018600549988338086\n",
      "0.018520984813613604\n",
      "0.01841308238355361\n",
      "0.018371581592828225\n",
      "0.01826667158026438\n",
      "0.01822168964444842\n",
      "0.018144952359475573\n",
      "0.018083249391394635\n",
      "0.018015692078994214\n",
      "0.01769225057108443\n",
      "0.017365896812946247\n",
      "0.01620570360737625\n",
      "0.01612014428109415\n",
      "0.016106230790448664\n",
      "0.015967460704532938\n",
      "0.014423142196915952\n",
      "0.014365099137504674\n",
      "0.014255628073027138\n",
      "0.013809795282396604\n",
      "0.01341547063053804\n",
      "0.013333176236071336\n",
      "0.011346705366615395\n",
      "0.011279525865316649\n",
      "0.010873085530466597\n",
      "0.010716110069068927\n",
      "0.010217549058545357\n",
      "0.010086577316030632\n",
      "0.009152459978977418\n",
      "0.009073149266005543\n",
      "0.008332671948583129\n",
      "0.008270457189862182\n",
      "0.007874567043825602\n",
      "0.0077440362945807185\n",
      "0.007667663997368126\n",
      "0.007594768065641963\n",
      "0.007236426899347007\n",
      "0.006986923995514719\n",
      "0.006884335180133674\n",
      "0.006422844892740293\n",
      "0.003258121833820532\n",
      "0.003177051617394188\n",
      "0.0030352669340355295\n"
     ]
    }
   ],
   "source": [
    "for i in feature_imp:\n",
    "    print(i)"
   ]
  },
  {
   "cell_type": "markdown",
   "metadata": {},
   "source": [
    "identify features that combine to 80% feature importance"
   ]
  },
  {
   "cell_type": "code",
   "execution_count": 154,
   "metadata": {},
   "outputs": [],
   "source": [
    "X=teamTrain[['first_blood_time',\n",
    "'radiant_bottle_time',\n",
    "'radiant_courier_time',\n",
    "'radiant_flying_courier_time',\n",
    "'radiant_first_ward_time',\n",
    "'radiant_total_gold',\n",
    "'radiant_total_xp',\n",
    "'dire_bottle_time',\n",
    "'dire_courier_time',\n",
    "'dire_flying_courier_time',\n",
    "'dire_first_ward_time',\n",
    "'dire_total_gold',\n",
    "'dire_total_xp',\n",
    "'radiant_lh',\n",
    "'dire_lh',\n",
    "'radiant_items',\n",
    "'dire_items',\n",
    "'radiant_agi_gain',\n",
    "'dire_agi_gain',\n",
    "'radiant_attack_range',\n",
    "'dire_attack_range',\n",
    "'radiant_base_agi',\n",
    "'dire_base_agi',\n",
    "'radiant_base_armor',\n",
    "'dire_base_armor',\n",
    "'radiant_base_attack_max',\n",
    "'dire_base_attack_max',\n",
    "'radiant_base_attack_min',\n",
    "'dire_base_attack_min',\n",
    "'radiant_base_int',\n",
    "'dire_base_int',\n",
    "'radiant_base_str',\n",
    "'dire_base_str',\n",
    "'radiant_int_gain',\n",
    "'dire_int_gain',\n",
    "'radiant_move_speed',\n",
    "'dire_move_speed',\n",
    "'radiant_projectile_speed',\n",
    "'dire_projectile_speed',\n",
    "'radiant_str_gain',\n",
    "'dire_str_gain']]\n",
    "\n",
    "y=teamTrain['radiant_win']"
   ]
  },
  {
   "cell_type": "code",
   "execution_count": 155,
   "metadata": {},
   "outputs": [],
   "source": [
    "X_train, X_test, y_train, y_test = train_test_split(X,y,test_size=0.3)"
   ]
  },
  {
   "cell_type": "code",
   "execution_count": 156,
   "metadata": {},
   "outputs": [],
   "source": [
    "clf=RandomForestClassifier(n_estimators=100)"
   ]
  },
  {
   "cell_type": "code",
   "execution_count": 157,
   "metadata": {},
   "outputs": [
    {
     "data": {
      "text/plain": [
       "RandomForestClassifier(bootstrap=True, class_weight=None, criterion='gini',\n",
       "                       max_depth=None, max_features='auto', max_leaf_nodes=None,\n",
       "                       min_impurity_decrease=0.0, min_impurity_split=None,\n",
       "                       min_samples_leaf=1, min_samples_split=2,\n",
       "                       min_weight_fraction_leaf=0.0, n_estimators=100,\n",
       "                       n_jobs=None, oob_score=False, random_state=None,\n",
       "                       verbose=0, warm_start=False)"
      ]
     },
     "execution_count": 157,
     "metadata": {},
     "output_type": "execute_result"
    }
   ],
   "source": [
    "clf.fit(X_train,y_train)"
   ]
  },
  {
   "cell_type": "code",
   "execution_count": 158,
   "metadata": {},
   "outputs": [],
   "source": [
    "y_pred=clf.predict(X_test)"
   ]
  },
  {
   "cell_type": "code",
   "execution_count": 159,
   "metadata": {},
   "outputs": [
    {
     "name": "stdout",
     "output_type": "stream",
     "text": [
      "Accuracy: 0.618361935626427\n"
     ]
    }
   ],
   "source": [
    "print(\"Accuracy:\",metrics.accuracy_score(y_test, y_pred))"
   ]
  },
  {
   "cell_type": "code",
   "execution_count": 160,
   "metadata": {},
   "outputs": [
    {
     "data": {
      "text/plain": [
       "dire_total_gold                0.047372\n",
       "radiant_total_gold             0.045777\n",
       "radiant_total_xp               0.037577\n",
       "dire_total_xp                  0.037345\n",
       "radiant_lh                     0.025908\n",
       "dire_lh                        0.025301\n",
       "first_blood_time               0.025062\n",
       "dire_first_ward_time           0.024561\n",
       "radiant_first_ward_time        0.024222\n",
       "dire_attack_range              0.024180\n",
       "radiant_attack_range           0.024132\n",
       "radiant_bottle_time            0.023972\n",
       "radiant_int_gain               0.023917\n",
       "dire_int_gain                  0.023774\n",
       "radiant_courier_time           0.023746\n",
       "dire_bottle_time               0.023484\n",
       "dire_agi_gain                  0.023448\n",
       "radiant_agi_gain               0.023415\n",
       "dire_courier_time              0.023388\n",
       "dire_base_int                  0.023294\n",
       "dire_projectile_speed          0.023263\n",
       "dire_str_gain                  0.023237\n",
       "radiant_str_gain               0.023122\n",
       "radiant_projectile_speed       0.023107\n",
       "radiant_base_int               0.022856\n",
       "dire_base_attack_max           0.022647\n",
       "radiant_base_attack_max        0.022647\n",
       "radiant_items                  0.022531\n",
       "dire_base_attack_min           0.022427\n",
       "dire_items                     0.022337\n",
       "radiant_base_agi               0.022190\n",
       "radiant_base_attack_min        0.022143\n",
       "dire_base_agi                  0.022116\n",
       "radiant_move_speed             0.020452\n",
       "dire_move_speed                0.020389\n",
       "dire_base_str                  0.020064\n",
       "radiant_base_str               0.020061\n",
       "radiant_base_armor             0.017898\n",
       "dire_flying_courier_time       0.017852\n",
       "dire_base_armor                0.017833\n",
       "radiant_flying_courier_time    0.016956\n",
       "dtype: float64"
      ]
     },
     "execution_count": 160,
     "metadata": {},
     "output_type": "execute_result"
    }
   ],
   "source": [
    "feature_imp = pd.Series(clf.feature_importances_,index=['first_blood_time',\n",
    "'radiant_bottle_time',\n",
    "'radiant_courier_time',\n",
    "'radiant_flying_courier_time',\n",
    "'radiant_first_ward_time',\n",
    "'radiant_total_gold',\n",
    "'radiant_total_xp',\n",
    "'dire_bottle_time',\n",
    "'dire_courier_time',\n",
    "'dire_flying_courier_time',\n",
    "'dire_first_ward_time',\n",
    "'dire_total_gold',\n",
    "'dire_total_xp',\n",
    "'radiant_lh',\n",
    "'dire_lh',\n",
    "'radiant_items',\n",
    "'dire_items',\n",
    "'radiant_agi_gain',\n",
    "'dire_agi_gain',\n",
    "'radiant_attack_range',\n",
    "'dire_attack_range',\n",
    "'radiant_base_agi',\n",
    "'dire_base_agi',\n",
    "'radiant_base_armor',\n",
    "'dire_base_armor',\n",
    "'radiant_base_attack_max',\n",
    "'dire_base_attack_max',\n",
    "'radiant_base_attack_min',\n",
    "'dire_base_attack_min',\n",
    "'radiant_base_int',\n",
    "'dire_base_int',\n",
    "'radiant_base_str',\n",
    "'dire_base_str',\n",
    "'radiant_int_gain',\n",
    "'dire_int_gain',\n",
    "'radiant_move_speed',\n",
    "'dire_move_speed',\n",
    "'radiant_projectile_speed',\n",
    "'dire_projectile_speed',\n",
    "'radiant_str_gain',\n",
    "'dire_str_gain']).sort_values(ascending=False)\n",
    "feature_imp"
   ]
  },
  {
   "cell_type": "code",
   "execution_count": 194,
   "metadata": {},
   "outputs": [],
   "source": [
    "train5 = train3[['r1_hero',\n",
    "'r2_hero',\n",
    "'r3_hero',                 \n",
    "'r4_hero',\n",
    "'r5_hero',\n",
    "'d1_hero',\n",
    "'d2_hero',\n",
    "'d3_hero',                 \n",
    "'d4_hero',\n",
    "'d5_hero',\n",
    "'first_blood_time',\n",
    "'first_blood_team',\n",
    "'first_blood_player1',\n",
    "'first_blood_player2',\n",
    "'radiant_bottle_time',\n",
    "'radiant_courier_time',\n",
    "'radiant_flying_courier_time',\n",
    "'radiant_tpscroll_count',\n",
    "'radiant_boots_count',\n",
    "'radiant_ward_observer_count',\n",
    "'radiant_ward_sentry_count',\n",
    "'radiant_first_ward_time',\n",
    "'radiant_total_gold',\n",
    "'radiant_total_xp',\n",
    "'radiant_total_kills',\n",
    "'radiant_total_deaths',\n",
    "'dire_bottle_time',\n",
    "'dire_courier_time',\n",
    "'dire_flying_courier_time',\n",
    "'dire_tpscroll_count',\n",
    "'dire_boots_count',\n",
    "'dire_ward_observer_count',\n",
    "'dire_ward_sentry_count',\n",
    "'dire_first_ward_time',\n",
    "'dire_total_gold',\n",
    "'dire_total_xp',\n",
    "'dire_total_kills',\n",
    "'dire_total_deaths','radiant_level',\n",
    "'dire_level',\n",
    "'radiant_lh',\n",
    "'dire_lh',\n",
    "'radiant_items',\n",
    "'dire_items',\n",
    "'radiant_agi_gain',\n",
    "'dire_agi_gain',\n",
    "'radiant_attack_range',\n",
    "'dire_attack_range',\n",
    "'radiant_attack_rate',\n",
    "'dire_attack_rate',\n",
    "'radiant_base_agi',\n",
    "'dire_base_agi',\n",
    "'radiant_base_armor',\n",
    "'dire_base_armor',\n",
    "'radiant_base_attack_max',\n",
    "'dire_base_attack_max',\n",
    "'radiant_base_attack_min',\n",
    "'dire_base_attack_min',\n",
    "'radiant_base_int',\n",
    "'dire_base_int',\n",
    "'radiant_base_str',\n",
    "'dire_base_str',\n",
    "'radiant_int_gain',\n",
    "'dire_int_gain',\n",
    "'radiant_legs',\n",
    "'dire_legs',\n",
    "'radiant_move_speed',\n",
    "'dire_move_speed',\n",
    "'radiant_projectile_speed',\n",
    "'dire_projectile_speed',\n",
    "'radiant_str_gain',\n",
    "'dire_str_gain',\n",
    "'radiant_turn_rate',\n",
    "'dire_turn_rate',\n",
    "'radiant_win']]"
   ]
  },
  {
   "cell_type": "code",
   "execution_count": 162,
   "metadata": {},
   "outputs": [
    {
     "name": "stderr",
     "output_type": "stream",
     "text": [
      "//anaconda3/lib/python3.7/site-packages/pandas/core/generic.py:6130: SettingWithCopyWarning: \n",
      "A value is trying to be set on a copy of a slice from a DataFrame\n",
      "\n",
      "See the caveats in the documentation: http://pandas.pydata.org/pandas-docs/stable/indexing.html#indexing-view-versus-copy\n",
      "  self._update_inplace(new_data)\n"
     ]
    }
   ],
   "source": [
    "train5['first_blood_time'].fillna((train5['first_blood_time'].mean()), inplace=True)\n",
    "train5['radiant_bottle_time'].fillna((train5['radiant_bottle_time'].mean()), inplace=True)\n",
    "train5['radiant_courier_time'].fillna((train5['radiant_courier_time'].mean()), inplace=True)\n",
    "train5['radiant_flying_courier_time'].fillna((train5['radiant_flying_courier_time'].mean()), inplace=True)\n",
    "train5['radiant_first_ward_time'].fillna((train5['radiant_first_ward_time'].mean()), inplace=True)\n",
    "train5['dire_bottle_time'].fillna((train5['dire_bottle_time'].mean()), inplace=True)\n",
    "train5['dire_courier_time'].fillna((train5['dire_courier_time'].mean()), inplace=True)\n",
    "train5['dire_flying_courier_time'].fillna((train5['dire_flying_courier_time'].mean()), inplace=True)\n",
    "train5['dire_first_ward_time'].fillna((train5['dire_first_ward_time'].mean()), inplace=True)"
   ]
  },
  {
   "cell_type": "code",
   "execution_count": 163,
   "metadata": {},
   "outputs": [],
   "source": [
    "train5['first_blood_team'].fillna(999, inplace=True)\n",
    "train5['first_blood_player1'].fillna(999, inplace=True)\n",
    "train5['first_blood_player2'].fillna(999, inplace=True)"
   ]
  },
  {
   "cell_type": "code",
   "execution_count": 164,
   "metadata": {},
   "outputs": [],
   "source": [
    "X=train5[['r1_hero',\n",
    "'r2_hero',\n",
    "'r3_hero',                 \n",
    "'r4_hero',\n",
    "'r5_hero',\n",
    "'d1_hero',\n",
    "'d2_hero',\n",
    "'d3_hero',                 \n",
    "'d4_hero',\n",
    "'d5_hero',\n",
    "'first_blood_time',\n",
    "'first_blood_team',\n",
    "'first_blood_player1',\n",
    "'first_blood_player2',\n",
    "'radiant_bottle_time',\n",
    "'radiant_courier_time',\n",
    "'radiant_flying_courier_time',\n",
    "'radiant_tpscroll_count',\n",
    "'radiant_boots_count',\n",
    "'radiant_ward_observer_count',\n",
    "'radiant_ward_sentry_count',\n",
    "'radiant_first_ward_time',\n",
    "'radiant_total_gold',\n",
    "'radiant_total_xp',\n",
    "'radiant_total_kills',\n",
    "'radiant_total_deaths',\n",
    "'dire_bottle_time',\n",
    "'dire_courier_time',\n",
    "'dire_flying_courier_time',\n",
    "'dire_tpscroll_count',\n",
    "'dire_boots_count',\n",
    "'dire_ward_observer_count',\n",
    "'dire_ward_sentry_count',\n",
    "'dire_first_ward_time',\n",
    "'dire_total_gold',\n",
    "'dire_total_xp',\n",
    "'dire_total_kills',\n",
    "'dire_total_deaths','radiant_level',\n",
    "'dire_level',\n",
    "'radiant_lh',\n",
    "'dire_lh',\n",
    "'radiant_items',\n",
    "'dire_items',\n",
    "'radiant_agi_gain',\n",
    "'dire_agi_gain',\n",
    "'radiant_attack_range',\n",
    "'dire_attack_range',\n",
    "'radiant_attack_rate',\n",
    "'dire_attack_rate',\n",
    "'radiant_base_agi',\n",
    "'dire_base_agi',\n",
    "'radiant_base_armor',\n",
    "'dire_base_armor',\n",
    "'radiant_base_attack_max',\n",
    "'dire_base_attack_max',\n",
    "'radiant_base_attack_min',\n",
    "'dire_base_attack_min',\n",
    "'radiant_base_int',\n",
    "'dire_base_int',\n",
    "'radiant_base_str',\n",
    "'dire_base_str',\n",
    "'radiant_int_gain',\n",
    "'dire_int_gain',\n",
    "'radiant_legs',\n",
    "'dire_legs',\n",
    "'radiant_move_speed',\n",
    "'dire_move_speed',\n",
    "'radiant_projectile_speed',\n",
    "'dire_projectile_speed',\n",
    "'radiant_str_gain',\n",
    "'dire_str_gain',\n",
    "'radiant_turn_rate',\n",
    "'dire_turn_rate']]"
   ]
  },
  {
   "cell_type": "code",
   "execution_count": 165,
   "metadata": {},
   "outputs": [],
   "source": [
    "y=train5['radiant_win']"
   ]
  },
  {
   "cell_type": "code",
   "execution_count": 166,
   "metadata": {},
   "outputs": [],
   "source": [
    "X_train, X_test, y_train, y_test = train_test_split(X,y,test_size=0.3)"
   ]
  },
  {
   "cell_type": "code",
   "execution_count": 167,
   "metadata": {},
   "outputs": [],
   "source": [
    "clf=RandomForestClassifier(n_estimators=100)"
   ]
  },
  {
   "cell_type": "code",
   "execution_count": 168,
   "metadata": {},
   "outputs": [
    {
     "data": {
      "text/plain": [
       "RandomForestClassifier(bootstrap=True, class_weight=None, criterion='gini',\n",
       "                       max_depth=None, max_features='auto', max_leaf_nodes=None,\n",
       "                       min_impurity_decrease=0.0, min_impurity_split=None,\n",
       "                       min_samples_leaf=1, min_samples_split=2,\n",
       "                       min_weight_fraction_leaf=0.0, n_estimators=100,\n",
       "                       n_jobs=None, oob_score=False, random_state=None,\n",
       "                       verbose=0, warm_start=False)"
      ]
     },
     "execution_count": 168,
     "metadata": {},
     "output_type": "execute_result"
    }
   ],
   "source": [
    "clf.fit(X_train,y_train)"
   ]
  },
  {
   "cell_type": "code",
   "execution_count": 169,
   "metadata": {},
   "outputs": [],
   "source": [
    "y_pred=clf.predict(X_test)"
   ]
  },
  {
   "cell_type": "code",
   "execution_count": 170,
   "metadata": {},
   "outputs": [
    {
     "name": "stdout",
     "output_type": "stream",
     "text": [
      "Accuracy: 0.614734477425057\n"
     ]
    }
   ],
   "source": [
    "print(\"Accuracy:\",metrics.accuracy_score(y_test, y_pred))"
   ]
  },
  {
   "cell_type": "code",
   "execution_count": 171,
   "metadata": {},
   "outputs": [
    {
     "data": {
      "text/plain": [
       "dire_total_gold                0.033485\n",
       "radiant_total_gold             0.033150\n",
       "dire_total_xp                  0.027321\n",
       "radiant_total_xp               0.026783\n",
       "radiant_lh                     0.018327\n",
       "dire_lh                        0.018076\n",
       "first_blood_time               0.016383\n",
       "dire_first_ward_time           0.016162\n",
       "dire_attack_range              0.016126\n",
       "r4_hero                        0.016099\n",
       "r5_hero                        0.016095\n",
       "dire_int_gain                  0.016084\n",
       "radiant_attack_range           0.016070\n",
       "radiant_base_int               0.016027\n",
       "radiant_int_gain               0.015977\n",
       "r3_hero                        0.015938\n",
       "dire_base_int                  0.015923\n",
       "d3_hero                        0.015906\n",
       "d5_hero                        0.015889\n",
       "dire_courier_time              0.015884\n",
       "d1_hero                        0.015853\n",
       "radiant_first_ward_time        0.015811\n",
       "radiant_bottle_time            0.015804\n",
       "d4_hero                        0.015777\n",
       "radiant_agi_gain               0.015762\n",
       "d2_hero                        0.015751\n",
       "r1_hero                        0.015713\n",
       "r2_hero                        0.015629\n",
       "radiant_courier_time           0.015625\n",
       "dire_projectile_speed          0.015624\n",
       "                                 ...   \n",
       "dire_move_speed                0.013360\n",
       "radiant_base_str               0.013261\n",
       "dire_base_str                  0.013193\n",
       "dire_flying_courier_time       0.011927\n",
       "radiant_base_armor             0.011794\n",
       "dire_base_armor                0.011664\n",
       "radiant_flying_courier_time    0.011453\n",
       "radiant_turn_rate              0.010962\n",
       "dire_turn_rate                 0.010893\n",
       "dire_level                     0.009430\n",
       "radiant_level                  0.009367\n",
       "radiant_attack_rate            0.009052\n",
       "dire_attack_rate               0.008995\n",
       "first_blood_player2            0.008799\n",
       "first_blood_player1            0.008216\n",
       "radiant_tpscroll_count         0.007651\n",
       "dire_tpscroll_count            0.007545\n",
       "dire_total_kills               0.006983\n",
       "dire_legs                      0.006954\n",
       "radiant_legs                   0.006837\n",
       "radiant_total_kills            0.006815\n",
       "radiant_boots_count            0.006454\n",
       "radiant_total_deaths           0.006391\n",
       "dire_boots_count               0.006268\n",
       "radiant_ward_observer_count    0.005824\n",
       "dire_ward_observer_count       0.005817\n",
       "dire_total_deaths              0.005488\n",
       "first_blood_team               0.002664\n",
       "radiant_ward_sentry_count      0.002618\n",
       "dire_ward_sentry_count         0.002578\n",
       "Length: 74, dtype: float64"
      ]
     },
     "execution_count": 171,
     "metadata": {},
     "output_type": "execute_result"
    }
   ],
   "source": [
    "feature_imp = pd.Series(clf.feature_importances_,index=['r1_hero',\n",
    "'r2_hero',\n",
    "'r3_hero',                 \n",
    "'r4_hero',\n",
    "'r5_hero',\n",
    "'d1_hero',\n",
    "'d2_hero',\n",
    "'d3_hero',                 \n",
    "'d4_hero',\n",
    "'d5_hero',\n",
    "'first_blood_time',\n",
    "'first_blood_team',\n",
    "'first_blood_player1',\n",
    "'first_blood_player2',\n",
    "'radiant_bottle_time',\n",
    "'radiant_courier_time',\n",
    "'radiant_flying_courier_time',\n",
    "'radiant_tpscroll_count',\n",
    "'radiant_boots_count',\n",
    "'radiant_ward_observer_count',\n",
    "'radiant_ward_sentry_count',\n",
    "'radiant_first_ward_time',\n",
    "'radiant_total_gold',\n",
    "'radiant_total_xp',\n",
    "'radiant_total_kills',\n",
    "'radiant_total_deaths',\n",
    "'dire_bottle_time',\n",
    "'dire_courier_time',\n",
    "'dire_flying_courier_time',\n",
    "'dire_tpscroll_count',\n",
    "'dire_boots_count',\n",
    "'dire_ward_observer_count',\n",
    "'dire_ward_sentry_count',\n",
    "'dire_first_ward_time',\n",
    "'dire_total_gold',\n",
    "'dire_total_xp',\n",
    "'dire_total_kills',\n",
    "'dire_total_deaths','radiant_level',\n",
    "'dire_level',\n",
    "'radiant_lh',\n",
    "'dire_lh',\n",
    "'radiant_items',\n",
    "'dire_items',\n",
    "'radiant_agi_gain',\n",
    "'dire_agi_gain',\n",
    "'radiant_attack_range',\n",
    "'dire_attack_range',\n",
    "'radiant_attack_rate',\n",
    "'dire_attack_rate',\n",
    "'radiant_base_agi',\n",
    "'dire_base_agi',\n",
    "'radiant_base_armor',\n",
    "'dire_base_armor',\n",
    "'radiant_base_attack_max',\n",
    "'dire_base_attack_max',\n",
    "'radiant_base_attack_min',\n",
    "'dire_base_attack_min',\n",
    "'radiant_base_int',\n",
    "'dire_base_int',\n",
    "'radiant_base_str',\n",
    "'dire_base_str',\n",
    "'radiant_int_gain',\n",
    "'dire_int_gain',\n",
    "'radiant_legs',\n",
    "'dire_legs',\n",
    "'radiant_move_speed',\n",
    "'dire_move_speed',\n",
    "'radiant_projectile_speed',\n",
    "'dire_projectile_speed',\n",
    "'radiant_str_gain',\n",
    "'dire_str_gain',\n",
    "'radiant_turn_rate',\n",
    "'dire_turn_rate']).sort_values(ascending=False)\n",
    "feature_imp"
   ]
  },
  {
   "cell_type": "code",
   "execution_count": 172,
   "metadata": {},
   "outputs": [
    {
     "name": "stdout",
     "output_type": "stream",
     "text": [
      "0.03348459853728308\n",
      "0.033150026456080235\n",
      "0.02732053072258989\n",
      "0.02678282219383228\n",
      "0.018327095032673737\n",
      "0.018075647460295344\n",
      "0.016382704480148187\n",
      "0.016162205093832583\n",
      "0.01612627907870551\n",
      "0.016099086523414526\n",
      "0.016094515234452624\n",
      "0.016084276560821956\n",
      "0.01606983897801001\n",
      "0.016026674058971437\n",
      "0.01597736893485249\n",
      "0.01593778490073601\n",
      "0.015922759307518488\n",
      "0.015905842180762953\n",
      "0.015889141930483377\n",
      "0.015884452421847946\n",
      "0.01585278022441947\n",
      "0.01581114129272792\n",
      "0.01580358489490597\n",
      "0.015776988965882317\n",
      "0.01576226932573044\n",
      "0.015750931697560925\n",
      "0.01571329388735482\n",
      "0.015628696392100058\n",
      "0.015624506168257188\n",
      "0.015624293600868306\n",
      "0.015620716178189843\n",
      "0.015616405175818285\n",
      "0.015597607555576327\n",
      "0.01551787714349366\n",
      "0.015445864630994838\n",
      "0.015437977350293272\n",
      "0.015302208590913604\n",
      "0.015049577433408907\n",
      "0.015014413074541183\n",
      "0.014992300556977249\n",
      "0.014936035538742152\n",
      "0.014928082178363456\n",
      "0.014779197450277266\n",
      "0.013456527992217344\n",
      "0.013360364054000694\n",
      "0.0132607067935261\n",
      "0.013192557999877627\n",
      "0.011927434208612205\n",
      "0.011793952893069056\n",
      "0.011664246279791015\n",
      "0.01145297390754474\n",
      "0.010961865219182496\n",
      "0.010892796597864145\n",
      "0.009429516873309396\n",
      "0.009366968530072524\n",
      "0.009051741100240812\n",
      "0.008994853850223077\n",
      "0.008798799435141282\n",
      "0.00821620067240425\n",
      "0.007650873667109091\n",
      "0.0075447864419167015\n",
      "0.006982521237362155\n",
      "0.006953989035229961\n",
      "0.006836762364093323\n",
      "0.006814859594071352\n",
      "0.006454328111478769\n",
      "0.006391161029064842\n",
      "0.0062682778593125404\n",
      "0.005824121811274557\n",
      "0.005817082748311756\n",
      "0.005488291355491087\n",
      "0.002664160882014353\n",
      "0.0026184849841830574\n",
      "0.002578393077299737\n"
     ]
    }
   ],
   "source": [
    "for i in feature_imp:\n",
    "    print(i)"
   ]
  },
  {
   "cell_type": "markdown",
   "metadata": {},
   "source": [
    "feature reduction with train 5"
   ]
  },
  {
   "cell_type": "code",
   "execution_count": 173,
   "metadata": {},
   "outputs": [],
   "source": [
    "X=train5[['r1_hero',\n",
    "'r2_hero',\n",
    "'r3_hero',                 \n",
    "'r4_hero',\n",
    "'r5_hero',\n",
    "'d1_hero',\n",
    "'d2_hero',\n",
    "'d3_hero',                 \n",
    "'d4_hero',\n",
    "'d5_hero',\n",
    "'first_blood_time',\n",
    "'radiant_bottle_time',\n",
    "'radiant_courier_time',\n",
    "'radiant_flying_courier_time',\n",
    "'radiant_first_ward_time',\n",
    "'radiant_total_gold',\n",
    "'radiant_total_xp',\n",
    "'dire_bottle_time',\n",
    "'dire_courier_time',\n",
    "'dire_flying_courier_time',\n",
    "'dire_first_ward_time',\n",
    "'dire_total_gold',\n",
    "'dire_total_xp',\n",
    "'radiant_lh',\n",
    "'dire_lh',\n",
    "'radiant_items',\n",
    "'dire_items',\n",
    "'radiant_agi_gain',\n",
    "'dire_agi_gain',\n",
    "'radiant_attack_range',\n",
    "'dire_attack_range',\n",
    "'radiant_base_agi',\n",
    "'dire_base_agi',\n",
    "'radiant_base_attack_max',\n",
    "'dire_base_attack_max',\n",
    "'radiant_base_attack_min',\n",
    "'dire_base_attack_min',\n",
    "'radiant_base_int',\n",
    "'dire_base_int',\n",
    "'radiant_base_str',\n",
    "'dire_base_str',\n",
    "'radiant_int_gain',\n",
    "'dire_int_gain',\n",
    "'radiant_move_speed',\n",
    "'dire_move_speed',\n",
    "'radiant_projectile_speed',\n",
    "'dire_projectile_speed',\n",
    "'radiant_str_gain',\n",
    "'dire_str_gain']]"
   ]
  },
  {
   "cell_type": "code",
   "execution_count": 174,
   "metadata": {},
   "outputs": [],
   "source": [
    "y=train5['radiant_win']"
   ]
  },
  {
   "cell_type": "code",
   "execution_count": 175,
   "metadata": {},
   "outputs": [],
   "source": [
    "X_train, X_test, y_train, y_test = train_test_split(X,y,test_size=0.3)"
   ]
  },
  {
   "cell_type": "code",
   "execution_count": 176,
   "metadata": {},
   "outputs": [],
   "source": [
    "clf=RandomForestClassifier(n_estimators=100)"
   ]
  },
  {
   "cell_type": "code",
   "execution_count": 177,
   "metadata": {},
   "outputs": [
    {
     "data": {
      "text/plain": [
       "RandomForestClassifier(bootstrap=True, class_weight=None, criterion='gini',\n",
       "                       max_depth=None, max_features='auto', max_leaf_nodes=None,\n",
       "                       min_impurity_decrease=0.0, min_impurity_split=None,\n",
       "                       min_samples_leaf=1, min_samples_split=2,\n",
       "                       min_weight_fraction_leaf=0.0, n_estimators=100,\n",
       "                       n_jobs=None, oob_score=False, random_state=None,\n",
       "                       verbose=0, warm_start=False)"
      ]
     },
     "execution_count": 177,
     "metadata": {},
     "output_type": "execute_result"
    }
   ],
   "source": [
    "clf.fit(X_train,y_train)"
   ]
  },
  {
   "cell_type": "code",
   "execution_count": 178,
   "metadata": {},
   "outputs": [],
   "source": [
    "y_pred=clf.predict(X_test)"
   ]
  },
  {
   "cell_type": "code",
   "execution_count": 179,
   "metadata": {},
   "outputs": [
    {
     "name": "stdout",
     "output_type": "stream",
     "text": [
      "Accuracy: 0.6143662075568977\n"
     ]
    }
   ],
   "source": [
    "print(\"Accuracy:\",metrics.accuracy_score(y_test, y_pred))"
   ]
  },
  {
   "cell_type": "code",
   "execution_count": 180,
   "metadata": {},
   "outputs": [
    {
     "data": {
      "text/plain": [
       "dire_total_gold                0.041475\n",
       "radiant_total_gold             0.040759\n",
       "dire_total_xp                  0.034286\n",
       "radiant_total_xp               0.034212\n",
       "radiant_lh                     0.021667\n",
       "dire_lh                        0.021537\n",
       "first_blood_time               0.020789\n",
       "dire_first_ward_time           0.020274\n",
       "dire_attack_range              0.019997\n",
       "radiant_first_ward_time        0.019796\n",
       "radiant_attack_range           0.019734\n",
       "d4_hero                        0.019693\n",
       "radiant_int_gain               0.019648\n",
       "d5_hero                        0.019633\n",
       "r2_hero                        0.019630\n",
       "d3_hero                        0.019596\n",
       "r5_hero                        0.019585\n",
       "r3_hero                        0.019581\n",
       "d1_hero                        0.019568\n",
       "r4_hero                        0.019511\n",
       "dire_int_gain                  0.019485\n",
       "dire_courier_time              0.019445\n",
       "radiant_bottle_time            0.019432\n",
       "r1_hero                        0.019418\n",
       "d2_hero                        0.019394\n",
       "dire_projectile_speed          0.019341\n",
       "radiant_agi_gain               0.019338\n",
       "dire_bottle_time               0.019295\n",
       "dire_agi_gain                  0.019275\n",
       "radiant_courier_time           0.019231\n",
       "radiant_projectile_speed       0.019049\n",
       "radiant_base_int               0.018925\n",
       "dire_base_int                  0.018923\n",
       "dire_items                     0.018840\n",
       "radiant_str_gain               0.018687\n",
       "radiant_items                  0.018674\n",
       "dire_str_gain                  0.018646\n",
       "dire_base_attack_max           0.018611\n",
       "radiant_base_attack_max        0.018465\n",
       "dire_base_attack_min           0.018228\n",
       "dire_base_agi                  0.018176\n",
       "radiant_base_attack_min        0.018129\n",
       "radiant_base_agi               0.018044\n",
       "dire_move_speed                0.016643\n",
       "radiant_move_speed             0.016628\n",
       "dire_base_str                  0.016209\n",
       "radiant_base_str               0.016085\n",
       "dire_flying_courier_time       0.014283\n",
       "radiant_flying_courier_time    0.014130\n",
       "dtype: float64"
      ]
     },
     "execution_count": 180,
     "metadata": {},
     "output_type": "execute_result"
    }
   ],
   "source": [
    "feature_imp = pd.Series(clf.feature_importances_,index=['r1_hero',\n",
    "'r2_hero',\n",
    "'r3_hero',                 \n",
    "'r4_hero',\n",
    "'r5_hero',\n",
    "'d1_hero',\n",
    "'d2_hero',\n",
    "'d3_hero',                 \n",
    "'d4_hero',\n",
    "'d5_hero',\n",
    "'first_blood_time',\n",
    "'radiant_bottle_time',\n",
    "'radiant_courier_time',\n",
    "'radiant_flying_courier_time',\n",
    "'radiant_first_ward_time',\n",
    "'radiant_total_gold',\n",
    "'radiant_total_xp',\n",
    "'dire_bottle_time',\n",
    "'dire_courier_time',\n",
    "'dire_flying_courier_time',\n",
    "'dire_first_ward_time',\n",
    "'dire_total_gold',\n",
    "'dire_total_xp',\n",
    "'radiant_lh',\n",
    "'dire_lh',\n",
    "'radiant_items',\n",
    "'dire_items',\n",
    "'radiant_agi_gain',\n",
    "'dire_agi_gain',\n",
    "'radiant_attack_range',\n",
    "'dire_attack_range',\n",
    "'radiant_base_agi',\n",
    "'dire_base_agi',\n",
    "'radiant_base_attack_max',\n",
    "'dire_base_attack_max',\n",
    "'radiant_base_attack_min',\n",
    "'dire_base_attack_min',\n",
    "'radiant_base_int',\n",
    "'dire_base_int',\n",
    "'radiant_base_str',\n",
    "'dire_base_str',\n",
    "'radiant_int_gain',\n",
    "'dire_int_gain',\n",
    "'radiant_move_speed',\n",
    "'dire_move_speed',\n",
    "'radiant_projectile_speed',\n",
    "'dire_projectile_speed',\n",
    "'radiant_str_gain',\n",
    "'dire_str_gain']).sort_values(ascending=False)\n",
    "feature_imp"
   ]
  },
  {
   "cell_type": "code",
   "execution_count": 184,
   "metadata": {},
   "outputs": [
    {
     "data": {
      "text/plain": [
       "57     59.731539\n",
       "67     58.812932\n",
       "102    58.549115\n",
       "42     57.560472\n",
       "36     57.212145\n",
       "dtype: float64"
      ]
     },
     "execution_count": 184,
     "metadata": {},
     "output_type": "execute_result"
    }
   ],
   "source": [
    "sorted_hero_win_rates.head()"
   ]
  },
  {
   "cell_type": "code",
   "execution_count": 206,
   "metadata": {},
   "outputs": [
    {
     "data": {
      "text/plain": [
       "13    41.836398\n",
       "82    41.755950\n",
       "79    41.478304\n",
       "34    40.861245\n",
       "61    39.683945\n",
       "dtype: float64"
      ]
     },
     "execution_count": 206,
     "metadata": {},
     "output_type": "execute_result"
    }
   ],
   "source": [
    "sorted_hero_win_rates.tail()"
   ]
  },
  {
   "cell_type": "code",
   "execution_count": 215,
   "metadata": {},
   "outputs": [
    {
     "data": {
      "text/html": [
       "<div>\n",
       "<style scoped>\n",
       "    .dataframe tbody tr th:only-of-type {\n",
       "        vertical-align: middle;\n",
       "    }\n",
       "\n",
       "    .dataframe tbody tr th {\n",
       "        vertical-align: top;\n",
       "    }\n",
       "\n",
       "    .dataframe thead th {\n",
       "        text-align: right;\n",
       "    }\n",
       "</style>\n",
       "<table border=\"1\" class=\"dataframe\">\n",
       "  <thead>\n",
       "    <tr style=\"text-align: right;\">\n",
       "      <th></th>\n",
       "      <th>r1_hero</th>\n",
       "      <th>r2_hero</th>\n",
       "      <th>r3_hero</th>\n",
       "      <th>r4_hero</th>\n",
       "      <th>r5_hero</th>\n",
       "      <th>d1_hero</th>\n",
       "      <th>d2_hero</th>\n",
       "      <th>d3_hero</th>\n",
       "      <th>d4_hero</th>\n",
       "      <th>d5_hero</th>\n",
       "      <th>...</th>\n",
       "      <th>dire_legs</th>\n",
       "      <th>radiant_move_speed</th>\n",
       "      <th>dire_move_speed</th>\n",
       "      <th>radiant_projectile_speed</th>\n",
       "      <th>dire_projectile_speed</th>\n",
       "      <th>radiant_str_gain</th>\n",
       "      <th>dire_str_gain</th>\n",
       "      <th>radiant_turn_rate</th>\n",
       "      <th>dire_turn_rate</th>\n",
       "      <th>radiant_win</th>\n",
       "    </tr>\n",
       "  </thead>\n",
       "  <tbody>\n",
       "    <tr>\n",
       "      <th>0</th>\n",
       "      <td>44</td>\n",
       "      <td>97</td>\n",
       "      <td>29</td>\n",
       "      <td>85</td>\n",
       "      <td>40</td>\n",
       "      <td>27</td>\n",
       "      <td>39</td>\n",
       "      <td>100</td>\n",
       "      <td>9</td>\n",
       "      <td>94</td>\n",
       "      <td>...</td>\n",
       "      <td>8</td>\n",
       "      <td>1485</td>\n",
       "      <td>1440</td>\n",
       "      <td>4500</td>\n",
       "      <td>5400</td>\n",
       "      <td>14.1</td>\n",
       "      <td>12.0</td>\n",
       "      <td>3.0</td>\n",
       "      <td>2.7</td>\n",
       "      <td>1</td>\n",
       "    </tr>\n",
       "    <tr>\n",
       "      <th>1</th>\n",
       "      <td>77</td>\n",
       "      <td>47</td>\n",
       "      <td>68</td>\n",
       "      <td>20</td>\n",
       "      <td>51</td>\n",
       "      <td>87</td>\n",
       "      <td>57</td>\n",
       "      <td>72</td>\n",
       "      <td>112</td>\n",
       "      <td>6</td>\n",
       "      <td>...</td>\n",
       "      <td>10</td>\n",
       "      <td>1480</td>\n",
       "      <td>1480</td>\n",
       "      <td>5750</td>\n",
       "      <td>7050</td>\n",
       "      <td>14.3</td>\n",
       "      <td>12.8</td>\n",
       "      <td>2.8</td>\n",
       "      <td>2.9</td>\n",
       "      <td>0</td>\n",
       "    </tr>\n",
       "    <tr>\n",
       "      <th>2</th>\n",
       "      <td>66</td>\n",
       "      <td>22</td>\n",
       "      <td>76</td>\n",
       "      <td>23</td>\n",
       "      <td>87</td>\n",
       "      <td>97</td>\n",
       "      <td>70</td>\n",
       "      <td>112</td>\n",
       "      <td>19</td>\n",
       "      <td>14</td>\n",
       "      <td>...</td>\n",
       "      <td>12</td>\n",
       "      <td>1505</td>\n",
       "      <td>1485</td>\n",
       "      <td>5200</td>\n",
       "      <td>3400</td>\n",
       "      <td>12.9</td>\n",
       "      <td>17.5</td>\n",
       "      <td>2.8</td>\n",
       "      <td>3.0</td>\n",
       "      <td>1</td>\n",
       "    </tr>\n",
       "    <tr>\n",
       "      <th>3</th>\n",
       "      <td>5</td>\n",
       "      <td>53</td>\n",
       "      <td>1</td>\n",
       "      <td>21</td>\n",
       "      <td>11</td>\n",
       "      <td>12</td>\n",
       "      <td>89</td>\n",
       "      <td>67</td>\n",
       "      <td>56</td>\n",
       "      <td>28</td>\n",
       "      <td>...</td>\n",
       "      <td>4</td>\n",
       "      <td>1470</td>\n",
       "      <td>1480</td>\n",
       "      <td>4475</td>\n",
       "      <td>3600</td>\n",
       "      <td>11.4</td>\n",
       "      <td>12.8</td>\n",
       "      <td>3.4</td>\n",
       "      <td>2.6</td>\n",
       "      <td>0</td>\n",
       "    </tr>\n",
       "    <tr>\n",
       "      <th>4</th>\n",
       "      <td>102</td>\n",
       "      <td>98</td>\n",
       "      <td>75</td>\n",
       "      <td>21</td>\n",
       "      <td>74</td>\n",
       "      <td>35</td>\n",
       "      <td>84</td>\n",
       "      <td>70</td>\n",
       "      <td>85</td>\n",
       "      <td>106</td>\n",
       "      <td>...</td>\n",
       "      <td>10</td>\n",
       "      <td>1475</td>\n",
       "      <td>1505</td>\n",
       "      <td>4950</td>\n",
       "      <td>6600</td>\n",
       "      <td>13.9</td>\n",
       "      <td>13.9</td>\n",
       "      <td>3.0</td>\n",
       "      <td>2.9</td>\n",
       "      <td>0</td>\n",
       "    </tr>\n",
       "  </tbody>\n",
       "</table>\n",
       "<p>5 rows × 75 columns</p>\n",
       "</div>"
      ],
      "text/plain": [
       "   r1_hero  r2_hero  r3_hero  r4_hero  r5_hero  d1_hero  d2_hero  d3_hero  \\\n",
       "0       44       97       29       85       40       27       39      100   \n",
       "1       77       47       68       20       51       87       57       72   \n",
       "2       66       22       76       23       87       97       70      112   \n",
       "3        5       53        1       21       11       12       89       67   \n",
       "4      102       98       75       21       74       35       84       70   \n",
       "\n",
       "   d4_hero  d5_hero  ...  dire_legs  radiant_move_speed  dire_move_speed  \\\n",
       "0        9       94  ...          8                1485             1440   \n",
       "1      112        6  ...         10                1480             1480   \n",
       "2       19       14  ...         12                1505             1485   \n",
       "3       56       28  ...          4                1470             1480   \n",
       "4       85      106  ...         10                1475             1505   \n",
       "\n",
       "   radiant_projectile_speed  dire_projectile_speed  radiant_str_gain  \\\n",
       "0                      4500                   5400              14.1   \n",
       "1                      5750                   7050              14.3   \n",
       "2                      5200                   3400              12.9   \n",
       "3                      4475                   3600              11.4   \n",
       "4                      4950                   6600              13.9   \n",
       "\n",
       "   dire_str_gain  radiant_turn_rate  dire_turn_rate  radiant_win  \n",
       "0           12.0                3.0             2.7            1  \n",
       "1           12.8                2.8             2.9            0  \n",
       "2           17.5                2.8             3.0            1  \n",
       "3           12.8                3.4             2.6            0  \n",
       "4           13.9                3.0             2.9            0  \n",
       "\n",
       "[5 rows x 75 columns]"
      ]
     },
     "execution_count": 215,
     "metadata": {},
     "output_type": "execute_result"
    }
   ],
   "source": [
    "train5.head()"
   ]
  },
  {
   "cell_type": "code",
   "execution_count": 187,
   "metadata": {},
   "outputs": [],
   "source": [
    "hero_win_dict = sorted_hero_win_rates.to_dict()"
   ]
  },
  {
   "cell_type": "code",
   "execution_count": 221,
   "metadata": {},
   "outputs": [],
   "source": [
    "top_heros = sorted_hero_win_rates.head()\n",
    "bottom_heros = sorted_hero_win_rates.tail()"
   ]
  },
  {
   "cell_type": "code",
   "execution_count": 225,
   "metadata": {},
   "outputs": [
    {
     "data": {
      "text/html": [
       "<div>\n",
       "<style scoped>\n",
       "    .dataframe tbody tr th:only-of-type {\n",
       "        vertical-align: middle;\n",
       "    }\n",
       "\n",
       "    .dataframe tbody tr th {\n",
       "        vertical-align: top;\n",
       "    }\n",
       "\n",
       "    .dataframe thead th {\n",
       "        text-align: right;\n",
       "    }\n",
       "</style>\n",
       "<table border=\"1\" class=\"dataframe\">\n",
       "  <thead>\n",
       "    <tr style=\"text-align: right;\">\n",
       "      <th></th>\n",
       "      <th>r1_hero</th>\n",
       "      <th>r2_hero</th>\n",
       "      <th>r3_hero</th>\n",
       "      <th>r4_hero</th>\n",
       "      <th>r5_hero</th>\n",
       "    </tr>\n",
       "  </thead>\n",
       "  <tbody>\n",
       "    <tr>\n",
       "      <th>0</th>\n",
       "      <td>False</td>\n",
       "      <td>False</td>\n",
       "      <td>False</td>\n",
       "      <td>False</td>\n",
       "      <td>False</td>\n",
       "    </tr>\n",
       "    <tr>\n",
       "      <th>1</th>\n",
       "      <td>False</td>\n",
       "      <td>False</td>\n",
       "      <td>False</td>\n",
       "      <td>False</td>\n",
       "      <td>False</td>\n",
       "    </tr>\n",
       "    <tr>\n",
       "      <th>2</th>\n",
       "      <td>False</td>\n",
       "      <td>False</td>\n",
       "      <td>False</td>\n",
       "      <td>False</td>\n",
       "      <td>False</td>\n",
       "    </tr>\n",
       "    <tr>\n",
       "      <th>3</th>\n",
       "      <td>False</td>\n",
       "      <td>False</td>\n",
       "      <td>False</td>\n",
       "      <td>False</td>\n",
       "      <td>False</td>\n",
       "    </tr>\n",
       "    <tr>\n",
       "      <th>4</th>\n",
       "      <td>True</td>\n",
       "      <td>False</td>\n",
       "      <td>False</td>\n",
       "      <td>False</td>\n",
       "      <td>False</td>\n",
       "    </tr>\n",
       "  </tbody>\n",
       "</table>\n",
       "</div>"
      ],
      "text/plain": [
       "   r1_hero  r2_hero  r3_hero  r4_hero  r5_hero\n",
       "0    False    False    False    False    False\n",
       "1    False    False    False    False    False\n",
       "2    False    False    False    False    False\n",
       "3    False    False    False    False    False\n",
       "4     True    False    False    False    False"
      ]
     },
     "execution_count": 225,
     "metadata": {},
     "output_type": "execute_result"
    }
   ],
   "source": [
    "radiant_has_top = train5[['r1_hero',\n",
    "'r2_hero',\n",
    "'r3_hero',                 \n",
    "'r4_hero',\n",
    "'r5_hero']].isin([57,\n",
    "67, 102,\n",
    "42,\n",
    "36])\n",
    "\n",
    "radiant_has_top.head()"
   ]
  },
  {
   "cell_type": "code",
   "execution_count": 231,
   "metadata": {},
   "outputs": [],
   "source": [
    "radiant_has_top.replace({True: 1, False: 0})\n",
    "\n",
    "radiant_sum_top = radiant_has_top.sum(axis=1)\n",
    "radiant_sum_top = pd.DataFrame(radiant_sum_top)"
   ]
  },
  {
   "cell_type": "code",
   "execution_count": 232,
   "metadata": {},
   "outputs": [
    {
     "ename": "TypeError",
     "evalue": "assign() takes 1 positional argument but 2 were given",
     "output_type": "error",
     "traceback": [
      "\u001b[0;31m---------------------------------------------------------------------------\u001b[0m",
      "\u001b[0;31mTypeError\u001b[0m                                 Traceback (most recent call last)",
      "\u001b[0;32m<ipython-input-232-a34e20cca6b5>\u001b[0m in \u001b[0;36m<module>\u001b[0;34m\u001b[0m\n\u001b[0;32m----> 1\u001b[0;31m \u001b[0mtrain5\u001b[0m\u001b[0;34m.\u001b[0m\u001b[0massign\u001b[0m\u001b[0;34m(\u001b[0m\u001b[0mradiant_sum_top\u001b[0m\u001b[0;34m)\u001b[0m\u001b[0;34m\u001b[0m\u001b[0;34m\u001b[0m\u001b[0m\n\u001b[0m",
      "\u001b[0;31mTypeError\u001b[0m: assign() takes 1 positional argument but 2 were given"
     ]
    }
   ],
   "source": [
    "train5.assign(radiant_sum_top)"
   ]
  },
  {
   "cell_type": "code",
   "execution_count": 200,
   "metadata": {},
   "outputs": [],
   "source": [
    "train6 = train5.replace({'r1_hero': hero_win_dict,'r2_hero': hero_win_dict, 'r3_hero': hero_win_dict, 'r4_hero': hero_win_dict, 'r5_hero': hero_win_dict, 'd1_hero': hero_win_dict, 'd2_hero': hero_win_dict, 'd3_hero': hero_win_dict, 'd4_hero': hero_win_dict, 'd5_hero': hero_win_dict })"
   ]
  },
  {
   "cell_type": "code",
   "execution_count": 214,
   "metadata": {},
   "outputs": [
    {
     "data": {
      "text/html": [
       "<div>\n",
       "<style scoped>\n",
       "    .dataframe tbody tr th:only-of-type {\n",
       "        vertical-align: middle;\n",
       "    }\n",
       "\n",
       "    .dataframe tbody tr th {\n",
       "        vertical-align: top;\n",
       "    }\n",
       "\n",
       "    .dataframe thead th {\n",
       "        text-align: right;\n",
       "    }\n",
       "</style>\n",
       "<table border=\"1\" class=\"dataframe\">\n",
       "  <thead>\n",
       "    <tr style=\"text-align: right;\">\n",
       "      <th></th>\n",
       "      <th>r1_hero</th>\n",
       "      <th>r2_hero</th>\n",
       "      <th>r3_hero</th>\n",
       "      <th>r4_hero</th>\n",
       "      <th>r5_hero</th>\n",
       "      <th>d1_hero</th>\n",
       "      <th>d2_hero</th>\n",
       "      <th>d3_hero</th>\n",
       "      <th>d4_hero</th>\n",
       "      <th>d5_hero</th>\n",
       "      <th>...</th>\n",
       "      <th>dire_move_speed</th>\n",
       "      <th>radiant_projectile_speed</th>\n",
       "      <th>dire_projectile_speed</th>\n",
       "      <th>radiant_str_gain</th>\n",
       "      <th>dire_str_gain</th>\n",
       "      <th>radiant_turn_rate</th>\n",
       "      <th>dire_turn_rate</th>\n",
       "      <th>radiant_win</th>\n",
       "      <th>radiant_win_mean</th>\n",
       "      <th>dire_win_mean</th>\n",
       "    </tr>\n",
       "  </thead>\n",
       "  <tbody>\n",
       "    <tr>\n",
       "      <th>0</th>\n",
       "      <td>48.541671</td>\n",
       "      <td>46.815408</td>\n",
       "      <td>52.903601</td>\n",
       "      <td>55.874717</td>\n",
       "      <td>53.113821</td>\n",
       "      <td>51.351490</td>\n",
       "      <td>44.686590</td>\n",
       "      <td>49.280997</td>\n",
       "      <td>52.381603</td>\n",
       "      <td>52.813405</td>\n",
       "      <td>...</td>\n",
       "      <td>1440</td>\n",
       "      <td>4500</td>\n",
       "      <td>5400</td>\n",
       "      <td>14.1</td>\n",
       "      <td>12.0</td>\n",
       "      <td>3.0</td>\n",
       "      <td>2.7</td>\n",
       "      <td>1</td>\n",
       "      <td>51.449844</td>\n",
       "      <td>50.102817</td>\n",
       "    </tr>\n",
       "    <tr>\n",
       "      <th>1</th>\n",
       "      <td>50.091480</td>\n",
       "      <td>50.889262</td>\n",
       "      <td>49.526563</td>\n",
       "      <td>53.922056</td>\n",
       "      <td>48.923761</td>\n",
       "      <td>52.184968</td>\n",
       "      <td>59.731539</td>\n",
       "      <td>50.500274</td>\n",
       "      <td>50.955588</td>\n",
       "      <td>52.394347</td>\n",
       "      <td>...</td>\n",
       "      <td>1480</td>\n",
       "      <td>5750</td>\n",
       "      <td>7050</td>\n",
       "      <td>14.3</td>\n",
       "      <td>12.8</td>\n",
       "      <td>2.8</td>\n",
       "      <td>2.9</td>\n",
       "      <td>0</td>\n",
       "      <td>50.670624</td>\n",
       "      <td>53.153343</td>\n",
       "    </tr>\n",
       "    <tr>\n",
       "      <th>2</th>\n",
       "      <td>44.243652</td>\n",
       "      <td>56.055761</td>\n",
       "      <td>47.812031</td>\n",
       "      <td>45.994811</td>\n",
       "      <td>52.184968</td>\n",
       "      <td>46.815408</td>\n",
       "      <td>56.700631</td>\n",
       "      <td>50.955588</td>\n",
       "      <td>48.621719</td>\n",
       "      <td>48.842843</td>\n",
       "      <td>...</td>\n",
       "      <td>1485</td>\n",
       "      <td>5200</td>\n",
       "      <td>3400</td>\n",
       "      <td>12.9</td>\n",
       "      <td>17.5</td>\n",
       "      <td>2.8</td>\n",
       "      <td>3.0</td>\n",
       "      <td>1</td>\n",
       "      <td>49.258245</td>\n",
       "      <td>50.387238</td>\n",
       "    </tr>\n",
       "    <tr>\n",
       "      <th>3</th>\n",
       "      <td>54.506160</td>\n",
       "      <td>43.096949</td>\n",
       "      <td>48.194335</td>\n",
       "      <td>49.043777</td>\n",
       "      <td>52.066448</td>\n",
       "      <td>47.843699</td>\n",
       "      <td>45.252310</td>\n",
       "      <td>58.812932</td>\n",
       "      <td>44.803851</td>\n",
       "      <td>54.514165</td>\n",
       "      <td>...</td>\n",
       "      <td>1480</td>\n",
       "      <td>4475</td>\n",
       "      <td>3600</td>\n",
       "      <td>11.4</td>\n",
       "      <td>12.8</td>\n",
       "      <td>3.4</td>\n",
       "      <td>2.6</td>\n",
       "      <td>0</td>\n",
       "      <td>49.381534</td>\n",
       "      <td>50.245391</td>\n",
       "    </tr>\n",
       "    <tr>\n",
       "      <th>4</th>\n",
       "      <td>58.549115</td>\n",
       "      <td>45.369817</td>\n",
       "      <td>53.538069</td>\n",
       "      <td>49.043777</td>\n",
       "      <td>48.932472</td>\n",
       "      <td>47.494057</td>\n",
       "      <td>52.376859</td>\n",
       "      <td>56.700631</td>\n",
       "      <td>55.874717</td>\n",
       "      <td>46.512996</td>\n",
       "      <td>...</td>\n",
       "      <td>1505</td>\n",
       "      <td>4950</td>\n",
       "      <td>6600</td>\n",
       "      <td>13.9</td>\n",
       "      <td>13.9</td>\n",
       "      <td>3.0</td>\n",
       "      <td>2.9</td>\n",
       "      <td>0</td>\n",
       "      <td>51.086650</td>\n",
       "      <td>51.791852</td>\n",
       "    </tr>\n",
       "  </tbody>\n",
       "</table>\n",
       "<p>5 rows × 77 columns</p>\n",
       "</div>"
      ],
      "text/plain": [
       "     r1_hero    r2_hero    r3_hero    r4_hero    r5_hero    d1_hero  \\\n",
       "0  48.541671  46.815408  52.903601  55.874717  53.113821  51.351490   \n",
       "1  50.091480  50.889262  49.526563  53.922056  48.923761  52.184968   \n",
       "2  44.243652  56.055761  47.812031  45.994811  52.184968  46.815408   \n",
       "3  54.506160  43.096949  48.194335  49.043777  52.066448  47.843699   \n",
       "4  58.549115  45.369817  53.538069  49.043777  48.932472  47.494057   \n",
       "\n",
       "     d2_hero    d3_hero    d4_hero    d5_hero  ...  dire_move_speed  \\\n",
       "0  44.686590  49.280997  52.381603  52.813405  ...             1440   \n",
       "1  59.731539  50.500274  50.955588  52.394347  ...             1480   \n",
       "2  56.700631  50.955588  48.621719  48.842843  ...             1485   \n",
       "3  45.252310  58.812932  44.803851  54.514165  ...             1480   \n",
       "4  52.376859  56.700631  55.874717  46.512996  ...             1505   \n",
       "\n",
       "   radiant_projectile_speed  dire_projectile_speed  radiant_str_gain  \\\n",
       "0                      4500                   5400              14.1   \n",
       "1                      5750                   7050              14.3   \n",
       "2                      5200                   3400              12.9   \n",
       "3                      4475                   3600              11.4   \n",
       "4                      4950                   6600              13.9   \n",
       "\n",
       "   dire_str_gain  radiant_turn_rate  dire_turn_rate  radiant_win  \\\n",
       "0           12.0                3.0             2.7            1   \n",
       "1           12.8                2.8             2.9            0   \n",
       "2           17.5                2.8             3.0            1   \n",
       "3           12.8                3.4             2.6            0   \n",
       "4           13.9                3.0             2.9            0   \n",
       "\n",
       "   radiant_win_mean  dire_win_mean  \n",
       "0         51.449844      50.102817  \n",
       "1         50.670624      53.153343  \n",
       "2         49.258245      50.387238  \n",
       "3         49.381534      50.245391  \n",
       "4         51.086650      51.791852  \n",
       "\n",
       "[5 rows x 77 columns]"
      ]
     },
     "execution_count": 214,
     "metadata": {},
     "output_type": "execute_result"
    }
   ],
   "source": [
    "train6.head()"
   ]
  },
  {
   "cell_type": "code",
   "execution_count": 202,
   "metadata": {},
   "outputs": [],
   "source": [
    "train6['radiant_win_mean'] = train6[['r1_hero',\n",
    "'r2_hero',\n",
    "'r3_hero',                 \n",
    "'r4_hero',\n",
    "'r5_hero']].mean(axis=1)"
   ]
  },
  {
   "cell_type": "code",
   "execution_count": 204,
   "metadata": {},
   "outputs": [],
   "source": [
    "train6['dire_win_mean'] = train6[['d1_hero',\n",
    "'d2_hero',\n",
    "'d3_hero',                 \n",
    "'d4_hero',\n",
    "'d5_hero']].mean(axis=1)"
   ]
  }
 ],
 "metadata": {
  "kernelspec": {
   "display_name": "Python 3",
   "language": "python",
   "name": "python3"
  },
  "language_info": {
   "codemirror_mode": {
    "name": "ipython",
    "version": 3
   },
   "file_extension": ".py",
   "mimetype": "text/x-python",
   "name": "python",
   "nbconvert_exporter": "python",
   "pygments_lexer": "ipython3",
   "version": "3.7.3"
  }
 },
 "nbformat": 4,
 "nbformat_minor": 2
}
